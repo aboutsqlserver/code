{
    "metadata": {
        "kernelspec": {
            "name": "SQL",
            "display_name": "SQL",
            "language": "sql"
        },
        "language_info": {
            "name": "sql",
            "version": ""
        }
    },
    "nbformat_minor": 2,
    "nbformat": 4,
    "cells": [
        {
            "cell_type": "markdown",
            "source": [
                "**Troubleshooting Scripts - Disk Performance**\n",
                "\n",
                "Dmitri V. Korotkevitch (MCM, MVP)\n",
                "\n",
                "email: [dk@aboutsqlserver.com](mailto:dk@aboutsqlserver.com)      blog: [https://aboutsqlserver.com](https://aboutsqlserver.com/) code: [https://github.com/aboutsqlserver/code](https://github.com/aboutsqlserver/code)\n",
                "\n",
                "SQL Server Advanced Troubleshooting and Performance Tuning (O'Reilly, 2022)      ISBN: 978-1098101923"
            ],
            "metadata": {
                "azdata_cell_guid": "7de3b2d5-5556-4c5d-93f8-e4ca5aca72e0"
            },
            "attachments": {}
        },
        {
            "cell_type": "markdown",
            "source": [
                "**I/O statistics since the time of last SQL Server restart** \n",
                "\n",
                "This may be useful in some cases; however, keep in mind that the numbers will be averaged across large time interval."
            ],
            "metadata": {
                "azdata_cell_guid": "e6c8d8bf-3cdb-43f1-988f-3d3b31b2b63d"
            },
            "attachments": {}
        },
        {
            "cell_type": "code",
            "source": [
                "SELECT \n",
                "\tfs.database_id AS [DB ID]\n",
                "\t,fs.file_id AS [File Id]\n",
                "\t,mf.name AS [File Name]\n",
                "\t,mf.physical_name AS [File Path]\n",
                "\t,mf.type_desc AS [Type]\n",
                "\t,fs.sample_ms AS [Time]\n",
                "\t,fs.num_of_reads AS [Reads]\n",
                "\t,fs.num_of_bytes_read AS [Read Bytes]\n",
                "\t,fs.num_of_writes AS [Writes]\n",
                "\t,fs.num_of_bytes_written AS [Written Bytes]\n",
                "\t,fs.num_of_reads + fs.num_of_writes AS [IO Count]\n",
                "\t,CONVERT(DECIMAL(5,2),100.0 * fs.num_of_bytes_read / \n",
                "\t\t(fs.num_of_bytes_read + fs.num_of_bytes_written)) AS [Read %]\n",
                "\t,CONVERT(DECIMAL(5,2),100.0 * fs.num_of_bytes_written / \n",
                "\t\t(fs.num_of_bytes_read + fs.num_of_bytes_written)) AS [Write %]\n",
                "\t,fs.io_stall_read_ms AS [Read Stall]\n",
                "\t,fs.io_stall_write_ms AS [Write Stall]\n",
                "\t,CASE WHEN fs.num_of_reads = 0 \n",
                "\t\tTHEN 0.000\n",
                "\t\tELSE CONVERT(DECIMAL(12,3),1.0 * \n",
                "\t\t\tfs.io_stall_read_ms / fs.num_of_reads) \n",
                "\tEND AS [Avg Read Stall] \n",
                "\t,CASE WHEN fs.num_of_writes = 0 \n",
                "\t\tTHEN 0.000\n",
                "\t\tELSE CONVERT(DECIMAL(12,3),1.0 * \n",
                "\t\t\tfs.io_stall_write_ms / fs.num_of_writes) \n",
                "\tEND AS [Avg Write Stall] \n",
                "FROM \n",
                "\tsys.dm_io_virtual_file_stats(null,null) fs JOIN \n",
                "\t\tsys.master_files mf WITH (NOLOCK) ON\n",
                "\t\t\tfs.database_id = mf.database_id AND\n",
                "\t\t\tfs.file_id = mf.file_id     \n",
                "\tJOIN sys.databases d WITH (NOLOCK) ON\n",
                "\t\td.database_id = fs.database_id  \n",
                "WHERE\n",
                "\tfs.num_of_reads + fs.num_of_writes > 0\n",
                "OPTION (MAXDOP 1, RECOMPILE);"
            ],
            "metadata": {
                "azdata_cell_guid": "0595d521-867b-4048-ac4b-eafae200098d",
                "language": "sql"
            },
            "outputs": [],
            "execution_count": null
        },
        {
            "cell_type": "markdown",
            "source": [
                "Getting snapshot of I/O subsystem statistics\n",
                "\n",
                "Change time in WAITFOR DELAY statement as needed. I usually start with 1-5 minutes in balanced workload.\n",
                "\n",
                "_Stall_ columns indicate latency of I/O requests. Lower is better"
            ],
            "metadata": {
                "azdata_cell_guid": "ba30e4e5-7b92-455f-abd0-e687098e9151"
            },
            "attachments": {}
        },
        {
            "cell_type": "code",
            "source": [
                "IF OBJECT_ID(N'tempdb..#Snapshot') IS NOT NULL\n",
                "\tDROP TABLE #Snapshot;\n",
                "GO\n",
                "\n",
                "CREATE TABLE #Snapshot\n",
                "(\n",
                "\tdatabase_id SMALLINT NOT NULL,\n",
                "\tfile_id SMALLINT NOT NULL,\n",
                "\tnum_of_reads BIGINT NOT NULL,\n",
                "\tnum_of_bytes_read BIGINT NOT NULL,\n",
                "\tio_stall_read_ms BIGINT NOT NULL,\n",
                "\tnum_of_writes BIGINT NOT NULL,\n",
                "\tnum_of_bytes_written BIGINT NOT NULL,\n",
                "\tio_stall_write_ms BIGINT NOT NULL\n",
                ");\n",
                "\n",
                "INSERT INTO #Snapshot(database_id,file_id,num_of_reads,num_of_bytes_read\n",
                "\t,io_stall_read_ms,num_of_writes,num_of_bytes_written,io_stall_write_ms)\n",
                "\tSELECT database_id,file_id,num_of_reads,num_of_bytes_read\n",
                "\t\t,io_stall_read_ms,num_of_writes,num_of_bytes_written,io_stall_write_ms\n",
                "\tFROM sys.dm_io_virtual_file_stats(NULL,NULL)\n",
                "OPTION (MAXDOP 1, RECOMPILE);\n",
                "\n",
                "-- Set test interval (1 minute). Use larger intervals as needed\n",
                "WAITFOR DELAY '00:01:00.000';\n",
                "\n",
                ";WITH Stats(db_id, file_id, Reads, ReadBytes, Writes\n",
                "\t,WrittenBytes, ReadStall, WriteStall)\n",
                "as\n",
                "(\n",
                "\tSELECT\n",
                "\t\ts.database_id, s.file_id\n",
                "\t\t,fs.num_of_reads - s.num_of_reads\n",
                "\t\t,fs.num_of_bytes_read - s.num_of_bytes_read\n",
                "\t\t,fs.num_of_writes - s.num_of_writes\n",
                "\t\t,fs.num_of_bytes_written - s.num_of_bytes_written\n",
                "\t\t,fs.io_stall_read_ms - s.io_stall_read_ms\n",
                "\t\t,fs.io_stall_write_ms - s.io_stall_write_ms\n",
                "\tFROM\n",
                "\t\t#Snapshot s JOIN  sys.dm_io_virtual_file_stats(NULL, NULL) fs ON\n",
                "\t\t\ts.database_id = fs.database_id and s.file_id = fs.file_id\n",
                ")\n",
                "SELECT\n",
                "\ts.db_id AS [DB ID], d.name AS [Database]\n",
                "\t,mf.name AS [File Name], mf.physical_name AS [File Path]\n",
                "\t,mf.type_desc AS [Type], s.Reads \n",
                "\t,CONVERT(DECIMAL(12,3), s.ReadBytes / 1048576.) AS [Read MB]\n",
                "\t,CONVERT(DECIMAL(12,3), s.WrittenBytes / 1048576.) AS [Written MB]\n",
                "\t,s.Writes, s.Reads + s.Writes AS [IO Count]\n",
                "\t,CONVERT(DECIMAL(5,2),100.0 * s.ReadBytes / \n",
                "\t\t\t(s.ReadBytes + s.WrittenBytes)) AS [Read %]\n",
                "\t,CONVERT(DECIMAL(5,2),100.0 * s.WrittenBytes / \n",
                "\t\t\t(s.ReadBytes + s.WrittenBytes)) AS [Write %]\n",
                "\t,s.ReadStall AS [Read Stall]\n",
                "\t,s.WriteStall AS [Write Stall]\n",
                "\t,CASE WHEN s.Reads = 0 \n",
                "\t\tTHEN 0.000\n",
                "\t\tELSE CONVERT(DECIMAL(12,3),1.0 * s.ReadStall / s.Reads) \n",
                "\tEND AS [Avg Read Stall] \n",
                "\t,CASE WHEN s.Writes = 0 \n",
                "\t\tTHEN 0.000\n",
                "\t\tELSE CONVERT(DECIMAL(12,3),1.0 * s.WriteStall / s.Writes) \n",
                "\tEND AS [Avg Write Stall] \n",
                "FROM\n",
                "\tStats s JOIN  sys.master_files mf WITH (NOLOCK) ON\n",
                "\t\ts.db_id = mf.database_id and\n",
                "\t\ts.file_id = mf.file_id\n",
                "\tJOIN  sys.databases d WITH (NOLOCK) ON \n",
                "\t\ts.db_id = d.database_id  \n",
                "WHERE -- Only display files with more than 20MB throughput. Increase with larger sample times\n",
                "\t(s.ReadBytes + s.WrittenBytes) > 20 * 1048576\n",
                "ORDER BY\n",
                "\ts.db_id, s.file_id\n",
                "OPTION (MAXDOP 1, RECOMPILE);\n",
                ""
            ],
            "metadata": {
                "azdata_cell_guid": "82d02cd7-b8f1-4306-be27-afb2b236ac1a",
                "language": "sql"
            },
            "outputs": [],
            "execution_count": null
        },
        {
            "cell_type": "markdown",
            "source": [
                "I/O related performace counters"
            ],
            "metadata": {
                "azdata_cell_guid": "bc82b5a0-2da9-4c23-a1c8-1145cc9c4f57"
            },
            "attachments": {}
        },
        {
            "cell_type": "code",
            "source": [
                "IF OBJECT_ID(N'tempdb..#PerfCntrs') IS NOT NULL\n",
                "\tDROP TABLE #PerfCntrs;\n",
                "GO\n",
                "\n",
                "CREATE TABLE #PerfCntrs\n",
                "(\n",
                "\tcollected_time DATETIME2(7) NOT NULL DEFAULT SYSDATETIME(),\n",
                "\tobject_name SYSNAME NOT NULL,\n",
                "\tcounter_name SYSNAME NOT NULL,\n",
                "\tinstance_name SYSNAME NOT NULL,\n",
                "\tcntr_value BIGINT NOT NULL,\n",
                "\tPRIMARY KEY (object_name, counter_name, instance_name)\n",
                ");\n",
                "\n",
                ";WITH Counters(obj_name, ctr_name)\n",
                "AS\n",
                "(\n",
                "\tSELECT C.obj_name, C.ctr_name\n",
                "\tFROM \n",
                "\t(\n",
                "\t\tVALUES\n",
                "\t\t\t('SQLServer:Buffer Manager','Checkpoint pages/sec')\n",
                "\t\t\t,('SQLServer:Buffer Manager','Background writer pages/sec')\n",
                "\t\t\t,('SQLServer:Buffer Manager','Lazy writes/sec')\n",
                "\t\t\t,('SQLServer:Buffer Manager','Page reads/sec')\n",
                "\t\t\t,('SQLServer:Buffer Manager','Page writes/sec')\n",
                "\t\t\t,('SQLServer:Buffer Manager','Readahead pages/sec')\n",
                "\t\t\t,('SQLServer:Databases','Log Flushes/sec') -- For all DBs\n",
                "\t\t\t,('SQLServer:Databases','Log Bytes Flushed/sec') -- For all DBs\n",
                "\t\t\t,('SQLServer:Databases','Log Flush Write Time (ms)') -- For all DBs\n",
                "\t\t\t,('SQLServer:Databases','Transactions/sec') -- For all DBs\n",
                "\t\t\t,('SQLServer:SQL Statistics','Batch Requests/sec') \n",
                "\t) C(obj_name, ctr_name)\n",
                ")\n",
                "INSERT INTO #PerfCntrs(object_name,counter_name,instance_name,cntr_value)\n",
                "\tSELECT \n",
                "\t\tpc.object_name, pc.counter_name, pc.instance_name, pc.cntr_value\n",
                "\tFROM \n",
                "\t\tsys.dm_os_performance_counters pc WITH (NOLOCK) JOIN Counters c ON\n",
                "\t\t\tpc.counter_name = c.ctr_name AND pc.object_name = c.obj_name;\n",
                "\n",
                "WAITFOR DELAY '00:00:01.000';\n",
                "\n",
                ";WITH Counters(obj_name, ctr_name)\n",
                "AS\n",
                "(\n",
                "\tSELECT C.obj_name, C.ctr_name\n",
                "\tFROM \n",
                "\t(\n",
                "\t\tVALUES\n",
                "\t\t\t('SQLServer:Buffer Manager','Checkpoint pages/sec')\n",
                "\t\t\t,('SQLServer:Buffer Manager','Background writer pages/sec')\n",
                "\t\t\t,('SQLServer:Buffer Manager','Lazy writes/sec')\n",
                "\t\t\t,('SQLServer:Buffer Manager','Page reads/sec')\n",
                "\t\t\t,('SQLServer:Buffer Manager','Page writes/sec')\n",
                "\t\t\t,('SQLServer:Buffer Manager','Readahead pages/sec')\n",
                "\t\t\t,('SQLServer:Databases','Log Flushes/sec') -- For all DBs\n",
                "\t\t\t,('SQLServer:Databases','Log Bytes Flushed/sec') -- For all DBs\n",
                "\t\t\t,('SQLServer:Databases','Log Flush Write Time (ms)') -- For all DBs\n",
                "\t\t\t,('SQLServer:Databases','Transactions/sec') -- For all DBs\n",
                "\t\t\t,('SQLServer:SQL Statistics','Batch Requests/sec') \n",
                "\t) C(obj_name, ctr_name)\n",
                ")\n",
                "SELECT \n",
                "\tpc.object_name, pc.counter_name, pc.instance_name\n",
                "\t,CASE pc.cntr_type\n",
                "\t\tWHEN 272696576 THEN \n",
                "\t\t\t(pc.cntr_value - h.cntr_value) * 1000 / \n",
                "\t\t\t\tDATEDIFF(MILLISECOND,h.collected_time,SYSDATETIME())\n",
                "\t\tWHEN 65792 THEN \n",
                "\t\t\tpc.cntr_value\n",
                "\t\tELSE NULL\n",
                "\tEND as cntr_value\n",
                "FROM \n",
                "\tsys.dm_os_performance_counters pc WITH (NOLOCK) JOIN Counters c ON\n",
                "\t\tpc.counter_name = c.ctr_name AND pc.object_name = c.obj_name\n",
                "\tJOIN #PerfCntrs h ON\n",
                "\t\tpc.object_name = h.object_name AND\n",
                "\t\tpc.counter_name = h.counter_name AND\n",
                "\t\tpc.instance_name = h.instance_name\n",
                "ORDER BY\n",
                "\tpc.object_name, pc.counter_name, pc.instance_name\n",
                "OPTION (RECOMPILE);"
            ],
            "metadata": {
                "azdata_cell_guid": "4d2ff1aa-f6cd-45a2-876d-d0d2a6a8f9a7",
                "language": "sql"
            },
            "outputs": [],
            "execution_count": null
        },
        {
            "cell_type": "markdown",
            "source": [
                "**List of I/O requests**\n",
                "\n",
                "io\\_pending column indicates if OS I/O API call has been completed and request is waiting for available scheduler to finalize. \n",
                "\n",
                "Undocumented io\\_pending\\_ms\\_ticks indicates the duration"
            ],
            "metadata": {
                "azdata_cell_guid": "0e34b5a5-991c-4611-8d62-0b45fcaf3f0e"
            },
            "attachments": {}
        },
        {
            "cell_type": "code",
            "source": [
                "SELECT    \n",
                "    ip.io_type\n",
                "    ,ip.io_pending\n",
                "    ,io_pending_ms_ticks\n",
                "    ,ip.scheduler_address\n",
                "    ,ip.io_handle\n",
                "    ,s.scheduler_id\n",
                "    ,s.cpu_id\n",
                "    ,s.pending_disk_io_count\n",
                "    ,er.session_id\n",
                "    ,er.command\n",
                "    ,er.cpu_time\n",
                "    ,SUBSTRING(\n",
                "        qt.text, \n",
                "        (er.statement_start_offset / 2) + 1,\n",
                "            ((CASE er.statement_end_offset\n",
                "                WHEN -1 THEN DATALENGTH(qt.text)\n",
                "                ELSE er.statement_end_offset\n",
                "            END - er.statement_start_offset) / 2) + 1\n",
                "    ) AS [statement]\n",
                "FROM \n",
                "    sys.dm_io_pending_io_requests ip WITH (NOLOCK)\n",
                "        LEFT JOIN sys.dm_os_schedulers s WITH (NOLOCK) ON \n",
                "            ip.scheduler_address = s.scheduler_address\n",
                "        LEFT JOIN sys.dm_exec_requests er ON \n",
                "            s.scheduler_id = er.scheduler_id\n",
                "        OUTER APPLY \n",
                "            sys.dm_exec_sql_text(er.sql_handle) qt\n",
                "OPTION (MAXDOP 1, RECOMPILE);"
            ],
            "metadata": {
                "azdata_cell_guid": "e64d6ab0-7e0c-4c1d-8ffe-ce0cd69b1443",
                "language": "sql"
            },
            "outputs": [],
            "execution_count": null
        },
        {
            "cell_type": "markdown",
            "source": [
                "**Page Life Expectancy (PLE)**"
            ],
            "metadata": {
                "azdata_cell_guid": "3b3e8999-2ae8-463b-b882-1e08f33c6682"
            },
            "attachments": {}
        },
        {
            "cell_type": "code",
            "source": [
                "SELECT object_name, counter_name, instance_name, cntr_value as [PLE(sec)]\n",
                "FROM sys.dm_os_performance_counters WITH (NOLOCK) \n",
                "WHERE counter_name = 'Page life expectancy'\n",
                "OPTION (MAXDOP 1, RECOMPILE);"
            ],
            "metadata": {
                "azdata_cell_guid": "55f87073-1031-475b-b56b-8d7f9def9333",
                "language": "sql"
            },
            "outputs": [],
            "execution_count": null
        },
        {
            "cell_type": "markdown",
            "source": [
                "**Suspect Pages**"
            ],
            "metadata": {
                "language": "sql",
                "azdata_cell_guid": "138e6dc9-a6d7-4849-97d6-c1d893518ff6"
            },
            "attachments": {}
        },
        {
            "cell_type": "code",
            "source": [
                "SELECT \n",
                "    DB_NAME(database_id) AS [database]\n",
                "    ,file_id\n",
                "    ,page_id\n",
                "    ,event_type\n",
                "    ,error_count\n",
                "    , last_update_date \n",
                "FROM msdb.dbo.suspect_pages WITH (NOLOCK)\n",
                "ORDER BY database_id \n",
                "OPTION (MAXDOP 1,RECOMPILE);"
            ],
            "metadata": {
                "language": "sql",
                "azdata_cell_guid": "77d91181-3238-4f15-89f7-c993b6d06476"
            },
            "outputs": [],
            "execution_count": null
        }
    ]
}