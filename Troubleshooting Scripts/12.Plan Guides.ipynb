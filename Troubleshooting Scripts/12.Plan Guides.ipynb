{
    "metadata": {
        "kernelspec": {
            "name": "SQL",
            "display_name": "SQL",
            "language": "sql"
        },
        "language_info": {
            "name": "sql",
            "version": ""
        }
    },
    "nbformat_minor": 2,
    "nbformat": 4,
    "cells": [
        {
            "cell_type": "markdown",
            "source": [
                "**Troubleshooting Scripts - Plan Guides**\n",
                "\n",
                "Dmitri V. Korotkevitch (MCM, MVP)\n",
                "\n",
                "email: [dk@aboutsqlserver.com](mailto:dk@aboutsqlserver.com)      blog: [https://aboutsqlserver.com](https://aboutsqlserver.com/) code: [https://github.com/aboutsqlserver/code](https://github.com/aboutsqlserver/code)\n",
                "\n",
                "SQL Server Advanced Troubleshooting and Performance Tuning (O'Reilly, 2022)      ISBN: 978-1098101923"
            ],
            "metadata": {
                "azdata_cell_guid": "abd2ce56-782f-4bba-a90d-cfb9a4eb6806"
            },
            "attachments": {}
        },
        {
            "cell_type": "markdown",
            "source": [
                "**Check Existing Plan Guides**\n",
                "\n",
                "If message column indicates that plan guide is not valid"
            ],
            "metadata": {
                "azdata_cell_guid": "a33388ee-06b1-4bba-85c3-92edcbf37109"
            },
            "attachments": {}
        },
        {
            "cell_type": "code",
            "source": [
                "IF OBJECT_ID(N'tempdb..#PG') IS NOT NULL \n",
                "\tDROP TABLE #PG;\n",
                "GO\n",
                "\n",
                "CREATE TABLE #PG\n",
                "(\n",
                "\tdatabase_id SMALLINT NOT NULL,\n",
                "\t[database] SYSNAME NOT NULL,\n",
                "\tplan_guide_id INT NOT NULL,\n",
                "\tname SYSNAME NOT NULL,\n",
                "\tscope_type_desc NVARCHAR(60) NULL,\n",
                "\tis_disabled BIT NOT NULL,\n",
                "\t[message] NVARCHAR(1024) NULL\n",
                ");\n",
                "\n",
                "EXEC master..sp_MSforeachdb \n",
                "N'USE[?];\n",
                "INSERT INTO #PG(database_id, [database], plan_guide_id, name, scope_type_desc, is_disabled, [message] )\n",
                "    SELECT DB_ID(''?''), DB_NAME(), pg.plan_guide_id, pg.name, pg.scope_type_desc, pg.is_disabled, vpg.[message]\n",
                "\tFROM \n",
                "\t\tsys.plan_guides pg WITH (NOLOCK)\n",
                "\t\t\tOUTER APPLY \n",
                "\t\t\t(\n",
                "\t\t\t\tSELECT [message]\n",
                "\t\t\t\tFROM sys.fn_validate_plan_guide(pg.plan_guide_id)\n",
                "\t\t\t) vpg';\n",
                "\n",
                "SELECT *\n",
                "FROM #PG\n",
                "ORDER BY [database_id], [name];"
            ],
            "metadata": {
                "azdata_cell_guid": "a58a92a3-7555-49bd-b981-d56c810c7f14",
                "language": "sql"
            },
            "outputs": [],
            "execution_count": null
        },
        {
            "cell_type": "markdown",
            "source": [
                "**Manage Plan Guides**\n",
                "\n",
                "@operations - DROP, DROP ALL, ENABLE, ENABLE ALL, DISABLE, DISABLE ALL\n",
                "\n",
                "@name - plan guide name"
            ],
            "metadata": {
                "language": "sql",
                "azdata_cell_guid": "009c8599-170c-41fb-8514-6c7c55a246cb"
            },
            "attachments": {}
        },
        {
            "cell_type": "code",
            "source": [
                "EXEC sp_control_plan_guide \n",
                "\t@operation = N'DROP'\n",
                "\t,@name = N'<name>';"
            ],
            "metadata": {
                "language": "sql",
                "azdata_cell_guid": "56fccbab-fad2-42ee-877d-c7714a5c45db"
            },
            "outputs": [],
            "execution_count": null
        },
        {
            "cell_type": "markdown",
            "source": [
                "**Enable FORCE parameterization**\n",
                "\n",
                "Replace statement and name as needed"
            ],
            "metadata": {
                "language": "sql",
                "azdata_cell_guid": "afbfa6cd-d678-4c4d-8cc4-ccd9df1e0e63"
            },
            "attachments": {}
        },
        {
            "cell_type": "code",
            "source": [
                "DECLARE\n",
                "\t@stmt NVARCHAR(MAX)\n",
                "\t,@params NVARCHAR(MAX)\n",
                "\t,@query NVARCHAR(MAX) = N'statement';\n",
                "\n",
                "EXEC sp_get_query_template\n",
                "\t@querytext = @query\n",
                "\t,@templatetext = @stmt OUTPUT\n",
                "\t,@params = @params OUTPUT;\n",
                "\n",
                "EXEC sp_create_plan_guide\n",
                "\t@type = N'TEMPLATE'\n",
                "\t,@name = N'forced_parameterization_plan_guide'\n",
                "\t,@stmt = @stmt\n",
                "\t,@module_or_batch = NULL\n",
                "\t,@params = @params\n",
                "\t,@hints = N'OPTION (PARAMETERIZATION FORCED)';\n",
                "GO"
            ],
            "metadata": {
                "language": "sql",
                "azdata_cell_guid": "cc1bd3b4-a454-486a-807c-5ff1db169ef6"
            },
            "outputs": [],
            "execution_count": null
        },
        {
            "cell_type": "markdown",
            "source": [
                "**Enable SIMPLE parameterization**\n",
                "\n",
                "Step 1 - get the statement and parameters from plan cache. Use correct filter in WHERE clause to find the statement"
            ],
            "metadata": {
                "language": "sql",
                "azdata_cell_guid": "406cde2c-60f7-4518-8725-0f54025ee40c"
            },
            "attachments": {}
        },
        {
            "cell_type": "code",
            "source": [
                "SELECT\n",
                "\tSUBSTRING(qt.text, (qs.statement_start_offset/2)+1,\n",
                "\t((\n",
                "\t\tCASE qs.statement_end_offset\n",
                "\t\t\tWHEN -1 THEN DATALENGTH(qt.text)\n",
                "\t\t\tELSE qs.statement_end_offset\n",
                "\t\tEND - qs.statement_start_offset)/2)+1) AS SQL\n",
                "\t,qt.text AS [Full SQL]\n",
                "FROM\n",
                "\tsys.dm_exec_query_stats qs WITH (NOLOCK)\n",
                "\t\tCROSS APPLY sys.dm_exec_sql_text(qs.sql_handle) qt\n",
                "WHERE\n",
                "\tqt.text LIKE '%filter%'\n",
                "OPTION(RECOMPILE, MAXDOP 1);"
            ],
            "metadata": {
                "language": "sql",
                "azdata_cell_guid": "dcfd4938-b2dc-4263-a714-b860b48609c0"
            },
            "outputs": [],
            "execution_count": null
        },
        {
            "cell_type": "markdown",
            "source": [
                "Step 2 - Create the plan guide. Replace @stmt and @params based on results from Step 1"
            ],
            "metadata": {
                "language": "sql",
                "azdata_cell_guid": "26fbee88-d802-4c2e-ba2e-7b7cec75772c"
            },
            "attachments": {}
        },
        {
            "cell_type": "code",
            "source": [
                "DECLARE\n",
                "\t@stmt NVARCHAR(MAX) = N'select OrderId from dbo . Orders where Fulfilled = @0'\n",
                "\t,@params NVARCHAR(MAX) = N'@0 int'\n",
                "\n",
                "EXEC sp_create_plan_guide\n",
                "\t@type = N'TEMPLATE'\n",
                "\t,@name = N'simple_parameterization_plan_guide'\n",
                "\t,@stmt = @stmt\n",
                "\t,@module_or_batch = NULL\n",
                "\t,@params = @params\n",
                "\t,@hints = N'OPTION (PARAMETERIZATION SIMPLE)';"
            ],
            "metadata": {
                "language": "sql",
                "azdata_cell_guid": "018510ae-76b0-4007-b893-edf47ab1e24c"
            },
            "outputs": [],
            "execution_count": null
        }
    ]
}