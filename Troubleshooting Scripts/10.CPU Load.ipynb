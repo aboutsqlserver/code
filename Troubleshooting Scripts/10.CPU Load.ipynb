{
    "metadata": {
        "kernelspec": {
            "name": "SQL",
            "display_name": "SQL",
            "language": "sql"
        },
        "language_info": {
            "name": "sql",
            "version": ""
        }
    },
    "nbformat_minor": 2,
    "nbformat": 4,
    "cells": [
        {
            "cell_type": "markdown",
            "source": [
                "**Troubleshooting Scripts - CPU Load**\n",
                "\n",
                "Dmitri V. Korotkevitch (MCM, MVP)\n",
                "\n",
                "email: [dk@aboutsqlserver.com](mailto:dk@aboutsqlserver.com)      blog: [https://aboutsqlserver.com](https://aboutsqlserver.com/) code: [https://github.com/aboutsqlserver/code](https://github.com/aboutsqlserver/code)\n",
                "\n",
                "SQL Server Advanced Troubleshooting and Performance Tuning (O'Reilly, 2022)      ISBN: 978-1098101923"
            ],
            "metadata": {
                "azdata_cell_guid": "11611140-23a5-4ee7-b727-120ba973f739"
            },
            "attachments": {}
        },
        {
            "cell_type": "markdown",
            "source": [
                "**Get Average CPU Load for the last 256 minutes**\n",
                "\n",
                "Use the \"**Get the list of active requests in the system\"** script from \"03.SQLOS DMVs.ipynb\" to detect currently executed sessions that consume the most CPU. Keep in mind that the script may filter out Service Broker activation procedures"
            ],
            "metadata": {
                "azdata_cell_guid": "4e523431-c0b6-43b6-828b-81d7904da631"
            },
            "attachments": {}
        },
        {
            "cell_type": "code",
            "source": [
                "DECLARE\n",
                "    @now BIGINT;\n",
                "\t \n",
                "SELECT @now = cpu_ticks / (cpu_ticks / ms_ticks) \n",
                "FROM sys.dm_os_sys_info WITH (NOLOCK);\n",
                "\n",
                ";WITH RingBufferData([timestamp], rec)\n",
                "AS\n",
                "(\n",
                "    SELECT [timestamp], CONVERT(XML, record) AS rec \n",
                "    FROM sys.dm_os_ring_buffers WITH (NOLOCK)\n",
                "    WHERE \n",
                "        ring_buffer_type = N'RING_BUFFER_SCHEDULER_MONITOR' AND\n",
                "        record LIKE N'%<SystemHealth>%'\n",
                ")\n",
                ",Data(id, SystemIdle, SQLCPU, [timestamp])\n",
                "AS \n",
                "(\n",
                "    SELECT\n",
                "        rec.value('(./Record/@id)[1]', 'int') \n",
                "        ,rec.value('(./Record/SchedulerMonitorEvent/SystemHealth/SystemIdle)[1]','int')\n",
                "        ,rec.value('(./Record/SchedulerMonitorEvent/SystemHealth/ProcessUtilization)[1]','int') \n",
                "        ,[timestamp] \n",
                "  FROM RingBufferData\n",
                ")\n",
                "SELECT TOP 256 \n",
                "    dateadd(MS, -1 * (@now - [timestamp]), getdate()) AS [Event Time] \n",
                "    ,SQLCPU AS [SQL Server CPU Utilization] \n",
                "    ,SystemIdle AS [System Idle]\n",
                "    ,100 - SystemIdle - SQLCPU AS [Other Processes CPU Utilization]\n",
                "FROM Data\n",
                "ORDER BY id desc\n",
                "OPTION (RECOMPILE, MAXDOP 1);"
            ],
            "metadata": {
                "azdata_cell_guid": "6e38036a-d79b-4d62-80b8-a54b3f1eedfd",
                "language": "sql"
            },
            "outputs": [],
            "execution_count": null
        },
        {
            "cell_type": "markdown",
            "source": [
                "**CPU load per-database**\n",
                "\n",
                "This uses plan cache so the output is imprecise"
            ],
            "metadata": {
                "azdata_cell_guid": "cf000431-a3c8-4a49-8d16-1ce219d78de2"
            },
            "attachments": {}
        },
        {
            "cell_type": "code",
            "source": [
                ";WITH DBCPU\n",
                "AS\n",
                "(\n",
                "    SELECT \n",
                "        pa.DBID, DB_NAME(pa.DBID) AS [DB]\n",
                "        ,SUM(qs.total_worker_time/1000) AS [CPUTime]\n",
                "    FROM \n",
                "        sys.dm_exec_query_stats qs WITH (NOLOCK)\n",
                "        CROSS APPLY \n",
                "        (\n",
                "            SELECT CONVERT(INT, value) AS [DBID] \n",
                "            FROM sys.dm_exec_plan_attributes(qs.plan_handle)\n",
                "            WHERE attribute = N'dbid'\n",
                "        ) AS pa\n",
                "    GROUP BY pa.DBID\n",
                ")\n",
                "SELECT \n",
                "    [DB]\n",
                "    ,[CPUTime] AS [CPU Time (ms)]\n",
                "    ,CONVERT(decimal(5,2), 1. *[CPUTime] / \n",
                "        SUM([CPUTime]) OVER() * 100.0) AS [CPU Percent]\n",
                "FROM DBCPU\n",
                "WHERE DBID <> 32767 -- ResourceDB\n",
                "ORDER BY [CPUTime] DESC\n",
                "OPTION (RECOMPILE, MAXDOP 1);"
            ],
            "metadata": {
                "azdata_cell_guid": "d8caf9c5-1554-4db4-9dd0-d354be66aff9",
                "language": "sql"
            },
            "outputs": [],
            "execution_count": null
        }
    ]
}