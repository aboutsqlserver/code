{
    "metadata": {
        "kernelspec": {
            "name": "SQL",
            "display_name": "SQL",
            "language": "sql"
        },
        "language_info": {
            "name": "sql",
            "version": ""
        }
    },
    "nbformat_minor": 2,
    "nbformat": 4,
    "cells": [
        {
            "cell_type": "markdown",
            "source": [
                "**Troubleshooting Scripts - Transaction Log**\n",
                "\n",
                "Dmitri V. Korotkevitch (MCM, MVP)\n",
                "\n",
                "email: [dk@aboutsqlserver.com](mailto:dk@aboutsqlserver.com)      blog: [https://aboutsqlserver.com](https://aboutsqlserver.com/) code: [https://github.com/aboutsqlserver/code](https://github.com/aboutsqlserver/code)\n",
                "\n",
                "SQL Server Advanced Troubleshooting and Performance Tuning (O'Reilly, 2022)      ISBN: 978-1098101923"
            ],
            "metadata": {
                "azdata_cell_guid": "7e17335b-b198-43b9-8379-a14359469a29"
            },
            "attachments": {}
        },
        {
            "cell_type": "markdown",
            "source": [
                "**Monitoring Availability Group Health and Performance**\n",
                "\n",
                "Run on primary replica"
            ],
            "metadata": {
                "azdata_cell_guid": "3d188dba-92eb-46a6-924e-c85c2791bd82"
            },
            "attachments": {}
        },
        {
            "cell_type": "code",
            "source": [
                "SELECT\n",
                "    ar.replica_server_name as [Replica]\n",
                "    ,DB_NAME(drs.database_id) AS DB\n",
                "    ,drs.synchronization_state_desc as [Sync State]\n",
                "    ,ars.synchronization_health_desc as [Health]\n",
                "    ,ar.availability_mode as [Syncronous]\n",
                "    ,drs.log_send_queue_size\n",
                "    ,drs.redo_queue_size\n",
                "    ,ISNULL(\n",
                "        GhostReplicaState.max_low_water_mark_for_ghosts -\n",
                "            drs.low_water_mark_for_ghosts,0\n",
                "    ) AS [water_mark_diff]\n",
                "    ,drs.log_send_rate\n",
                "    ,drs.redo_rate\n",
                "    ,pri.last_commit_time AS primary_last_commit_time\n",
                "    ,IIF(drs.is_primary_replica = 1\n",
                "        ,pri.last_commit_time\n",
                "        ,drs.last_commit_time\n",
                "    ) AS node_last_commit_time\n",
                "    ,IIF(drs.is_primary_replica = 1\n",
                "        ,0\n",
                "        ,DATEDIFF(ms,drs.last_commit_time,pri.last_commit_time)\n",
                "    ) AS commit_latency\n",
                "FROM \n",
                "    sys.availability_groups ag WITH (NOLOCK) \n",
                "        JOIN sys.availability_replicas ar WITH (NOLOCK) ON \n",
                "            ag.group_id = ar.group_id\n",
                "        JOIN sys.dm_hadr_availability_replica_states ars WITH (NOLOCK) ON \n",
                "            ar.replica_id = ars.replica_id\n",
                "        JOIN sys.dm_hadr_database_replica_states drs WITH (NOLOCK) ON \n",
                "            ag.group_id = drs.group_id AND \n",
                "            drs.replica_id = ars.replica_id\n",
                "        LEFT JOIN sys.dm_hadr_database_replica_states pri WITH (NOLOCK) ON \n",
                "            pri.is_primary_replica = 1 AND \n",
                "            drs.database_id = pri.database_id\n",
                "        OUTER APPLY\n",
                "         (\n",
                "            SELECT MAX(drs2.low_water_mark_for_ghosts) AS \n",
                "                    max_low_water_mark_for_ghosts\n",
                "            FROM sys.dm_hadr_database_replica_states drs2 WITH (NOLOCK)\n",
                "            WHERE drs.database_id = drs2.database_id\n",
                "        ) GhostReplicaState\n",
                "WHERE\t\n",
                "    ars.is_local = 0\n",
                "ORDER BY \n",
                "    replica_server_name, DB\n",
                "OPTION (RECOMPILE, MAXDOP 1)"
            ],
            "metadata": {
                "azdata_cell_guid": "b7c2daf5-e39f-48bf-ae86-f02837476abc",
                "language": "sql"
            },
            "outputs": [],
            "execution_count": null
        },
        {
            "cell_type": "markdown",
            "source": [
                "**Monitoring Availability Group Health and Performance** (SQL Server 2012)\n",
                "\n",
                "Run on primary replica"
            ],
            "metadata": {
                "language": "sql",
                "azdata_cell_guid": "5e97009c-7041-4549-87ad-a47ecba2770a"
            },
            "attachments": {}
        },
        {
            "cell_type": "code",
            "source": [
                "SELECT \n",
                "\tag.name AS [Availability Group]\n",
                "\t,ar.replica_server_name AS [Server]\n",
                "\t,DB_NAME(drs.database_id) AS [Database]\n",
                "\t,CASE WHEN ars.is_local = 1 THEN 'Local' ELSE 'Remote' END AS [DB Location]\n",
                "\t,ars.role_desc AS [Replica Role]\n",
                "\t,drs.synchronization_state_desc AS [Sync State]\n",
                "\t,ars.synchronization_health_desc AS [Health State]\n",
                "\t,drs.log_send_queue_size AS [Send Queue Size (KB)]\n",
                "\t,drs.log_send_rate AS [Send Rate KB/Sec]\n",
                "\t,drs.redo_queue_size AS [Redo Queue Size (KB)]\n",
                "\t,drs.redo_rate AS [Redo Rate KB/Sec]\n",
                "\t,drs.last_commit_time AS [Last Commit Time]\n",
                "FROM \n",
                "\tsys.availability_groups ag WITH (NOLOCK) \n",
                "\t\tJOIN sys.availability_replicas ar WITH (NOLOCK) ON \n",
                "\t\t\tag.group_id = ar.group_id \n",
                "\t\tJOIN sys.dm_hadr_availability_replica_states ars WITH (NOLOCK) ON \n",
                "\t\t\tar.replica_id = ars.replica_id\n",
                "\t\tJOIN sys.dm_hadr_database_replica_states drs WITH (NOLOCK) ON\n",
                "\t\t\tag.group_id = drs.group_id and drs.replica_id = ars.replica_id\n",
                "ORDER BY \n",
                "\tag.name, drs.database_id, ar.replica_server_name\n",
                "OPTION (MAXDOP 1, RECOMPILE);"
            ],
            "metadata": {
                "language": "sql",
                "azdata_cell_guid": "5795c38a-b890-4ebe-a8b8-8e4fed67eee0"
            },
            "outputs": [],
            "execution_count": null
        },
        {
            "cell_type": "markdown",
            "source": [
                "**Troubleshooting AG performance with xEvents**\n",
                "\n",
                "Run during troublleshooting only. It is expensive trace. Start and stop manually watching and correlating live data\n",
                "\n",
                "Session definition on primary node"
            ],
            "metadata": {
                "azdata_cell_guid": "54f9270a-dcb3-42e7-ae94-3ffe504ae0e0"
            },
            "attachments": {}
        },
        {
            "cell_type": "code",
            "source": [
                "-- Primary node\n",
                "IF EXISTS (SELECT * FROM sys.server_event_sessions WHERE name = 'AlwaysOn_Tracing_Primary')\n",
                "\tDROP EVENT SESSION AlwaysOn_Tracing_Primary ON SERVER;\n",
                "GO\n",
                "\n",
                "CREATE EVENT SESSION [AlwaysOn_Tracing_Primary] ON SERVER \n",
                "ADD EVENT sqlserver.hadr_capture_log_block,\n",
                "ADD EVENT sqlserver.hadr_db_commit_mgr_harden,\n",
                "ADD EVENT sqlserver.hadr_db_commit_mgr_harden_still_waiting,\n",
                "ADD EVENT sqlserver.hadr_log_block_compression,\n",
                "ADD EVENT sqlserver.hadr_log_block_send_complete,\n",
                "ADD EVENT sqlserver.hadr_receive_harden_lsn_message,\n",
                "ADD EVENT sqlserver.log_flush_complete,\n",
                "ADD EVENT sqlserver.log_flush_start\n",
                "ADD TARGET package0.ring_buffer(SET max_events_limit=(0),max_memory=(16384));"
            ],
            "metadata": {
                "azdata_cell_guid": "265a6f42-8ebf-4cc3-af1c-9f6ffcb53291",
                "language": "sql"
            },
            "outputs": [],
            "execution_count": null
        },
        {
            "cell_type": "markdown",
            "source": [
                "Session definition on secondary node"
            ],
            "metadata": {
                "azdata_cell_guid": "6bc18b82-7cce-4c82-ab4a-83d8bbad8689"
            },
            "attachments": {}
        },
        {
            "cell_type": "code",
            "source": [
                "-- Secondary node\n",
                "IF EXISTS (SELECT * FROM sys.server_event_sessions WHERE name = 'AlwaysOn_Tracing_Secondary')\n",
                "\tDROP EVENT SESSION AlwaysOn_Tracing_Secondary ON SERVER;\n",
                "GO\n",
                "\n",
                "CREATE EVENT SESSION [AlwaysOn_Tracing_Secondary] ON SERVER \n",
                "ADD EVENT sqlserver.hadr_apply_log_block,\n",
                "ADD EVENT sqlserver.hadr_log_block_decompression,\n",
                "ADD EVENT sqlserver.hadr_lsn_send_complete,\n",
                "ADD EVENT sqlserver.hadr_send_harden_lsn_message,\n",
                "ADD EVENT sqlserver.hadr_transport_receive_log_block_message,\n",
                "ADD EVENT sqlserver.log_flush_complete,\n",
                "ADD EVENT sqlserver.log_flush_start\n",
                "ADD TARGET package0.ring_buffer(SET max_events_limit=(0),max_memory=(16384));"
            ],
            "metadata": {
                "azdata_cell_guid": "3375f8f5-3e8d-4edb-8567-2c4e9868436f",
                "language": "sql"
            },
            "outputs": [],
            "execution_count": null
        }
    ]
}