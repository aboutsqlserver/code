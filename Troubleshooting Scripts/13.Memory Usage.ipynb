{
    "metadata": {
        "kernelspec": {
            "name": "SQL",
            "display_name": "SQL",
            "language": "sql"
        },
        "language_info": {
            "name": "sql",
            "version": ""
        }
    },
    "nbformat_minor": 2,
    "nbformat": 4,
    "cells": [
        {
            "cell_type": "markdown",
            "source": [
                "**Troubleshooting Scripts - Memory Usage**\n",
                "\n",
                "Dmitri V. Korotkevitch (MCM, MVP)\n",
                "\n",
                "email: [dk@aboutsqlserver.com](mailto:dk@aboutsqlserver.com)      blog: [https://aboutsqlserver.com](https://aboutsqlserver.com/) code: [https://github.com/aboutsqlserver/code](https://github.com/aboutsqlserver/code)\n",
                "\n",
                "SQL Server Advanced Troubleshooting and Performance Tuning (O'Reilly, 2022)      ISBN: 978-1098101923"
            ],
            "metadata": {
                "azdata_cell_guid": "a37486c4-10f7-480c-9bdb-423ab8a1476d"
            },
            "attachments": {}
        },
        {
            "cell_type": "markdown",
            "source": [
                "**Checking Minimum and Maximum Server Memory Settings**"
            ],
            "metadata": {
                "azdata_cell_guid": "d69c0342-9420-4366-a22c-02b181e03be0"
            },
            "attachments": {}
        },
        {
            "cell_type": "code",
            "source": [
                "SELECT *\n",
                "FROM sys.configurations WITH (NOLOCK)\n",
                "WHERE name IN (N'min server memory (MB)', 'max server memory (MB)')\n",
                "OPTION (MAXDOP 1, RECOMPILE);"
            ],
            "metadata": {
                "azdata_cell_guid": "518af86d-ad15-42af-9521-43f7d53dfdfc",
                "language": "sql"
            },
            "outputs": [],
            "execution_count": null
        },
        {
            "cell_type": "markdown",
            "source": [
                "**OS Memory Usage**"
            ],
            "metadata": {
                "azdata_cell_guid": "6a62a8f5-3614-4596-9692-35d965fa89d7"
            },
            "attachments": {}
        },
        {
            "cell_type": "code",
            "source": [
                "SELECT \n",
                "    total_physical_memory_kb / 1024 AS [Physical Memory (MB)] \n",
                "    ,available_physical_memory_kb / 1024 AS [Available Memory (MB)] \n",
                "    ,total_page_file_kb / 1024 AS [Page File Commit Limit (MB)]\n",
                "    ,available_page_file_kb / 1024 AS [Available Page File (MB)] \n",
                "    ,(total_page_file_kb - total_physical_memory_kb) / 1024 \n",
                "        AS [Physical Page File Size (MB)]\n",
                "    ,system_cache_kb / 1024 AS [System Cache (MB)]\n",
                "    /* Values: LOW/HIGH/STEADY */\n",
                "    ,system_memory_state_desc AS [System Memory State] \n",
                "FROM sys.dm_os_sys_memory WITH (NOLOCK)\n",
                "OPTION (RECOMPILE, MAXDOP 1);"
            ],
            "metadata": {
                "azdata_cell_guid": "ff29e705-81ca-4429-bf4a-d8d1a61fdb08",
                "language": "sql"
            },
            "outputs": [],
            "execution_count": null
        },
        {
            "cell_type": "markdown",
            "source": [
                "**SQL Server Memory Usage**"
            ],
            "metadata": {
                "azdata_cell_guid": "ee773d83-e853-4733-be9a-456da727e1d2"
            },
            "attachments": {}
        },
        {
            "cell_type": "code",
            "source": [
                "SELECT \n",
                "    physical_memory_in_use_kb / 1024 \n",
                "        AS [SQL Server Memory Usage (MB)]\n",
                "    ,locked_page_allocations_kb / 1024 \n",
                "        AS [SQL Server Locked Pages Allocation (MB)]\n",
                "    ,large_page_allocations_kb / 1024 \n",
                "        AS [SQL Server Large Pages Allocation (MB)] \n",
                "    ,memory_utilization_percentage\n",
                "    ,available_commit_limit_kb\n",
                "    ,process_physical_memory_low /* May indicate memory pressure */\n",
                "    ,process_virtual_memory_low\n",
                "FROM sys.dm_os_process_memory WITH (NOLOCK)\n",
                "OPTION (RECOMPILE, MAXDOP 1);"
            ],
            "metadata": {
                "azdata_cell_guid": "4aa524d3-038d-420a-b770-0d6dd4aab327",
                "language": "sql"
            },
            "outputs": [],
            "execution_count": null
        },
        {
            "cell_type": "markdown",
            "source": [
                "**NUMA Memory Usage**"
            ],
            "metadata": {
                "azdata_cell_guid": "0197d075-8f15-4c3d-9a33-26348440b8ad"
            },
            "attachments": {}
        },
        {
            "cell_type": "code",
            "source": [
                "SELECT \n",
                "\tn.node_id\n",
                "\t,n.node_state_desc\n",
                "\t,n.memory_node_id\n",
                "\t,n.online_scheduler_count\n",
                "\t,CONVERT(DECIMAL(16,3), m.pages_kb /1024.) AS committed_memory_mb\n",
                "\t,CONVERT(DECIMAL(16,3), m.locked_page_allocations_kb / 1024.) AS locked_memory_mb \n",
                "\t,CONVERT(DECIMAL(16,3), m.foreign_committed_kb / 1024.) AS foreign_memory_mb\n",
                "\t,CONVERT(DECIMAL(16,3), m.target_kb / 1024.) AS target_memory_mb -- SQL Server 2016+\n",
                "FROM \n",
                "\tsys.dm_os_nodes n WITH (NOLOCK)\n",
                "\t\tJOIN sys.dm_os_memory_nodes m WITH (NOLOCK) ON \n",
                "\t\t\tn.memory_node_id = m.memory_node_id\n",
                "WHERE \n",
                "\tn.node_state_desc <> N'ONLINE DAC' \n",
                "OPTION (MAXDOP 1, RECOMPILE);"
            ],
            "metadata": {
                "azdata_cell_guid": "8c1e0509-81c5-48cf-9d11-73081e2a3d78",
                "language": "sql"
            },
            "outputs": [],
            "execution_count": null
        },
        {
            "cell_type": "markdown",
            "source": [
                "**Page Life Expectancy**"
            ],
            "metadata": {
                "azdata_cell_guid": "dadb1f0b-7630-4ccf-83e9-006b7ad49031"
            },
            "attachments": {}
        },
        {
            "cell_type": "code",
            "source": [
                "SELECT object_name, counter_name, instance_name, cntr_value as [PLE(sec)]\n",
                "FROM sys.dm_os_performance_counters WITH (NOLOCK) \n",
                "WHERE counter_name = 'Page life expectancy'\n",
                "OPTION (MAXDOP 1,RECOMPILE);"
            ],
            "metadata": {
                "azdata_cell_guid": "28763fe6-6d0a-42cc-983f-f8ee4e566004",
                "language": "sql"
            },
            "outputs": [],
            "execution_count": null
        },
        {
            "cell_type": "markdown",
            "source": [
                "**Database Buffer Pool Usage**"
            ],
            "metadata": {
                "azdata_cell_guid": "458f58a9-236c-47de-9252-c3ae5ad74b01"
            },
            "attachments": {}
        },
        {
            "cell_type": "code",
            "source": [
                ";WITH BufPoolStats\n",
                "AS\n",
                "(\n",
                "    SELECT \n",
                "        database_id\n",
                "        ,COUNT_BIG(*) AS page_count\n",
                "        ,CONVERT(DECIMAL(16,3),COUNT_BIG(*) * 8 / 1024.) AS size_mb\n",
                "        ,AVG(read_microsec) AS avg_read_microsec\n",
                "    FROM \n",
                "        sys.dm_os_buffer_descriptors WITH (NOLOCK)\n",
                "    GROUP BY \n",
                "        database_id\n",
                ")\n",
                "SELECT \n",
                "    DB_NAME(database_id) AS [DB]\n",
                "    ,size_mb\n",
                "    ,page_count\n",
                "    ,avg_read_microsec\n",
                "    ,CONVERT(DECIMAL(5,2), 100. * (size_mb / SUM(size_mb) OVER())) \n",
                "        AS [Percent]\n",
                "FROM \n",
                "    BufPoolStats\n",
                "ORDER BY \n",
                "    size_mb DESC\n",
                "OPTION (MAXDOP 1, RECOMPILE);"
            ],
            "metadata": {
                "azdata_cell_guid": "3b234aef-ffc1-494e-86c4-03fd5a611ed6",
                "language": "sql"
            },
            "outputs": [],
            "execution_count": null
        },
        {
            "cell_type": "markdown",
            "source": [
                "**Memory Clerk Memory Usage**"
            ],
            "metadata": {
                "azdata_cell_guid": "68a3381d-2f57-4945-b96c-fc067264a38c"
            },
            "attachments": {}
        },
        {
            "cell_type": "code",
            "source": [
                "SELECT TOP 15\n",
                "    [type] AS [Memory Clerk]\n",
                "    ,CONVERT(DECIMAL(16,3),SUM(pages_kb) / 1024.0) AS [Memory Usage(MB)]\n",
                "FROM sys.dm_os_memory_clerks WITH (NOLOCK)\n",
                "GROUP BY [type]\n",
                "ORDER BY sum(pages_kb) DESC\n",
                "OPTION (RECOMPILE, MAXDOP 1);"
            ],
            "metadata": {
                "azdata_cell_guid": "e2a1c6c8-1e55-416e-8562-38d2059aa87e",
                "language": "sql"
            },
            "outputs": [],
            "execution_count": null
        },
        {
            "cell_type": "markdown",
            "source": [
                "**Analyzing memory grants.**\n",
                "\n",
                "Uncomment WHERE clause if you want to see pending requests only"
            ],
            "metadata": {
                "azdata_cell_guid": "38b29e8e-b31a-47b5-a27a-9cd3ec3565e5"
            },
            "attachments": {}
        },
        {
            "cell_type": "code",
            "source": [
                "SELECT\n",
                "    mg.session_id\n",
                "    ,t.text AS [sql]\n",
                "    ,qp.query_plan AS [plan]\n",
                "    ,mg.is_small  /* Resource Semaphore Queue information */\n",
                "    ,mg.dop\n",
                "    ,mg.query_cost\n",
                "    ,mg.request_time\n",
                "    ,mg.grant_time\n",
                "    ,mg.wait_time_ms\n",
                "    ,mg.required_memory_kb\n",
                "    ,mg.requested_memory_kb\n",
                "    ,mg.granted_memory_kb\n",
                "    ,mg.used_memory_kb\n",
                "    ,mg.max_used_memory_kb\n",
                "    ,mg.ideal_memory_kb\n",
                "FROM\n",
                "    sys.dm_exec_query_memory_grants mg WITH (NOLOCK)\n",
                "        CROSS APPLY sys.dm_exec_sql_text(mg.sql_handle) t\n",
                "        CROSS APPLY sys.dm_exec_query_plan(mg.plan_handle) qp\n",
                "--WHERE \n",
                "--    mg.grant_time IS NULL\n",
                "ORDER BY\n",
                "    mg.requested_memory_kb DESC\n",
                "OPTION (RECOMPILE, MAXDOP 1);\n",
                ""
            ],
            "metadata": {
                "azdata_cell_guid": "bb843747-0b1c-4ba9-ad9a-b709004d960b",
                "language": "sql"
            },
            "outputs": [],
            "execution_count": null
        }
    ]
}