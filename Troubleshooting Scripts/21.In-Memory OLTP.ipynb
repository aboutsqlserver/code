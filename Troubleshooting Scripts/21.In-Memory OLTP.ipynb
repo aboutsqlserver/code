{
    "metadata": {
        "kernelspec": {
            "name": "SQL",
            "display_name": "SQL",
            "language": "sql"
        },
        "language_info": {
            "name": "sql",
            "version": ""
        }
    },
    "nbformat_minor": 2,
    "nbformat": 4,
    "cells": [
        {
            "cell_type": "markdown",
            "source": [
                "**Troubleshooting Scripts - In-Memory OLTP**\n",
                "\n",
                "Dmitri V. Korotkevitch (MCM, MVP)\n",
                "\n",
                "email: [dk@aboutsqlserver.com](mailto:dk@aboutsqlserver.com)      blog: [https://aboutsqlserver.com](https://aboutsqlserver.com/) code: [https://github.com/aboutsqlserver/code](https://github.com/aboutsqlserver/code)\n",
                "\n",
                "SQL Server Advanced Troubleshooting and Performance Tuning (O'Reilly, 2022)      ISBN: 978-1098101923\n",
                "\n",
                "Look at companion materials from \"Expert SQL Server In-Memory OLTP\" book ([https://aboutsqlserver.com/publications](https://aboutsqlserver.com/publications)) for additional troubleshooting scripts"
            ],
            "metadata": {
                "azdata_cell_guid": "8aae5735-0c7c-4c44-a18e-e00f22ccc826"
            },
            "attachments": {}
        },
        {
            "cell_type": "markdown",
            "source": [
                "**Memory Consumption in memory-optimized tables.**"
            ],
            "metadata": {
                "azdata_cell_guid": "7fdbd454-d3a7-4f49-bad9-a6f66930457a"
            },
            "attachments": {}
        },
        {
            "cell_type": "code",
            "source": [
                "SELECT\n",
                "    ms.object_id\n",
                "    ,s.name + '.' + t.name AS [table]\n",
                "    ,ms.memory_allocated_for_table_kb\n",
                "    ,ms.memory_used_by_table_kb\n",
                "    ,ms.memory_allocated_for_indexes_kb\n",
                "    ,ms.memory_used_by_indexes_kb\n",
                "FROM\n",
                "    sys.dm_db_xtp_table_memory_stats ms WITH (NOLOCK)\n",
                "        LEFT OUTER JOIN sys.tables t WITH (NOLOCK) ON\n",
                "            ms.object_id = t.object_id\n",
                "        LEFT OUTER JOIN sys.schemas s WITH (NOLOCK) ON \n",
                "            t.schema_id = s.schema_id\n",
                "ORDER BY\n",
                "    ms.memory_allocated_for_table_kb DESC;"
            ],
            "metadata": {
                "azdata_cell_guid": "fff2e54d-00cd-42ec-86fc-548da740b674",
                "language": "sql"
            },
            "outputs": [
                {
                    "output_type": "display_data",
                    "data": {
                        "text/html": "Warning: The join order has been enforced because a local join hint is used."
                    },
                    "metadata": {}
                },
                {
                    "output_type": "display_data",
                    "data": {
                        "text/html": "(0 rows affected)"
                    },
                    "metadata": {}
                },
                {
                    "output_type": "display_data",
                    "data": {
                        "text/html": "Total execution time: 00:00:00.022"
                    },
                    "metadata": {}
                },
                {
                    "output_type": "execute_result",
                    "metadata": {},
                    "execution_count": 1,
                    "data": {
                        "application/vnd.dataresource+json": {
                            "schema": {
                                "fields": [
                                    {
                                        "name": "object_id"
                                    },
                                    {
                                        "name": "table"
                                    },
                                    {
                                        "name": "memory_allocated_for_table_kb"
                                    },
                                    {
                                        "name": "memory_used_by_table_kb"
                                    },
                                    {
                                        "name": "memory_allocated_for_indexes_kb"
                                    },
                                    {
                                        "name": "memory_used_by_indexes_kb"
                                    }
                                ]
                            },
                            "data": []
                        },
                        "text/html": [
                            "<table>",
                            "<tr><th>object_id</th><th>table</th><th>memory_allocated_for_table_kb</th><th>memory_used_by_table_kb</th><th>memory_allocated_for_indexes_kb</th><th>memory_used_by_indexes_kb</th></tr>",
                            "</table>"
                        ]
                    }
                }
            ],
            "execution_count": 1
        },
        {
            "cell_type": "markdown",
            "source": [
                "**Oldest in-memory OLTP transactions**"
            ],
            "metadata": {
                "language": "sql",
                "azdata_cell_guid": "49e34652-5539-44ad-aac1-bc3e4e62b779"
            },
            "attachments": {}
        },
        {
            "cell_type": "code",
            "source": [
                "SELECT TOP 10\n",
                "    t.session_id\n",
                "    ,t.transaction_id\n",
                "    ,t.begin_tsn\n",
                "    ,t.end_tsn\n",
                "    ,t.state_desc\n",
                "    ,t.result_desc\n",
                "    ,SUBSTRING(\n",
                "        qt.text\n",
                "        ,er.statement_start_offset / 2 + 1\n",
                "        ,(CASE er.statement_end_offset\n",
                "             WHEN -1 THEN datalength(qt.text)\n",
                "             ELSE er.statement_end_offset\n",
                "          END - er.statement_start_offset\n",
                "        ) / 2 +1\n",
                "    ) AS SQL\n",
                "FROM \n",
                "    sys.dm_db_xtp_transactions t WITH (NOLOCK)\n",
                "        LEFT OUTER JOIN sys.dm_exec_requests er ON\n",
                "            t.session_id = er.session_id\n",
                "        CROSS APPLY sys.dm_exec_sql_text(er.sql_handle) qt\n",
                "WHERE\n",
                "    t.state IN (0,3) /* ACTIVE/VALIDATING */\n",
                "ORDER BY \n",
                "    t.begin_tsn\n",
                "OPTION (RECOMPILE, MAXDOP 1);"
            ],
            "metadata": {
                "language": "sql",
                "azdata_cell_guid": "4bb4e1a8-bc48-4e29-9289-1fda698dc1c9"
            },
            "outputs": [
                {
                    "output_type": "display_data",
                    "data": {
                        "text/html": "(0 rows affected)"
                    },
                    "metadata": {}
                },
                {
                    "output_type": "display_data",
                    "data": {
                        "text/html": "Total execution time: 00:00:00.005"
                    },
                    "metadata": {}
                },
                {
                    "output_type": "execute_result",
                    "metadata": {},
                    "execution_count": 2,
                    "data": {
                        "application/vnd.dataresource+json": {
                            "schema": {
                                "fields": [
                                    {
                                        "name": "session_id"
                                    },
                                    {
                                        "name": "transaction_id"
                                    },
                                    {
                                        "name": "begin_tsn"
                                    },
                                    {
                                        "name": "end_tsn"
                                    },
                                    {
                                        "name": "state_desc"
                                    },
                                    {
                                        "name": "result_desc"
                                    },
                                    {
                                        "name": "SQL"
                                    }
                                ]
                            },
                            "data": []
                        },
                        "text/html": [
                            "<table>",
                            "<tr><th>session_id</th><th>transaction_id</th><th>begin_tsn</th><th>end_tsn</th><th>state_desc</th><th>result_desc</th><th>SQL</th></tr>",
                            "</table>"
                        ]
                    }
                }
            ],
            "execution_count": 2
        }
    ]
}