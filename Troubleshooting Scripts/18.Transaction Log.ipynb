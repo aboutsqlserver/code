{
    "metadata": {
        "kernelspec": {
            "name": "SQL",
            "display_name": "SQL",
            "language": "sql"
        },
        "language_info": {
            "name": "sql",
            "version": ""
        }
    },
    "nbformat_minor": 2,
    "nbformat": 4,
    "cells": [
        {
            "cell_type": "markdown",
            "source": [
                "**Troubleshooting Scripts - Transaction Log**\n",
                "\n",
                "Dmitri V. Korotkevitch (MCM, MVP)\n",
                "\n",
                "email: [dk@aboutsqlserver.com](mailto:dk@aboutsqlserver.com)      blog: [https://aboutsqlserver.com](https://aboutsqlserver.com/) code: [https://github.com/aboutsqlserver/code](https://github.com/aboutsqlserver/code)\n",
                "\n",
                "SQL Server Advanced Troubleshooting and Performance Tuning (O'Reilly, 2022)      ISBN: 978-1098101923"
            ],
            "metadata": {
                "azdata_cell_guid": "e09dfc44-6658-4fb5-aec5-3e2883a7e51c"
            },
            "attachments": {}
        },
        {
            "cell_type": "markdown",
            "source": [
                "**Analyzing VLFs in database transaction log**\n",
                "\n",
                "You would like to see reasonable number (a few hundreds max) of evenly sized VLF files. \n",
                "\n",
                "SQL Server 2016 SP2+. Use DBCC LOGINFO on old version of SQL Server"
            ],
            "metadata": {
                "azdata_cell_guid": "9c029bf1-08ac-4075-abcc-4b3da315403e"
            },
            "attachments": {}
        },
        {
            "cell_type": "code",
            "source": [
                "SELECT \n",
                "    COUNT(*) as [VLF Count]\n",
                "    ,MIN(vlf_size_mb) as [Min VLF Size (MB)]\n",
                "    ,MAX(vlf_size_mb) as [Max VLF Size (MB)]\n",
                "    ,AVG(vlf_size_mb) as [Avg VLF Size (MB)]\n",
                "FROM sys.dm_db_log_info(DB_ID())\n",
                "OPTION (RECOMPILE, MAXDOP 1);"
            ],
            "metadata": {
                "azdata_cell_guid": "388a6cef-d438-42c2-a858-2d1f2f2c77cf",
                "language": "sql"
            },
            "outputs": [],
            "execution_count": null
        },
        {
            "cell_type": "code",
            "source": [
                "DBCC LOGINFO"
            ],
            "metadata": {
                "language": "sql",
                "azdata_cell_guid": "1428c985-2539-4ad1-b70e-df39b241ab1b"
            },
            "outputs": [],
            "execution_count": null
        },
        {
            "cell_type": "markdown",
            "source": [
                "**Getting log free space and truncation status for all databases**"
            ],
            "metadata": {
                "azdata_cell_guid": "5401f2ec-f140-4866-81d4-4e5d954f2c0a"
            },
            "attachments": {}
        },
        {
            "cell_type": "code",
            "source": [
                "IF OBJECT_ID('tempdb..#SpaceUsed') IS NOT NULL\n",
                "    DROP TABLE #SpaceUsed;\n",
                "GO\n",
                "\n",
                "CREATE TABLE #SpaceUsed\n",
                "(\n",
                "    database_id SMALLINT NOT NULL,\n",
                "    file_id SMALLINT NOT NULL,\n",
                "    space_used DECIMAL(15,3) NOT NULL,\n",
                "    PRIMARY KEY(database_id, file_id)\n",
                ");\n",
                " \n",
                "EXEC master..sp_MSforeachdb \n",
                "N'USE[?];\n",
                "INSERT INTO #SpaceUsed(database_id, file_id, space_used)\n",
                "    SELECT DB_ID(''?''), file_id,\n",
                "         (size - CONVERT(INT,FILEPROPERTY(name, ''SpaceUsed''))) / 128.\n",
                "FROM sys.database_files\n",
                "WHERE type = 1;';\n",
                " \n",
                "SELECT \n",
                "    d.database_id, d.name, d.recovery_model_desc\n",
                "    ,d.state_desc, d.log_reuse_wait_desc, m.physical_name\n",
                "    ,m.is_percent_growth\n",
                "    ,IIF(m.is_percent_growth = 1,m.growth,CONVERT(DECIMAL(15,3),m.growth / 128.0)) AS [Growth (MB or %)]\n",
                "    ,CONVERT(DECIMAL(15,3),m.size / 128.0) AS [Size (MB)]\n",
                "    ,IIF(m.max_size = -1,-1,CONVERT(DECIMAL(15,3),m.max_size / 128.0)) AS [Max Size(MB)]\n",
                "    ,s.space_used as [Space Used(MB)]\n",
                "FROM \n",
                "    sys.databases d WITH (NOLOCK) \n",
                "        JOIN sys.master_files m WITH (NOLOCK) ON\n",
                "        d.database_id = m.database_id\n",
                "    LEFT OUTER JOIN #SpaceUsed s ON\n",
                "        s.database_id = m.database_id AND\n",
                "        s.file_id = m.file_id\n",
                "ORDER BY \n",
                "    d.database_id;"
            ],
            "metadata": {
                "azdata_cell_guid": "9a43d485-a0f5-4373-832f-388ca495a34e",
                "language": "sql"
            },
            "outputs": [],
            "execution_count": null
        },
        {
            "cell_type": "markdown",
            "source": [
                "**Get the list of active transactions**\n",
                "\n",
                "  \n",
                "\n",
                "You can kill the session that prevents log truncation if needed"
            ],
            "metadata": {
                "azdata_cell_guid": "bdfe7ccf-6b65-4518-8287-b041f28bcf6e"
            },
            "attachments": {}
        },
        {
            "cell_type": "code",
            "source": [
                "SELECT\n",
                "    dt.database_id\n",
                "    ,DB_NAME(dt.database_id) as [DB]\n",
                "    ,st.session_id\n",
                "    ,CASE at.transaction_state\n",
                "        WHEN 0 THEN 'Not Initialized'\n",
                "        WHEN 1 THEN 'Not Started'\n",
                "        WHEN 2 THEN 'Active'\n",
                "        WHEN 3 THEN 'Ended (R/O)'\n",
                "        WHEN 4 THEN 'Commit Initialize'\n",
                "        WHEN 5 THEN 'Prepared'\n",
                "        WHEN 6 THEN 'Committed'\n",
                "        WHEN 7 THEN 'Rolling Back'\n",
                "        WHEN 8 THEN 'Rolled Back'\n",
                "     END AS [State]\n",
                "    ,at.transaction_begin_time\n",
                "    ,es.login_name\n",
                "    ,ec.client_net_address\n",
                "    ,ec.connect_time\n",
                "    ,dt.database_transaction_log_bytes_used\n",
                "    ,dt.database_transaction_log_bytes_reserved\n",
                "    ,er.status\n",
                "    ,er.wait_type\n",
                "    ,er.last_wait_type\n",
                "    ,sql.text AS [SQL]\n",
                "FROM\n",
                "    sys.dm_tran_database_transactions dt WITH (NOLOCK)\n",
                "        JOIN sys.dm_tran_session_transactions st WITH (NOLOCK) ON\n",
                "            dt.transaction_id = st.transaction_id\n",
                "        JOIN sys.dm_tran_active_transactions at WITH (NOLOCK) ON\n",
                "            dt.transaction_id = at.transaction_id\n",
                "        JOIN sys.dm_exec_sessions es WITH (NOLOCK) ON\n",
                "            st.session_id = es.session_id\n",
                "        JOIN sys.dm_exec_connections ec WITH (NOLOCK) ON\n",
                "            st.session_id = ec.session_id\n",
                "        LEFT OUTER JOIN sys.dm_exec_requests er WITH (NOLOCK) ON\n",
                "            st.session_id = er.session_id\n",
                "        CROSS APPLY\n",
                "            sys.dm_exec_sql_text(ec.most_recent_sql_handle) sql\n",
                "ORDER BY\n",
                "    dt.database_transaction_begin_time\n",
                "OPTION (RECOMPILE, MAXDOP 1);"
            ],
            "metadata": {
                "azdata_cell_guid": "8f8b5328-8b8c-4f21-8c2a-b8cb6fe78baa",
                "language": "sql"
            },
            "outputs": [],
            "execution_count": null
        }
    ]
}