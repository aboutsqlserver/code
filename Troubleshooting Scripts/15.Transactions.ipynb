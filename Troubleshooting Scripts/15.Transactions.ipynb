{
    "metadata": {
        "kernelspec": {
            "name": "SQL",
            "display_name": "SQL",
            "language": "sql"
        },
        "language_info": {
            "name": "sql",
            "version": ""
        }
    },
    "nbformat_minor": 2,
    "nbformat": 4,
    "cells": [
        {
            "cell_type": "markdown",
            "source": [
                "**Troubleshooting Scripts - Active Transactions**\n",
                "\n",
                "Dmitri V. Korotkevitch (MCM, MVP)\n",
                "\n",
                "email: [dk@aboutsqlserver.com](mailto:dk@aboutsqlserver.com)      blog: [https://aboutsqlserver.com](https://aboutsqlserver.com/) code: [https://github.com/aboutsqlserver/code](https://github.com/aboutsqlserver/code)\n",
                "\n",
                "SQL Server Advanced Troubleshooting and Performance Tuning (O'Reilly, 2022)      ISBN: 978-1098101923"
            ],
            "metadata": {
                "azdata_cell_guid": "5e0cf0b3-3fc2-4dd2-a098-5ed22bafa8f1"
            },
            "attachments": {}
        },
        {
            "cell_type": "markdown",
            "source": [
                "**Get the list of active transactions**\n",
                "\n",
                "You can kill the session that prevents log truncation if needed"
            ],
            "metadata": {
                "azdata_cell_guid": "3c3c1935-2200-4e37-9018-f1bedf2f00ea"
            },
            "attachments": {}
        },
        {
            "cell_type": "code",
            "source": [
                "SELECT\n",
                "    dt.database_id\n",
                "    ,DB_NAME(dt.database_id) as [DB]\n",
                "    ,st.session_id\n",
                "    ,CASE at.transaction_state\n",
                "        WHEN 0 THEN 'Not Initialized'\n",
                "        WHEN 1 THEN 'Not Started'\n",
                "        WHEN 2 THEN 'Active'\n",
                "        WHEN 3 THEN 'Ended (R/O)'\n",
                "        WHEN 4 THEN 'Commit Initialize'\n",
                "        WHEN 5 THEN 'Prepared'\n",
                "        WHEN 6 THEN 'Committed'\n",
                "        WHEN 7 THEN 'Rolling Back'\n",
                "        WHEN 8 THEN 'Rolled Back'\n",
                "     END AS [State]\n",
                "    ,at.transaction_begin_time\n",
                "    ,es.login_name\n",
                "    ,ec.client_net_address\n",
                "    ,ec.connect_time\n",
                "    ,dt.database_transaction_log_bytes_used\n",
                "    ,dt.database_transaction_log_bytes_reserved\n",
                "    ,er.status\n",
                "    ,er.wait_type\n",
                "    ,er.last_wait_type\n",
                "    ,sql.text AS [SQL]\n",
                "FROM\n",
                "    sys.dm_tran_database_transactions dt WITH (NOLOCK)\n",
                "        JOIN sys.dm_tran_session_transactions st WITH (NOLOCK) ON\n",
                "            dt.transaction_id = st.transaction_id\n",
                "        JOIN sys.dm_tran_active_transactions at WITH (NOLOCK) ON\n",
                "            dt.transaction_id = at.transaction_id\n",
                "        JOIN sys.dm_exec_sessions es WITH (NOLOCK) ON\n",
                "            st.session_id = es.session_id\n",
                "        JOIN sys.dm_exec_connections ec WITH (NOLOCK) ON\n",
                "            st.session_id = ec.session_id\n",
                "        LEFT OUTER JOIN sys.dm_exec_requests er WITH (NOLOCK) ON\n",
                "            st.session_id = er.session_id\n",
                "        CROSS APPLY\n",
                "            sys.dm_exec_sql_text(ec.most_recent_sql_handle) sql\n",
                "ORDER BY\n",
                "    dt.database_transaction_begin_time\n",
                "OPTION (RECOMPILE, MAXDOP 1);"
            ],
            "metadata": {
                "azdata_cell_guid": "33887cdc-33d9-4192-ab4f-b076ddb65081",
                "language": "sql"
            },
            "outputs": [],
            "execution_count": null
        },
        {
            "cell_type": "markdown",
            "source": [
                "**Detecting oldest transactions that use row-versioning**\n",
                "\n",
                "In Availability Groups, row-versioning transactions on secondaries may defer version store clean-up on primary. Run the query on all replicas when you do the troubleshooting"
            ],
            "metadata": {
                "azdata_cell_guid": "c77def94-2c37-4af0-937d-39e15539febe"
            },
            "attachments": {}
        },
        {
            "cell_type": "code",
            "source": [
                "SELECT TOP 5\n",
                "    at.transaction_id\n",
                "    ,at.elapsed_time_seconds\n",
                "    ,at.session_id\n",
                "    ,s.login_time\n",
                "    ,s.login_name\n",
                "    ,s.host_name\n",
                "    ,s.program_name\n",
                "    ,s.last_request_start_time\n",
                "    ,s.last_request_end_time\n",
                "    ,er.status\n",
                "    ,er.wait_type\n",
                "    ,er.wait_time\n",
                "    ,er.blocking_session_id\n",
                "    ,er.last_wait_type\n",
                "    ,st.text AS [SQL]\n",
                "FROM\n",
                "    sys.dm_tran_active_snapshot_database_transactions at WITH (NOLOCK)\n",
                "        JOIN sys.dm_exec_sessions s WITH (NOLOCK) on \n",
                "            at.session_id = s.session_id\n",
                "        LEFT JOIN sys.dm_exec_requests er WITH (NOLOCK) on\n",
                "            at.session_id = er.session_id\n",
                "        OUTER APPLY\n",
                "            sys.dm_exec_sql_text(er.sql_handle) st\n",
                "ORDER BY\n",
                "    at.elapsed_time_seconds DESC\n",
                "OPTION (MAXDOP 1, RECOMPILE);"
            ],
            "metadata": {
                "azdata_cell_guid": "02d471c7-f455-4603-bf83-181da3564b1e",
                "language": "sql"
            },
            "outputs": [],
            "execution_count": null
        }
    ]
}