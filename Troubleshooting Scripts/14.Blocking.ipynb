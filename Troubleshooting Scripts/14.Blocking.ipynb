{
    "metadata": {
        "kernelspec": {
            "name": "SQL",
            "display_name": "SQL",
            "language": "sql"
        },
        "language_info": {
            "name": "sql",
            "version": ""
        }
    },
    "nbformat_minor": 2,
    "nbformat": 4,
    "cells": [
        {
            "cell_type": "markdown",
            "source": [
                "**Troubleshooting Scripts - Locking, Blocking and Concurrency**\n",
                "\n",
                "Dmitri V. Korotkevitch (MCM, MVP)\n",
                "\n",
                "email: [dk@aboutsqlserver.com](mailto:dk@aboutsqlserver.com)      blog: [https://aboutsqlserver.com](https://aboutsqlserver.com/) code: [https://github.com/aboutsqlserver/code](https://github.com/aboutsqlserver/code)\n",
                "\n",
                "SQL Server Advanced Troubleshooting and Performance Tuning (O'Reilly, 2022)      ISBN: 978-1098101923\n",
                "\n",
                "**Blocking Monitoring Framework: [https://github.com/aboutsqlserver/code/bmframework](https://github.com/aboutsqlserver/code/bmframework)**"
            ],
            "metadata": {
                "azdata_cell_guid": "fa251079-bdf7-46d1-8172-7b72e65f0a0a"
            },
            "attachments": {}
        },
        {
            "cell_type": "markdown",
            "source": [
                "**Enable Blocked Process Threshold**\n",
                "\n",
                "Do not set below 5 seconds"
            ],
            "metadata": {
                "azdata_cell_guid": "ac1e832c-ddca-45b0-8902-65fddc5c4f1f"
            },
            "attachments": {}
        },
        {
            "cell_type": "code",
            "source": [
                "EXEC sp_configure 'show advanced options', 1;\n",
                "GO\n",
                "RECONFIGURE;\n",
                "GO\n",
                "EXEC sp_configure 'blocked process threshold', 10; -- in seconds\n",
                "GO\n",
                "RECONFIGURE;\n",
                "GO"
            ],
            "metadata": {
                "azdata_cell_guid": "632b5161-6913-4758-ba74-9694de95b1e3",
                "language": "sql"
            },
            "outputs": [],
            "execution_count": null
        },
        {
            "cell_type": "markdown",
            "source": [
                "**Detailed information about all lock requests**\n",
                "\n",
                "- This needs to be executed in context of database where blocking occurs to resolve object names\n",
                "- This may be blocked with Schema Modification locks involved due to OBJECT\\_NAME() function in the script. You can comment it as needed\n",
                "- For blockers, SQL and execution plan represent currently running statement rather than the one that caused the blocking. they will be NULL if session is idling\n",
                "- It filters out locks from the current session (remove WHERE clause when you run it in demos)"
            ],
            "metadata": {
                "azdata_cell_guid": "71e8b3cd-117e-4975-a769-a2b7b1a19077"
            },
            "attachments": {}
        },
        {
            "cell_type": "code",
            "source": [
                "--USE SQLServerInternals\n",
                "--GO\n",
                "\n",
                "SELECT\n",
                "   tl1.resource_type AS [Resource Type]\n",
                "   ,DB_NAME(tl1.resource_database_id) AS [DB]\n",
                "   ,CASE tl1.resource_type\n",
                "      WHEN 'OBJECT' THEN \n",
                "         OBJECT_NAME(tl1.resource_associated_entity_id,tl1.resource_database_id)\n",
                "      WHEN 'DATABASE' THEN\n",
                "         'DATABASE'\n",
                "      ELSE\n",
                "         CASE\n",
                "            WHEN tl1.resource_database_id = db_id() \n",
                "            THEN\n",
                "            (\n",
                "               SELECT OBJECT_NAME(object_id,tl1.resource_database_id)\n",
                "               FROM sys.partitions WITH (NOLOCK)\n",
                "               WHERE hobt_id = tl1.resource_associated_entity_id\n",
                "            )\n",
                "            ELSE\n",
                "               '(Run under DB context)'\n",
                "         END\n",
                "   END AS [Object]\n",
                "   ,tl1.resource_description AS [Resource]\n",
                "   ,tl1.request_session_id AS [Session]\n",
                "   ,tl1.request_mode AS [Mode]\n",
                "   ,tl1.request_status AS [Status]\n",
                "   ,wt.wait_duration_ms AS [Wait (ms)]\n",
                "   ,es.login_time\n",
                "   ,es.original_login_name\n",
                "   ,es.host_name\n",
                "   ,es.program_name\n",
                "   ,c.client_net_address   \n",
                "   ,query.sql\n",
                "   ,query.query_plan\n",
                "FROM\n",
                "   sys.dm_tran_locks tl1 WITH (NOLOCK) \n",
                "      LEFT OUTER JOIN sys.dm_os_waiting_tasks wt WITH (NOLOCK) ON\n",
                "         tl1.lock_owner_address =wt.resource_address AND \n",
                "         tl1.request_status = 'WAIT'\n",
                "      LEFT JOIN sys.dm_exec_connections c WITH (NOLOCK) ON \n",
                "         tl1.request_session_id = c.session_id \n",
                "      LEFT JOIN sys.dm_exec_sessions es WITH (NOLOCK) ON \n",
                "         tl1.request_session_id = es.session_id         \n",
                "      OUTER APPLY\n",
                "      (\n",
                "         SELECT\n",
                "            SUBSTRING(S.text, (er.statement_start_offset/2)+1,\n",
                "            ((\n",
                "               CASE er.statement_end_offset\n",
                "                  WHEN -1 THEN DATALENGTH(S.text)\n",
                "                  ELSE er.statement_end_offset\n",
                "               END - er.statement_start_offset)/2)+1\n",
                "            ) AS [sql]\n",
                "            ,TRY_CAST(qp.query_plan AS XML) AS query_plan\n",
                "         FROM \n",
                "            sys.dm_exec_requests er WITH (NOLOCK)\n",
                "               CROSS APPLY sys.dm_exec_sql_text(er.sql_handle) S\n",
                "               OUTER APPLY sys.dm_exec_text_query_plan\n",
                "               (\n",
                "                  er.plan_handle\n",
                "                  ,er.statement_start_offset\n",
                "                  ,er.statement_end_offset\n",
                "               ) qp\n",
                "         WHERE\n",
                "            tl1.request_session_id = er.session_id\n",
                "      ) query\n",
                "WHERE\n",
                "   tl1.request_session_id <> @@SPID\n",
                "ORDER BY\n",
                "   tl1.request_session_id\n",
                "OPTION (RECOMPILE, MAXDOP 1);"
            ],
            "metadata": {
                "azdata_cell_guid": "f3f3073a-432a-4e83-b811-10622a3ba66a",
                "language": "sql"
            },
            "outputs": [],
            "execution_count": null
        },
        {
            "cell_type": "markdown",
            "source": [
                "**Detailed information about blocked and blocking sessions**\n",
                "\n",
                "- This needs to be executed in context of database where blocking occurs to resolve object names\n",
                "- This may be blocked with Schema Modification locks involved due to OBJECT\\_NAME() function in the script. You can comment it as needed\n",
                "- For blockers, SQL and execution plan represent currently running statement rather than the one that caused the blocking. they will be NULL if session is idling\n",
                "- It filters out locks from the current session (remove WHERE clause when you run it in demos)"
            ],
            "metadata": {
                "azdata_cell_guid": "312e2285-c43e-49f0-9974-ebb470cfc46a"
            },
            "attachments": {}
        },
        {
            "cell_type": "code",
            "source": [
                "--USE SQLServerInternals\n",
                "--GO\n",
                "\n",
                "SELECT\n",
                "   tl1.resource_type AS [Resource Type]\n",
                "   ,DB_NAME(tl1.resource_database_id) AS [DB]\n",
                "   ,CASE tl1.resource_type\n",
                "      WHEN 'OBJECT' THEN \n",
                "         OBJECT_NAME(tl1.resource_associated_entity_id,tl1.resource_database_id)\n",
                "      WHEN 'DATABASE' THEN\n",
                "         'DATABASE'\n",
                "      ELSE\n",
                "         CASE\n",
                "            WHEN tl1.resource_database_id = db_id() \n",
                "            THEN\n",
                "            (\n",
                "               SELECT OBJECT_NAME(object_id,tl1.resource_database_id)\n",
                "               FROM sys.partitions WITH (NOLOCK)\n",
                "               WHERE hobt_id = tl1.resource_associated_entity_id\n",
                "            )\n",
                "            ELSE\n",
                "               '(Run under DB context)'\n",
                "         END\n",
                "   END AS [Object]\n",
                "   ,tl1.resource_description AS [Resource]\n",
                "   ,tl1.request_session_id AS [Session]\n",
                "   ,tl1.request_mode AS [Mode]\n",
                "   ,tl1.request_status AS [Status]\n",
                "   ,wt.wait_duration_ms AS [Wait (ms)]\n",
                "   ,es.login_time\n",
                "   ,es.original_login_name\n",
                "   ,es.host_name\n",
                "   ,es.program_name\n",
                "   ,c.client_net_address   \n",
                "   ,query.sql\n",
                "   ,query.query_plan\t\t\t\t\t\t\n",
                "FROM\n",
                "   sys.dm_tran_locks tl1 WITH (NOLOCK) \n",
                "\t\tJOIN sys.dm_tran_locks tl2 WITH (NOLOCK) ON\n",
                "\t\t\ttl1.resource_associated_entity_id =\n",
                "\t\t\t\ttl2.resource_associated_entity_id\n",
                "\t\tLEFT OUTER JOIN sys.dm_os_waiting_tasks wt WITH (NOLOCK) ON\n",
                "\t\t\ttl1.lock_owner_address =wt.resource_address AND \n",
                "\t\t\ttl1.request_status = 'WAIT'\n",
                "\t\tLEFT JOIN sys.dm_exec_connections c WITH (NOLOCK) ON \n",
                "\t\t\ttl1.request_session_id = c.session_id \n",
                "\t\tLEFT JOIN sys.dm_exec_sessions es WITH (NOLOCK) ON \n",
                "\t\t\ttl1.request_session_id = es.session_id       \t\n",
                "\t\tOUTER APPLY\n",
                "\t\t(\n",
                "\t\t\tSELECT\n",
                "\t\t\t\tSUBSTRING(S.text, (er.statement_start_offset/2)+1,\n",
                "\t\t\t\t((\n",
                "\t\t\t\t\tCASE er.statement_end_offset\n",
                "\t\t\t\t\t\tWHEN -1 THEN DATALENGTH(S.text)\n",
                "\t\t\t\t\t\tELSE er.statement_end_offset\n",
                "\t\t\t\t\tEND - er.statement_start_offset)/2)+1\n",
                "\t\t\t\t) AS [sql]\n",
                "\t\t\t\t,TRY_CAST(qp.query_plan AS XML) AS query_plan\n",
                "\t\t\tFROM \n",
                "\t\t\t\tsys.dm_exec_requests er WITH (NOLOCK)\n",
                "\t\t\t\tCROSS APPLY sys.dm_exec_sql_text(er.sql_handle) S\n",
                "\t\t\t\tOUTER APPLY sys.dm_exec_text_query_plan\n",
                "\t\t\t\t(\n",
                "\t\t\t\t\ter.plan_handle\n",
                "\t\t\t\t\t,er.statement_start_offset\n",
                "\t\t\t\t\t,er.statement_end_offset\n",
                "\t\t\t\t) qp\n",
                "\t\t\tWHERE\n",
                "\t\t\t\ttl1.request_session_id = er.session_id\n",
                "\t\t) query\n",
                "WHERE\n",
                "\ttl1.request_session_id <> @@SPID AND\n",
                "\ttl1.request_status <> tl2.request_status AND\n",
                "\t(\n",
                "\t\ttl1.resource_description = tl2.resource_description OR\n",
                "\t\t(\n",
                "\t\t\ttl1.resource_description IS NULL AND \n",
                "\t\t\ttl2.resource_description IS NULL\n",
                "\t\t)\n",
                "\t)\n",
                "ORDER BY\n",
                "   tl1.request_session_id\n",
                "OPTION (RECOMPILE, MAXDOP 1);"
            ],
            "metadata": {
                "azdata_cell_guid": "7e314d25-c0c2-4797-94cd-732bd1f801df",
                "language": "sql"
            },
            "outputs": [],
            "execution_count": null
        },
        {
            "cell_type": "markdown",
            "source": [
                "**Blocking Chains**"
            ],
            "metadata": {
                "azdata_cell_guid": "e0f32d52-0a5e-44df-a7ed-15726dafbf9f"
            },
            "attachments": {}
        },
        {
            "cell_type": "code",
            "source": [
                "IF OBJECT_ID(N'tempdb..#BlockedSessions') IS NOT NULL\n",
                "\tDROP TABLE #BlockedSessions;\n",
                "GO\n",
                "\n",
                "CREATE TABLE #BlockedSessions\n",
                "(\n",
                "\tsession_id INT NOT NULL PRIMARY KEY,\n",
                "\tblocking_session_id INT NULL,\n",
                "\twait_type SYSNAME NULL, \n",
                "\t[sql] NVARCHAR(MAX)\n",
                ");\n",
                "\n",
                "INSERT INTO #BlockedSessions(session_id, blocking_session_id, wait_type, [sql])\n",
                "\tSELECT \n",
                "\t\ter.session_id, er.blocking_session_id, er.wait_type\n",
                "\t\t,SUBSTRING(\n",
                "\t\t\tqt.text, \n",
                "\t \t\t(er.statement_start_offset / 2) + 1,\n",
                "\t\t\t((CASE er.statement_end_offset\n",
                "\t\t\t\tWHEN -1 THEN datalength(qt.text)\n",
                "\t\t\t\tELSE er.statement_end_offset\n",
                "\t\t\tEND - er.statement_start_offset) / 2) + 1\n",
                "\t\t) \n",
                "\tFROM \n",
                "\t\tsys.dm_exec_requests er WITH (NOLOCK)\n",
                "\t\t\tOUTER APPLY sys.dm_exec_sql_text(er.sql_handle) qt\n",
                "\tWHERE \n",
                "\t\ter.wait_type LIKE 'LCK_M%';\n",
                "\n",
                "CREATE INDEX i1 ON #BlockedSessions(blocking_session_id); \n",
                "\n",
                ";WITH Locking(level, session_id, blocking_session_id, [sql])\n",
                "AS\n",
                "(\n",
                "\tSELECT 0, b.blocking_session_id, null, qt.text as sql\n",
                "\tFROM \n",
                "\t\t#BlockedSessions b LEFT JOIN sys.dm_exec_requests er WITH (NOLOCK) ON\n",
                "\t\t\tb.blocking_session_id = er.session_id\n",
                "\t\tOUTER APPLY sys.dm_exec_sql_text(er.sql_handle) qt  \n",
                "\tWHERE\n",
                "\t\tb.blocking_session_id not in (SELECT session_id from #BlockedSessions)\n",
                "\n",
                "\tUNION ALL\n",
                "\t\n",
                "\tSELECT level + 1, b.session_id, b.blocking_session_id, b.[sql]\n",
                "\tFROM #BlockedSessions b JOIN Locking l ON \n",
                "\t\tb.blocking_session_id = l.session_id\n",
                ")\n",
                "SELECT \n",
                "\tl.level, l.session_id, l.blocking_session_id, l.[sql], c.BlockedCnt\n",
                "FROM \n",
                "\tLocking l CROSS APPLY\n",
                "\t(\n",
                "\t\tSELECT COUNT(*) AS BlockedCnt\n",
                "\t\tFROM #BlockedSessions b \n",
                "\t\tWHERE b.blocking_session_id = l.session_id\n",
                "\t) c\n",
                "ORDER BY l.level, c.BlockedCnt;\n",
                "\n",
                "SELECT * FROM #BlockedSessions;"
            ],
            "metadata": {
                "azdata_cell_guid": "204b24a6-0102-4423-968f-85c5184e7f4d",
                "language": "sql"
            },
            "outputs": [],
            "execution_count": null
        },
        {
            "cell_type": "markdown",
            "source": [
                "**Getting execution plan and query by SQL Handle.**\n",
                "\n",
                "Set the handle and statement start/end offsets in variables"
            ],
            "metadata": {
                "azdata_cell_guid": "041632e0-a7c9-40be-84e1-59ab940d1fe1"
            },
            "attachments": {}
        },
        {
            "cell_type": "code",
            "source": [
                "DECLARE\n",
                "   @H VARBINARY(MAX) = 0x00\n",
                "      /* Insert sql_handle from the top line of the execution stack */\n",
                "   ,@S INT = 0\n",
                "      /* Insert stmtStart from the top line of the execution stack */\n",
                "   ,@E INT = 0\n",
                "      /* Insert stmtEnd from the top line of the execution stack */\n",
                "\n",
                "SELECT\t\n",
                "   SUBSTRING(\n",
                "      qt.text \n",
                "      ,(qs.statement_start_offset / 2) + 1\n",
                "      ,((CASE qs.statement_end_offset\n",
                "         WHEN -1 THEN DATALENGTH(qt.text)\n",
                "         ELSE qs.statement_end_offset\n",
                "      END - qs.statement_start_offset) / 2) + 1\n",
                "   ) AS SQL\n",
                "   ,TRY_CAST(qp.query_plan AS XML) AS query_plan\n",
                "   ,qs.creation_time\n",
                "   ,qs.last_execution_time\n",
                "FROM\t\n",
                "   sys.dm_exec_query_stats qs WITH (NOLOCK)\n",
                "      OUTER APPLY sys.dm_exec_sql_text(qs.sql_handle) qt\n",
                "      OUTER APPLY sys.dm_exec_text_query_plan(qs.plan_handle,@S,@E) qp\n",
                "WHERE\t\n",
                "   qs.sql_handle = @H \n",
                "OPTION (RECOMPILE, MAXDOP 1);\n",
                ""
            ],
            "metadata": {
                "azdata_cell_guid": "6364abf3-896a-42bd-93d7-775ad7845afc",
                "language": "sql"
            },
            "outputs": [],
            "execution_count": null
        },
        {
            "cell_type": "markdown",
            "source": [
                "**Lock Escalations - xEvents session to track** \n",
                "\n",
                "Change database\\_id in event definition to match the environment"
            ],
            "metadata": {
                "azdata_cell_guid": "1d328f17-3f7b-4a4c-837d-eeed12643b8f"
            },
            "attachments": {}
        },
        {
            "cell_type": "code",
            "source": [
                "IF EXISTS (SELECT * FROM sys.server_event_sessions WHERE name = 'LockEscalationTracking')\n",
                "\tDROP EVENT SESSION LockEscalationTracking ON SERVER\n",
                "GO\n",
                "\n",
                "CREATE EVENT SESSION LockEscalationTracking\n",
                "ON SERVER\n",
                "ADD EVENT\n",
                "    sqlserver.lock_escalation\n",
                "    (\n",
                "        WHERE database_id = 5  -- DB_ID()\n",
                "    )\n",
                "ADD TARGET \n",
                "    package0.histogram\n",
                "    (\n",
                "        SET \n",
                "            SLOTS = 1024 -- Based on # of tables in the database\n",
                "            ,FILTERING_EVENT_NAME = 'sqlserver.lock_escalation'\n",
                "            ,SOURCE_TYPE = 0 -- event data column\n",
                "            ,SOURCE = 'object_id' -- grouping column\n",
                "    )\n",
                "WITH    \n",
                "    (\n",
                "        EVENT_RETENTION_MODE=ALLOW_SINGLE_EVENT_LOSS\n",
                "        ,MAX_DISPATCH_LATENCY=10 SECONDS\n",
                "    );"
            ],
            "metadata": {
                "azdata_cell_guid": "2978bb5c-a8ed-46f1-919c-9f4cfb0aca2d",
                "language": "sql"
            },
            "outputs": [],
            "execution_count": null
        },
        {
            "cell_type": "markdown",
            "source": [
                "Start xEvent session"
            ],
            "metadata": {
                "azdata_cell_guid": "f570b4fd-3546-41d9-87ff-b637c50ae45f"
            },
            "attachments": {}
        },
        {
            "cell_type": "code",
            "source": [
                "ALTER EVENT SESSION LockEscalationTracking\n",
                "ON SERVER\n",
                "STATE=START;"
            ],
            "metadata": {
                "azdata_cell_guid": "c8c3e722-1070-40cc-b3d2-36c534112351",
                "language": "sql"
            },
            "outputs": [],
            "execution_count": null
        },
        {
            "cell_type": "markdown",
            "source": [
                "Parse results from xEvent session"
            ],
            "metadata": {
                "azdata_cell_guid": "52e9878f-16ed-4471-82f9-e40648f60b87"
            },
            "attachments": {}
        },
        {
            "cell_type": "code",
            "source": [
                "DECLARE\n",
                "    @X XML;\n",
                "\n",
                "SELECT @X = CONVERT(XML,st.target_data)\n",
                "FROM \n",
                "    sys.dm_xe_sessions s WITH (NOLOCK)\n",
                "        JOIN sys.dm_xe_session_targets st WITH (NOLOCK) ON\n",
                "            s.address = st.event_session_address\n",
                "WHERE \n",
                "    s.name = 'LockEscalationTracking' AND \n",
                "    st.target_name = 'histogram'; \n",
                "\n",
                ";WITH EventInfo([count],object_id)\n",
                "as\n",
                "(\n",
                "    SELECT\n",
                "        t.e.value('@count','int') \n",
                "        ,t.e.value('((./value)/text())[1]','int') \n",
                "    FROM \n",
                "        @X.nodes('/HistogramTarget/Slot') as t(e)\n",
                ")\n",
                "SELECT \n",
                "    e.object_id\n",
                "    ,s.name + '.' + t.name AS [table]\n",
                "    ,e.[count]\n",
                "FROM \n",
                "    EventInfo e JOIN sys.tables t WITH (NOLOCK) ON\n",
                "        e.object_id = t.object_id\n",
                "    JOIN sys.schemas s WITH (NOLOCK) ON\n",
                "        t.schema_id = s.schema_id\n",
                "ORDER BY \n",
                "    e.count desc\n",
                "OPTION (RECOMPILE, MAXDOP 1);"
            ],
            "metadata": {
                "azdata_cell_guid": "2f9e3c1e-1e57-43ea-bbd6-77be36168023",
                "language": "sql"
            },
            "outputs": [],
            "execution_count": null
        },
        {
            "cell_type": "markdown",
            "source": [
                "Stop xEvent Session"
            ],
            "metadata": {
                "language": "sql",
                "azdata_cell_guid": "ff8ff000-0a91-46c5-b841-6581ddb6b032"
            },
            "attachments": {}
        },
        {
            "cell_type": "code",
            "source": [
                "ALTER EVENT SESSION LockEscalationTracking\n",
                "ON SERVER\n",
                "STATE=STOP;"
            ],
            "metadata": {
                "language": "sql",
                "azdata_cell_guid": "e12ef6e5-497d-4a2a-b59c-5807d9e908f3"
            },
            "outputs": [],
            "execution_count": null
        }
    ]
}