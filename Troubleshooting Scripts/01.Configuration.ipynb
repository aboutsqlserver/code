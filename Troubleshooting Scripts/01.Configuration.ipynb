{
    "metadata": {
        "kernelspec": {
            "name": "SQL",
            "display_name": "SQL",
            "language": "sql"
        },
        "language_info": {
            "name": "sql",
            "version": ""
        }
    },
    "nbformat_minor": 2,
    "nbformat": 4,
    "cells": [
        {
            "cell_type": "markdown",
            "source": [
                "**Troubleshooting Scripts - System Configuration**\n",
                "\n",
                "Dmitri V. Korotkevitch (MCM, MVP)\n",
                "\n",
                "email: [dk@aboutsqlserver.com](mailto:dk@aboutsqlserver.com)      blog: [https://aboutsqlserver.com](https://aboutsqlserver.com/) code: [https://github.com/aboutsqlserver/code](https://github.com/aboutsqlserver/code)\n",
                "\n",
                "SQL Server Advanced Troubleshooting and Performance Tuning (O'Reilly, 2022)      ISBN: 978-1098101923"
            ],
            "metadata": {
                "azdata_cell_guid": "3c1ab934-6964-4a76-88f1-6e9ae5adfb2a"
            },
            "attachments": {}
        },
        {
            "cell_type": "markdown",
            "source": [
                "**SQL Server Information**"
            ],
            "metadata": {
                "azdata_cell_guid": "fd2fe52b-f661-4bfb-b74c-dc95bd58cae1"
            },
            "attachments": {}
        },
        {
            "cell_type": "code",
            "source": [
                "SELECT \n",
                "    @@SERVERNAME AS [Server Name]\n",
                "    ,@@VERSION AS [SQL Server Version]\n",
                "    ,SERVERPROPERTY('Edition') AS [Edition]\n",
                "    ,SERVERPROPERTY('ProductLevel') AS [ProductLevel]\t\t\t\t\n",
                "    ,SERVERPROPERTY('ProductUpdateLevel') AS [ProductUpdateLevel]\t\n",
                "    ,SERVERPROPERTY('ProductVersion') AS [ProductVersion]\n",
                "    ,SERVERPROPERTY('ProductMajorVersion') AS [ProductMajorVersion]\n",
                "    ,SERVERPROPERTY('ProductMinorVersion') AS [ProductMinorVersion] \n",
                "    ,SERVERPROPERTY('InstanceName') AS [InstanceName]\n",
                "    ,SERVERPROPERTY('Collation') AS [Collation]    \n",
                "    ,SERVERPROPERTY('IsIntegratedSecurityOnly') AS [IsIntegratedSecurityOnly]\n",
                "    ,SERVERPROPERTY('MachineName') AS [MachineName]\n",
                "    ,SERVERPROPERTY('IsClustered') AS [IsClustered] \n",
                "    ,SERVERPROPERTY('ComputerNamePhysicalNetBIOS') AS [ComputerNamePhysicalNetBIOS]\n",
                "    ,SERVERPROPERTY('ProductBuild') AS [ProductBuild]\n",
                "    ,SERVERPROPERTY('ProductBuildType') AS [ProductBuildType]\t\t\t  \n",
                "    ,SERVERPROPERTY('ProductUpdateReference') AS [ProductUpdateReference] \n",
                "    ,SERVERPROPERTY('IsFullTextInstalled') AS [IsFullTextInstalled]\n",
                "    ,SERVERPROPERTY('FilestreamConfiguredLevel') AS [FilestreamConfiguredLevel]\n",
                "    ,SERVERPROPERTY('IsHadrEnabled') AS [IsHadrEnabled]\n",
                "    ,SERVERPROPERTY('HadrManagerStatus') AS [HadrManagerStatus]\n",
                "    ,SERVERPROPERTY('InstanceDefaultDataPath') AS [InstanceDefaultDataPath]\n",
                "    ,SERVERPROPERTY('InstanceDefaultLogPath') AS [InstanceDefaultLogPath]\n",
                "    ,SERVERPROPERTY('InstanceDefaultBackupPath') AS [InstanceDefaultBackupPath]\n",
                "    ,SERVERPROPERTY('ErrorLogFileName') AS [ErrorLogFileName]\n",
                "    ,SERVERPROPERTY('BuildClrVersion') AS [Build CLR Version]\n",
                "    ,SERVERPROPERTY('IsXTPSupported') AS [IsXTPSupported]\n",
                "    ,SERVERPROPERTY('IsPolybaseInstalled') AS [IsPolybaseInstalled]\n",
                "    ,SERVERPROPERTY('IsAdvancedAnalyticsInstalled') AS [IsRServicesInstalled]\n",
                "    ,SERVERPROPERTY('IsTempdbMetadataMemoryOptimized') AS [IsTempdbMetadataMemoryOptimized]    "
            ],
            "metadata": {
                "azdata_cell_guid": "52f9ce57-6891-480c-a0e5-ce79ccec7b4d",
                "language": "sql",
                "tags": []
            },
            "outputs": [],
            "execution_count": null
        },
        {
            "cell_type": "markdown",
            "source": [
                "**Trace Flags**"
            ],
            "metadata": {
                "azdata_cell_guid": "d72f2ac6-6e10-4cf3-a2b0-f93e06dd88ea"
            },
            "attachments": {}
        },
        {
            "cell_type": "code",
            "source": [
                "DBCC TRACESTATUS(-1);"
            ],
            "metadata": {
                "azdata_cell_guid": "1997f784-615b-4a36-963f-cfbd0b64e05c",
                "language": "sql"
            },
            "outputs": [],
            "execution_count": null
        },
        {
            "cell_type": "markdown",
            "source": [
                "**OS Information** (SQL Server 2017+)"
            ],
            "metadata": {
                "language": "sql",
                "azdata_cell_guid": "546a31d3-dee8-4038-adbe-36dd3bda530d"
            },
            "attachments": {}
        },
        {
            "cell_type": "code",
            "source": [
                "SELECT *\n",
                "FROM sys.dm_os_host_info WITH (NOLOCK) \n",
                "OPTION (MAXDOP 1, RECOMPILE); "
            ],
            "metadata": {
                "language": "sql",
                "azdata_cell_guid": "799eb090-042d-4142-aa14-05b1699ca0f0"
            },
            "outputs": [],
            "execution_count": null
        },
        {
            "cell_type": "markdown",
            "source": [
                "**SQL Server H/W Configuration**"
            ],
            "metadata": {
                "azdata_cell_guid": "60c13e93-4746-4479-993a-c93239c2a118"
            },
            "attachments": {}
        },
        {
            "cell_type": "code",
            "source": [
                "SELECT \n",
                "    DATEDIFF(hour, sqlserver_start_time, GETDATE()) AS [Up Time (hrs)]\n",
                "    , *\n",
                "FROM sys.dm_os_sys_info WITH (NOLOCK) \n",
                "OPTION (MAXDOP 1, RECOMPILE);"
            ],
            "metadata": {
                "azdata_cell_guid": "c84270c2-3305-4ea4-9801-5492ab1ac46d",
                "language": "sql"
            },
            "outputs": [],
            "execution_count": null
        },
        {
            "cell_type": "markdown",
            "source": [
                "**SQL Server Services**\n",
                "\n",
                "Check the status of Instant File Initialization"
            ],
            "metadata": {
                "azdata_cell_guid": "39d56902-06b4-4770-bad8-0e0fe447a490"
            },
            "attachments": {}
        },
        {
            "cell_type": "code",
            "source": [
                "SELECT \n",
                "    servicename\n",
                "    ,instant_file_initialization_enabled\n",
                "    ,process_id\n",
                "    ,last_startup_time\n",
                "    ,startup_type_desc\n",
                "    ,status_desc\n",
                "    ,service_account\n",
                "    ,is_clustered\n",
                "    ,cluster_nodename\n",
                "    ,[filename]\n",
                "FROM \n",
                "    sys.dm_server_services WITH (NOLOCK) \n",
                "OPTION (MAXDOP 1, RECOMPILE);"
            ],
            "metadata": {
                "azdata_cell_guid": "f2b52d7d-6fcc-4798-80eb-5796fec1bd6b",
                "language": "sql"
            },
            "outputs": [],
            "execution_count": null
        },
        {
            "cell_type": "markdown",
            "source": [
                "**Checking Instant File nitialization** (Old SQL Server Versions)"
            ],
            "metadata": {
                "azdata_cell_guid": "57850249-dc58-4313-b4b4-8f3222230025"
            },
            "attachments": {}
        },
        {
            "cell_type": "code",
            "source": [
                "-- Older versions\n",
                "DBCC TRACEON(3004,3605,-1);\n",
                "GO\n",
                "CREATE DATABASE Dummy;\n",
                "GO\n",
                "EXEC sp_readerrorlog 0,1,N'Dummy';\n",
                "GO\n",
                "DROP DATABASE Dummy;\n",
                "GO\n",
                "DBCC TRACEOFF(3004,3605,-1);\n",
                "GO\n",
                ""
            ],
            "metadata": {
                "azdata_cell_guid": "36d58461-2425-432b-a2f6-5aadd1004010",
                "language": "sql"
            },
            "outputs": [],
            "execution_count": null
        },
        {
            "cell_type": "markdown",
            "source": [
                "**NUMA / Schedulers distribution**\n",
                "\n",
                "Make sure that online schedules have been evenly distributed across NUMA nodes"
            ],
            "metadata": {
                "azdata_cell_guid": "38cf4fcc-f18e-4b12-b1ad-67ac3d1bc3a0"
            },
            "attachments": {}
        },
        {
            "cell_type": "code",
            "source": [
                "SELECT \n",
                "    parent_node_id AS [NUMA Node]\n",
                "    ,COUNT(*) AS [Schedulers]\n",
                "    ,SUM(IIF(status = N'VISIBLE ONLINE',1,0))\n",
                "        AS [Online Schedulers]\n",
                "    ,SUM(IIF(status = N'VISIBLE OFFLINE',1,0))\n",
                "        AS [Offline Schedulers]\n",
                "    ,SUM(current_tasks_count) \n",
                "        AS [Current Tasks] \n",
                "    ,SUM(runnable_tasks_count) \n",
                "        AS [Runnable Tasks] \n",
                "FROM \n",
                "    sys.dm_os_schedulers WITH (NOLOCK)\n",
                "WHERE \n",
                "    status IN (N'VISIBLE ONLINE',N'VISIBLE OFFLINE') \n",
                "GROUP BY \n",
                "    parent_node_id\n",
                "OPTION (RECOMPILE, MAXDOP 1);"
            ],
            "metadata": {
                "azdata_cell_guid": "e552cbeb-ba36-4b3b-b3a9-96ecaa6988f1",
                "tags": [],
                "language": "sql"
            },
            "outputs": [],
            "execution_count": null
        },
        {
            "cell_type": "markdown",
            "source": [
                "**Configuration settings**\n",
                "\n",
                "List of settings is based on SQL Server 2019"
            ],
            "metadata": {
                "azdata_cell_guid": "5627c520-a117-4cf3-b3f5-2407e4a51f53"
            },
            "attachments": {}
        },
        {
            "cell_type": "code",
            "source": [
                "DECLARE\n",
                "    @defaults TABLE\n",
                "    (\n",
                "        name SYSNAME NOT NULL PRIMARY KEY, \n",
                "        def_value SQL_VARIANT NOT NULL\n",
                "    )\n",
                "\n",
                "INSERT INTO @defaults(name,def_value) \n",
                "VALUES\n",
                "\t('access check cache bucket count',0),\n",
                "\t('access check cache quota',0),\n",
                "\t('Ad Hoc Distributed Queries',0),\n",
                "\t('ADR cleaner retry timeout (min)',0),\n",
                "\t('ADR Preallocation Factor',0),\n",
                "\t('affinity I/O mask',0),\n",
                "\t('affinity mask',0),\n",
                "\t('affinity64 I/O mask',0),\n",
                "\t('affinity64 mask',0),\n",
                "\t('Agent XPs',0),\n",
                "\t('allow filesystem enumeration',1),\n",
                "\t('allow polybase export',0),\n",
                "\t('allow updates',0),\n",
                "\t('automatic soft-NUMA disabled',0),\n",
                "\t('backup checksum default',0),\n",
                "\t('backup compression default',0),\n",
                "\t('blocked process threshold (s)',0),\n",
                "\t('c2 audit mode',0),\n",
                "\t('clr enabled',0),\n",
                "\t('clr strict security',1),\n",
                "\t('column encryption enclave type',0),\n",
                "\t('common criteria compliance enabled',0),\n",
                "\t('contained database authentication',0),\n",
                "\t('cost threshold for parallelism',5),\n",
                "\t('cross db ownership chaining',0),\n",
                "\t('cursor threshold',-1),\n",
                "\t('Database Mail XPs',0),\n",
                "\t('default full-text language',1033),\n",
                "\t('default language',0),\n",
                "\t('default trace enabled',1),\n",
                "\t('disallow results from triggers',0),\n",
                "\t('EKM provider enabled',0),\n",
                "\t('external scripts enabled',0),\n",
                "\t('filestream access level',0),\n",
                "\t('fill factor (%)',0),\n",
                "\t('ft crawl bandwidth (max)',100),\n",
                "\t('ft crawl bandwidth (min)',0),\n",
                "\t('ft notify bandwidth (max)',100),\n",
                "\t('ft notify bandwidth (min)',0),\n",
                "\t('hadoop connectivity',0),\n",
                "\t('index create memory (KB)',0),\n",
                "\t('in-doubt xact resolution',0),\n",
                "\t('lightweight pooling',0),\n",
                "\t('locks',0),\n",
                "\t('max degree of parallelism',0),\n",
                "\t('max full-text crawl range',4),\n",
                "\t('max server memory (MB)',2147483647),\n",
                "\t('max text repl size (B)',65536),\n",
                "\t('max worker threads',0),\n",
                "\t('media retention',0),\n",
                "\t('min memory per query (KB)',1024),\n",
                "\t('min server memory (MB)',0),\n",
                "\t('nested triggers',1),\n",
                "\t('network packet size (B)',4096),\n",
                "\t('Ole Automation Procedures',0),\n",
                "\t('open objects',0),\n",
                "\t('optimize for ad hoc workloads',0),\n",
                "\t('PH timeout (s)',60),\n",
                "\t('polybase enabled',0),\n",
                "\t('polybase network encryption',1),\n",
                "\t('precompute rank',0),\n",
                "\t('priority boost',0),\n",
                "\t('query governor cost limit',0),\n",
                "\t('query wait (s)',-1),\n",
                "\t('recovery interval (min)',0),\n",
                "\t('remote access',1),\n",
                "\t('remote admin connections',0),\n",
                "\t('remote data archive',0),\n",
                "\t('remote login timeout (s)',10),\n",
                "\t('remote proc trans',0),\n",
                "\t('remote query timeout (s)',600),\n",
                "\t('Replication XPs',0),\n",
                "\t('scan for startup procs',0),\n",
                "\t('server trigger recursion',1),\n",
                "\t('set working set size',0),\n",
                "\t('show advanced options',0),\n",
                "\t('SMO and DMO XPs',1),\n",
                "\t('tempdb metadata memory-optimized',0),\n",
                "\t('transform noise words',0),\n",
                "\t('two digit year cutoff',2049),\n",
                "\t('user connections',0),\n",
                "\t('user options',0),\n",
                "\t('version high part of SQL Server',0),\n",
                "\t('version low part of SQL Server',0),\n",
                "\t('xp_cmdshell',0);\n",
                "\n",
                "SELECT\n",
                "    c.name, c.description, c.value_in_use, c.value\n",
                "    ,d.def_value, c.is_dynamic, c.is_advanced\n",
                "FROM\n",
                "    sys.configurations c JOIN @defaults d ON\n",
                "        c.name = d.name\n",
                "WHERE\n",
                "    c.value_in_use <> d.def_value OR\n",
                "    c.value <> d.def_value\n",
                "ORDER BY\n",
                "    c.name;\n",
                ""
            ],
            "metadata": {
                "azdata_cell_guid": "c6991e86-e6ab-464a-b662-3f1c49dfcefe",
                "language": "sql"
            },
            "outputs": [],
            "execution_count": null
        },
        {
            "cell_type": "markdown",
            "source": [
                "**Resource Governor**\n",
                "\n",
                "Check if it is configured. Take its existence into account during troubleshooting"
            ],
            "metadata": {
                "azdata_cell_guid": "80052473-6043-41d0-acbd-c30ae0055052"
            },
            "attachments": {}
        },
        {
            "cell_type": "code",
            "source": [
                "SELECT \n",
                "    pool_id\n",
                "    ,name\n",
                "    ,statistics_start_time\n",
                "    ,min_memory_percent\n",
                "    ,max_memory_percent\n",
                "    ,CONVERT(DECIMAL(26,3),max_memory_kb/1024) AS max_memory_mb\n",
                "    ,CONVERT(DECIMAL(26,3),used_memory_kb / 1024.) AS used_memory_mb\n",
                "    ,CONVERT(DECIMAL(26,3),target_memory_kb / 1024.) AS target_memory_mb\n",
                "\t,min_iops_per_volume -- SQL Server 2014+\n",
                "    ,max_iops_per_volume -- SQL Server 2014+\n",
                "FROM sys.dm_resource_governor_resource_pools WITH (NOLOCK)\n",
                "OPTION (RECOMPILE);"
            ],
            "metadata": {
                "azdata_cell_guid": "484b2f1c-52be-4cbb-86ef-eab75efb8f18",
                "language": "sql"
            },
            "outputs": [],
            "execution_count": null
        },
        {
            "cell_type": "markdown",
            "source": [
                "**Memory Dumps**"
            ],
            "metadata": {
                "language": "sql",
                "azdata_cell_guid": "da99f777-b5cd-4df0-8ef2-a073289b2745"
            },
            "attachments": {}
        },
        {
            "cell_type": "code",
            "source": [
                "SELECT *\n",
                "FROM sys.dm_server_memory_dumps WITH (NOLOCK) \n",
                "ORDER BY creation_time DESC \n",
                "OPTION (MAXDOP 1, RECOMPILE);"
            ],
            "metadata": {
                "language": "sql",
                "azdata_cell_guid": "25c9009d-9c94-40bf-a3e4-c06a8cd4d2d2"
            },
            "outputs": [],
            "execution_count": null
        }
    ]
}