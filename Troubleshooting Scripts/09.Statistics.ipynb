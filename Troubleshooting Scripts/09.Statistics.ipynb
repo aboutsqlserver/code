{
    "metadata": {
        "kernelspec": {
            "name": "SQL",
            "display_name": "SQL",
            "language": "sql"
        },
        "language_info": {
            "name": "sql",
            "version": ""
        }
    },
    "nbformat_minor": 2,
    "nbformat": 4,
    "cells": [
        {
            "cell_type": "markdown",
            "source": [
                "**Troubleshooting Scripts - Statistics**\n",
                "\n",
                "Dmitri V. Korotkevitch (MCM, MVP)\n",
                "\n",
                "email: [dk@aboutsqlserver.com](mailto:dk@aboutsqlserver.com)      blog: [https://aboutsqlserver.com](https://aboutsqlserver.com/) code: [https://github.com/aboutsqlserver/code](https://github.com/aboutsqlserver/code)\n",
                "\n",
                "SQL Server Advanced Troubleshooting and Performance Tuning (O'Reilly, 2022)      ISBN: 978-1098101923"
            ],
            "metadata": {
                "azdata_cell_guid": "b63d4639-e51c-46bc-b208-4acc6aa25ff3"
            },
            "attachments": {}
        },
        {
            "cell_type": "markdown",
            "source": [
                "**Analyzing Statistics - DBCC SHOW\\_STATISTICS**"
            ],
            "metadata": {
                "azdata_cell_guid": "21a788a6-0e5b-405d-91b9-66f1957aea7d"
            },
            "attachments": {}
        },
        {
            "cell_type": "code",
            "source": [
                "DBCC SHOW_STATISTICS('Schema.Table','Index');"
            ],
            "metadata": {
                "azdata_cell_guid": "2f4bc190-1ada-42da-a72b-8197645dccd3",
                "language": "sql"
            },
            "outputs": [],
            "execution_count": null
        },
        {
            "cell_type": "markdown",
            "source": [
                "**Analyzing Statistics - sys.dm\\_db\\_stats\\_histogram** (SQL Server 2016 SP1 CU2+)\n",
                "\n",
                "Specify table and index names in WHERE clause"
            ],
            "metadata": {
                "language": "sql",
                "azdata_cell_guid": "dd11788e-2f5e-4d33-a843-cada51979476"
            },
            "attachments": {}
        },
        {
            "cell_type": "code",
            "source": [
                "SELECT \n",
                "\tsp.*\n",
                "FROM \n",
                "\tsys.tables t WITH (NOLOCK) JOIN sys.indexes i WITH (NOLOCK) ON\n",
                "\t\tt.object_id = i.object_id\n",
                "\tCROSS APPLY\n",
                "\t\tsys.dm_db_stats_histogram(t.object_id, i.index_id) sp\n",
                "WHERE\n",
                "\tt.object_id = OBJECT_ID(N'Schema.Table') AND\n",
                "\ti.name = 'Index'\n",
                "OPTION (MAXDOP 1, RECOMPILE);"
            ],
            "metadata": {
                "language": "sql",
                "azdata_cell_guid": "18c47783-8b7a-4493-97f5-ea501e46778a"
            },
            "outputs": [],
            "execution_count": null
        },
        {
            "cell_type": "markdown",
            "source": [
                "**Analyzing Statistics Properties - sys.dm\\_db\\_stats\\_properties** \n",
                "\n",
                "Filter by table name if needed in WHERE clause"
            ],
            "metadata": {
                "azdata_cell_guid": "698639ea-d22d-446e-8308-073c8a42a9f3"
            },
            "attachments": {}
        },
        {
            "cell_type": "code",
            "source": [
                "SELECT\n",
                "    s.stats_id AS [Stat ID]\n",
                "    ,sc.name + '.' + t.name AS [Table]\n",
                "    ,s.name AS [Statistics]\n",
                "    ,p.last_updated\n",
                "    ,p.rows\n",
                "    ,p.rows_sampled\n",
                "    ,p.modification_counter AS [Mod Count]\n",
                "FROM\n",
                "    sys.stats s WITH (NOLOCK) JOIN sys.tables t WITH (NOLOCK) ON\n",
                "        s.object_id = t.object_id\n",
                "    JOIN sys.schemas sc WITH (NOLOCK) ON\n",
                "        t.schema_id = sc.schema_id\n",
                "    OUTER APPLY\n",
                "        sys.dm_db_stats_properties(t.object_id,s.stats_id) p\n",
                "--WHERE\n",
                "--\ts.object_id = OBJECT_ID(N'<Table Name>')\n",
                "ORDER BY\n",
                "    p.last_updated\n",
                "OPTION (RECOMPILE, MAXDOP 1);"
            ],
            "metadata": {
                "azdata_cell_guid": "a82185b9-47da-4d4d-947b-4eb2fc5d22b7",
                "language": "sql"
            },
            "outputs": [],
            "execution_count": null
        }
    ]
}