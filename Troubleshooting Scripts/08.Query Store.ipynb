{
    "metadata": {
        "kernelspec": {
            "name": "SQL",
            "display_name": "SQL",
            "language": "sql"
        },
        "language_info": {
            "name": "sql",
            "version": ""
        }
    },
    "nbformat_minor": 2,
    "nbformat": 4,
    "cells": [
        {
            "cell_type": "markdown",
            "source": [
                "**Troubleshooting Scripts - Detecting Inefficient Queries with Query Store**\n",
                "\n",
                "**SQL Server 2016+**\n",
                "\n",
                "Dmitri V. Korotkevitch (MCM, MVP)\n",
                "\n",
                "email: [dk@aboutsqlserver.com](mailto:dk@aboutsqlserver.com)      blog: [https://aboutsqlserver.com](https://aboutsqlserver.com/) code: [https://github.com/aboutsqlserver/code](https://github.com/aboutsqlserver/code)\n",
                "\n",
                "SQL Server Advanced Troubleshooting and Performance Tuning (O'Reilly, 2022)      ISBN: 978-1098101923"
            ],
            "metadata": {
                "azdata_cell_guid": "bb359ae5-22de-4407-9695-162f1f1ae6ac"
            },
            "attachments": {}
        },
        {
            "cell_type": "markdown",
            "source": [
                "**Get the information about expensive queries from Query Store**\n",
                "\n",
                "Sort data based on your optimization targets (IO, CPU, etc)  \n",
                "\n",
                "Change WHERE predicates to filter as needed"
            ],
            "metadata": {
                "azdata_cell_guid": "3aa5c6ea-9118-4586-9a51-c3e8a57afbb4"
            },
            "attachments": {}
        },
        {
            "cell_type": "code",
            "source": [
                "SELECT TOP 50 \n",
                "  q.query_id, qt.query_sql_text, qp.plan_id, qp.query_plan\n",
                "  ,SUM(rs.count_executions) AS [Execution Cnt]\n",
                "  ,CONVERT(INT,SUM(rs.count_executions * \n",
                "    (rs.avg_logical_io_reads + avg_logical_io_writes)) / \n",
                "      SUM(rs.count_executions)) AS [Avg IO]\n",
                "  ,CONVERT(INT,SUM(rs.count_executions * \n",
                "    (rs.avg_logical_io_reads + avg_logical_io_writes))) AS [Total IO]\n",
                "  ,CONVERT(INT,SUM(rs.count_executions * rs.avg_cpu_time) /\n",
                "    SUM(rs.count_executions)) AS [Avg CPU]\n",
                "  ,CONVERT(INT,SUM(rs.count_executions * rs.avg_cpu_time)) AS [Total CPU]\n",
                "  ,CONVERT(INT,SUM(rs.count_executions * rs.avg_duration) / \n",
                "    SUM(rs.count_executions)) AS [Avg Duration]\n",
                "  ,CONVERT(INT,SUM(rs.count_executions * rs.avg_duration)) \n",
                "    AS [Total Duration]\n",
                "  ,CONVERT(INT,SUM(rs.count_executions * rs.avg_physical_io_reads) / \n",
                "    SUM(rs.count_executions)) AS [Avg Physical Reads]\n",
                "  ,CONVERT(INT,SUM(rs.count_executions * rs.avg_physical_io_reads)) \n",
                "    AS [Total Physical Reads]\n",
                "  ,CONVERT(INT,SUM(rs.count_executions * rs.avg_query_max_used_memory) / \n",
                "    SUM(rs.count_executions)) AS [Avg Memory Grant Pages]\n",
                "  ,CONVERT(INT,SUM(rs.count_executions * rs.avg_query_max_used_memory)) \n",
                "    AS [Total Memory Grant Pages]\n",
                "  ,CONVERT(INT,SUM(rs.count_executions * rs.avg_rowcount) /\n",
                "    SUM(rs.count_executions)) AS [Avg Rows]\n",
                "  ,CONVERT(INT,SUM(rs.count_executions * rs.avg_rowcount)) AS [Total Rows]\n",
                "  ,CONVERT(INT,SUM(rs.count_executions * rs.avg_dop) /\n",
                "    SUM(rs.count_executions)) AS [Avg DOP]\n",
                "  ,CONVERT(INT,SUM(rs.count_executions * rs.avg_dop)) AS [Total DOP]\n",
                "FROM \n",
                "  sys.query_store_query q WITH (NOLOCK)\n",
                "    JOIN sys.query_store_plan qp WITH (NOLOCK) ON\n",
                "      q.query_id = qp.query_id\n",
                "    JOIN sys.query_store_query_text qt WITH (NOLOCK) ON\n",
                "      q.query_text_id = qt.query_text_id\n",
                "    JOIN sys.query_store_runtime_stats rs WITH (NOLOCK) ON\n",
                "      qp.plan_id = rs.plan_id \n",
                "    JOIN sys.query_store_runtime_stats_interval rsi WITH (NOLOCK) ON\n",
                "      rs.runtime_stats_interval_id = rsi.runtime_stats_interval_id\n",
                "WHERE\n",
                "  rsi.end_time >= DATEADD(DAY,-1,SYSDATETIMEOFFSET())\n",
                "GROUP BY\n",
                "  q.query_id, qt.query_sql_text, qp.plan_id, qp.query_plan\n",
                "ORDER BY \n",
                "  [Avg IO] DESC\n",
                "OPTION (MAXDOP 1, RECOMPILE);"
            ],
            "metadata": {
                "azdata_cell_guid": "5f10c936-effc-443c-8662-d86a6046b3a1",
                "language": "sql"
            },
            "outputs": [],
            "execution_count": null
        },
        {
            "cell_type": "markdown",
            "source": [
                "**Get the queries that run under different context settings (SET options)** \n",
                "\n",
                "They increase the size of plan cache and lead to other issues. Consolidate as needed"
            ],
            "metadata": {
                "azdata_cell_guid": "7bfc4055-4cb9-419e-93fd-1cb95742a452"
            },
            "attachments": {}
        },
        {
            "cell_type": "code",
            "source": [
                "SELECT \n",
                "    q.query_id, qt.query_sql_text\n",
                "    ,COUNT(DISTINCT q.context_settings_id) AS [Context Setting Cnt]\n",
                "    ,COUNT(DISTINCT qp.plan_id) AS [Plan Count]\n",
                "FROM \n",
                "    sys.query_store_query q WITH (NOLOCK)\n",
                "        JOIN sys.query_store_query_text qt WITH (NOLOCK) ON\n",
                "            q.query_text_id = qt.query_text_id\n",
                "        JOIN sys.query_store_plan qp WITH (NOLOCK) ON\n",
                "            q.query_id = qp.query_id\n",
                "GROUP BY\n",
                "    q.query_id, qt.query_sql_text\n",
                "HAVING\n",
                "    COUNT(DISTINCT q.context_settings_id) > 1\n",
                "ORDER BY \n",
                "    COUNT(DISTINCT q.context_settings_id)\n",
                "OPTION (MAXDOP 1, RECOMPILE);"
            ],
            "metadata": {
                "azdata_cell_guid": "ca0acc61-daf1-43bd-9df1-4b7dc4ccc779",
                "language": "sql"
            },
            "outputs": [],
            "execution_count": null
        },
        {
            "cell_type": "markdown",
            "source": [
                "**Find similar queries based on query\\_hash**\n",
                "\n",
                "Usually those queries belong to ad-hoc unparameterized queries."
            ],
            "metadata": {
                "azdata_cell_guid": "94b57d18-b26f-4f4b-8882-2cec1dc03bd5"
            },
            "attachments": {}
        },
        {
            "cell_type": "code",
            "source": [
                ";WITH Queries(query_hash, [Query Count], [Avg Exec Count], qtid)\n",
                "AS\n",
                "(\n",
                "    SELECT TOP 100 \n",
                "        q.query_hash\n",
                "        ,COUNT(*) \n",
                "        ,AVG(rs.count_executions)\n",
                "        ,MIN(q.query_text_id)\n",
                "    FROM \n",
                "        sys.query_store_query q WITH (NOLOCK)\n",
                "            JOIN sys.query_store_plan qp WITH (NOLOCK) ON\n",
                "                q.query_id = qp.query_id\n",
                "            JOIN sys.query_store_runtime_stats rs WITH (NOLOCK) ON\n",
                "                qp.plan_id = rs.plan_id \n",
                "    GROUP BY \n",
                "        q.query_hash\n",
                "    HAVING \n",
                "        COUNT(*) > 1\n",
                "    ORDER BY \n",
                "        AVG(rs.count_executions) ASC\n",
                "        ,COUNT(*) DESC\n",
                ")\n",
                "SELECT \n",
                "    q.query_hash\n",
                "    ,qt.query_sql_text AS [Sample SQL]\n",
                "    ,q.[Query Count]\n",
                "    ,q.[Avg Exec Count]\n",
                "FROM \n",
                "    Queries q CROSS APPLY\n",
                "    (\n",
                "        SELECT TOP 1 qt.query_sql_text\n",
                "        FROM sys.query_store_query_text qt WITH (NOLOCK)\n",
                "        WHERE qt.query_text_id = q.qtid\n",
                "    ) qt\n",
                "OPTION(MAXDOP 1, RECOMPILE);"
            ],
            "metadata": {
                "azdata_cell_guid": "529b196a-4afa-4347-bb88-661f7e402720",
                "language": "sql"
            },
            "outputs": [],
            "execution_count": null
        }
    ]
}