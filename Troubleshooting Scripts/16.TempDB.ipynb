{
    "metadata": {
        "kernelspec": {
            "name": "SQL",
            "display_name": "SQL",
            "language": "sql"
        },
        "language_info": {
            "name": "sql",
            "version": ""
        }
    },
    "nbformat_minor": 2,
    "nbformat": 4,
    "cells": [
        {
            "cell_type": "markdown",
            "source": [
                "**Troubleshooting Scripts - TempDB**\n",
                "\n",
                "Dmitri V. Korotkevitch (MCM, MVP)\n",
                "\n",
                "email: [dk@aboutsqlserver.com](mailto:dk@aboutsqlserver.com)      blog: [https://aboutsqlserver.com](https://aboutsqlserver.com/) code: [https://github.com/aboutsqlserver/code](https://github.com/aboutsqlserver/code)\n",
                "\n",
                "SQL Server Advanced Troubleshooting and Performance Tuning (O'Reilly, 2022)      ISBN: 978-1098101923"
            ],
            "metadata": {
                "azdata_cell_guid": "5e0cf0b3-3fc2-4dd2-a098-5ed22bafa8f1"
            },
            "attachments": {}
        },
        {
            "cell_type": "markdown",
            "source": [
                "**tempdb Usage Iinformation**"
            ],
            "metadata": {
                "azdata_cell_guid": "04c376e6-48ca-4948-914b-dd58efe62380"
            },
            "attachments": {}
        },
        {
            "cell_type": "code",
            "source": [
                "SELECT\n",
                "    CONVERT(DECIMAL(12,3),SUM(user_object_reserved_page_count) / 128.) \n",
                "        AS [User Objects (MB)]\n",
                "    ,CONVERT(DECIMAL(12,3),SUM(internal_object_reserved_page_count) / 128.) \n",
                "        AS [Internal Objects (MB)]\n",
                "    ,CONVERT(DECIMAL(12,3),SUM(version_store_reserved_page_count) / 128.) \n",
                "        AS [Version Store (MB)]\n",
                "    ,CONVERT(DECIMAL(12,3),SUM(unallocated_extent_page_count) / 128.) \n",
                "        AS [Free Space (MB)]\n",
                "FROM\n",
                "    tempdb.sys.dm_db_file_space_usage WITH (NOLOCK)\n",
                "OPTION (MAXDOP 1, RECOMPILE);"
            ],
            "metadata": {
                "azdata_cell_guid": "f2629a86-c919-46f4-a540-24a28cdf5d38",
                "language": "sql"
            },
            "outputs": [],
            "execution_count": null
        },
        {
            "cell_type": "markdown",
            "source": [
                "**tempdb Database File Space Usage**\n",
                "\n",
                "Need to run in tempdb context"
            ],
            "metadata": {
                "language": "sql",
                "azdata_cell_guid": "702e6557-2f7f-4d87-9b3a-e3de982957b2"
            },
            "attachments": {}
        },
        {
            "cell_type": "code",
            "source": [
                "USE [tempdb]\n",
                "GO\n",
                "\n",
                "SELECT \n",
                "\tfile_id\n",
                "\t,type_desc\n",
                "\t,name\n",
                "\t,physical_name\n",
                "\t,state_desc\n",
                "\t,CONVERT(DECIMAL(15,3),size / 128.) AS size_mb\n",
                "\t,CONVERT(DECIMAL(15,3),CONVERT(INT,FILEPROPERTY(name, 'SpaceUsed')) / 128.) AS space_used_mb\n",
                "    ,CONVERT(DECIMAL(15,3),size - CONVERT(INT,FILEPROPERTY(name, 'SpaceUsed')) / 128.) AS free_space_mb\n",
                "\t,IIF(max_size = -1, NULL, CONVERT(DECIMAL(15,3),max_size / 128.)) AS max_size_mb\n",
                "FROM \n",
                "    tempdb.sys.database_files\n",
                "ORDER BY\n",
                "\t[type] DESC, file_id"
            ],
            "metadata": {
                "language": "sql",
                "azdata_cell_guid": "11bb9823-e36a-44f4-a8ff-8dbb6be5c68a"
            },
            "outputs": [],
            "execution_count": null
        },
        {
            "cell_type": "markdown",
            "source": [
                "**tempdb Usage Per Session**"
            ],
            "metadata": {
                "azdata_cell_guid": "7f4b29c3-c439-471b-a50d-1196b16be8ff"
            },
            "attachments": {}
        },
        {
            "cell_type": "code",
            "source": [
                ";WITH SpaceUsagePages\n",
                "AS\n",
                "(\n",
                "    SELECT\n",
                "        ss.session_id\n",
                "        ,ss.user_objects_alloc_page_count + \n",
                "            ISNULL(SUM(ts.user_objects_alloc_page_count),0)\n",
                "                AS [user_alloc_page_count]\n",
                "        ,ss.user_objects_dealloc_page_count + \n",
                "            ISNULL(SUM(ts.user_objects_dealloc_page_count),0)\n",
                "                AS [user_dealloc_page_count]\n",
                "        ,ss.user_objects_deferred_dealloc_page_count\n",
                "                AS [user_deferred_page_count]\n",
                "        ,ss.internal_objects_alloc_page_count + \n",
                "            ISNULL(SUM(ts.internal_objects_alloc_page_count),0)\n",
                "                AS [internal_alloc_page_count]\n",
                "        ,ss.internal_objects_dealloc_page_count + \n",
                "            ISNULL(SUM(ts.internal_objects_dealloc_page_count),0)\n",
                "                AS [internal_dealloc_page_count]\n",
                "    FROM\n",
                "        sys.dm_db_session_space_usage ss WITH (NOLOCK) LEFT JOIN\n",
                "            sys.dm_db_task_space_usage ts WITH (NOLOCK) ON\n",
                "                ss.session_id = ts.session_id\n",
                "    GROUP BY\n",
                "        ss.session_id\n",
                "        ,ss.user_objects_alloc_page_count \n",
                "        ,ss.user_objects_dealloc_page_count \n",
                "        ,ss.internal_objects_alloc_page_count \n",
                "        ,ss.internal_objects_dealloc_page_count\n",
                "        ,ss.user_objects_deferred_dealloc_page_count\n",
                ")\n",
                ",SpaceUsage\n",
                "AS\n",
                "(\n",
                "    SELECT\n",
                "        session_id\n",
                "        ,CONVERT(DECIMAL(12,3),([user_alloc_page_count] - [user_dealloc_page_count]) / 128.)\n",
                "            AS [user_used_mb]\n",
                "        ,CONVERT(DECIMAL(12,3),([internal_alloc_page_count] - [internal_dealloc_page_count]) / 128.)\n",
                "            AS [internal_used_mb]\n",
                "        ,CONVERT(DECIMAL(12,3),user_deferred_page_count / 128.)\n",
                "            AS [user_deferred_used_mb]\n",
                "    FROM\n",
                "        SpaceUsagePages\n",
                ")\n",
                "SELECT\n",
                "    su.session_id\n",
                "    ,su.user_used_mb\n",
                "    ,su.internal_used_mb\n",
                "    ,su.user_deferred_used_mb\n",
                "    ,su.user_used_mb + su.internal_used_mb AS [space_used_mb]\t\n",
                "    ,es.open_transaction_count\n",
                "    ,es.login_time\n",
                "    ,es.original_login_name\n",
                "    ,es.host_name\n",
                "    ,es.program_name\n",
                "    ,er.status as [request_status]\n",
                "    ,er.start_time\n",
                "    ,CONVERT(DECIMAL(21,3),er.total_elapsed_time / 1000.) AS [duration]\n",
                "    ,er.cpu_time\n",
                "    ,ib.event_info as [buffer]\n",
                "    ,er.wait_type\n",
                "    ,er.wait_time\n",
                "    ,er.wait_resource\n",
                "    ,er.blocking_session_id\n",
                "FROM \n",
                "    SpaceUsage su  \n",
                "        LEFT JOIN sys.dm_exec_requests er WITH (NOLOCK) ON\n",
                "            su.session_id = er.session_id\n",
                "        LEFT JOIN sys.dm_exec_sessions es WITH (NOLOCK) ON\n",
                "            su.session_id = es.session_id\n",
                "        OUTER APPLY \n",
                "            sys.dm_exec_input_buffer(es.session_id, er.request_id) ib\n",
                "WHERE \n",
                "     su.user_used_mb + su.internal_used_mb >= 50\n",
                "ORDER BY\n",
                "    [space_used_mb] DESC\n",
                "OPTION (RECOMPILE);"
            ],
            "metadata": {
                "azdata_cell_guid": "3c515136-3764-416e-a46c-6e3b3d131f61",
                "language": "sql"
            },
            "outputs": [],
            "execution_count": null
        },
        {
            "cell_type": "markdown",
            "source": [
                "**Analyzing version store usage per-database** \n",
                "\n",
                "SQL Server 2016 SP2 and above"
            ],
            "metadata": {
                "azdata_cell_guid": "9a6d63be-5925-47d4-aee8-c469621b1a91"
            },
            "attachments": {}
        },
        {
            "cell_type": "code",
            "source": [
                "SELECT\n",
                "    DB_NAME(database_id) AS [DB]\n",
                "    ,database_id\n",
                "    ,reserved_page_count\n",
                "    ,CONVERT(DECIMAL(12,3),reserved_space_kb / 1024.)\n",
                "        AS [Reserved Space (MB)]\n",
                "FROM \n",
                "    sys.dm_tran_version_store_space_usage WITH (NOLOCK)\n",
                "OPTION (MAXDOP 1, RECOMPILE);"
            ],
            "metadata": {
                "azdata_cell_guid": "8b9c64b4-3ae2-407d-a640-0c2e93286d0f",
                "language": "sql"
            },
            "outputs": [],
            "execution_count": null
        },
        {
            "cell_type": "markdown",
            "source": [
                "**Analyzing version store usage per-database** \n",
                "\n",
                "Prior than SQL Server 2016. Results are less accurate."
            ],
            "metadata": {
                "azdata_cell_guid": "b00a04ad-f1c1-4b12-a63e-bb2d3ceb9e54"
            },
            "attachments": {}
        },
        {
            "cell_type": "code",
            "source": [
                "SELECT \n",
                "    DB_NAME(database_id) AS [DB]\n",
                "    ,database_id\n",
                "    ,CONVERT(DECIMAL(12,3),\n",
                "        SUM(record_length_first_part_in_bytes + \n",
                "            record_length_second_part_in_bytes) / 1024. / 1024.\n",
                "    ) AS [Version Store (MB)]\n",
                "FROM\n",
                "    sys.dm_tran_version_store WITH (NOLOCK)\n",
                "GROUP BY\n",
                "    database_id\n",
                "OPTION (MAXDOP 1, RECOMPILE);\n",
                ""
            ],
            "metadata": {
                "azdata_cell_guid": "3d228f4e-243a-4764-867d-0593b5ab0232",
                "language": "sql"
            },
            "outputs": [],
            "execution_count": null
        },
        {
            "cell_type": "markdown",
            "source": [
                "**Tracking tempdb spills**\n",
                "\n",
                "Create xEvent Session"
            ],
            "metadata": {
                "azdata_cell_guid": "25c8ccfe-4145-4619-935b-1a6e66fc3f6b"
            },
            "attachments": {}
        },
        {
            "cell_type": "code",
            "source": [
                "IF EXISTS (SELECT * FROM sys.server_event_sessions WHERE name = 'Spills')\n",
                "\tDROP EVENT SESSION Spills ON SERVER;\n",
                "GO\n",
                "\n",
                "CREATE EVENT SESSION [Spills] \n",
                "ON SERVER \n",
                "ADD EVENT sqlserver.hash_warning\n",
                "(\n",
                "    ACTION\n",
                "    (\n",
                "        sqlserver.database_id\n",
                "        ,sqlserver.plan_handle\n",
                "        ,sqlserver.session_id\n",
                "        ,sqlserver.sql_text\n",
                "        ,sqlserver.query_hash\n",
                "        ,sqlserver.query_plan_hash\n",
                "    )\n",
                "    WHERE ([sqlserver].[is_system]=0)\n",
                "),\n",
                "ADD EVENT sqlserver.sort_warning\n",
                "(\n",
                "    ACTION\n",
                "    (\n",
                "        sqlserver.database_id\n",
                "        ,sqlserver.plan_handle\n",
                "        ,sqlserver.session_id\n",
                "        ,sqlserver.sql_text\n",
                "        ,sqlserver.query_hash\n",
                "        ,sqlserver.query_plan_hash\n",
                "    )\n",
                "    WHERE ([sqlserver].[is_system]=0)\n",
                "), \n",
                "ADD EVENT sqlserver.exchange_spill\n",
                "(\n",
                "    ACTION\n",
                "    (\n",
                "        sqlserver.database_id\n",
                "        ,sqlserver.plan_handle\n",
                "        ,sqlserver.session_id\n",
                "        ,sqlserver.sql_text\n",
                "        ,sqlserver.query_hash\n",
                "        ,sqlserver.query_plan_hash\n",
                "    )\n",
                "    WHERE ([sqlserver].[is_system]=0)\n",
                ")\n",
                "ADD TARGET package0.ring_buffer;\n",
                "GO"
            ],
            "metadata": {
                "azdata_cell_guid": "6f60926a-2ed0-4104-906f-f669f2a9ccad",
                "language": "sql"
            },
            "outputs": [],
            "execution_count": null
        },
        {
            "cell_type": "markdown",
            "source": [
                "Start xEvent Session"
            ],
            "metadata": {
                "azdata_cell_guid": "fe59b1f3-7e5d-402b-b2a9-63c149446a30"
            },
            "attachments": {}
        },
        {
            "cell_type": "code",
            "source": [
                "ALTER EVENT SESSION [Spills] \n",
                "ON SERVER \n",
                "STATE = START;"
            ],
            "metadata": {
                "azdata_cell_guid": "165ae352-1dae-4511-8bd0-e9619674a89e",
                "language": "sql"
            },
            "outputs": [],
            "execution_count": null
        },
        {
            "cell_type": "markdown",
            "source": [
                "Analyze the results"
            ],
            "metadata": {
                "azdata_cell_guid": "b3bb9978-d95f-4331-9a43-8d16e3445380"
            },
            "attachments": {}
        },
        {
            "cell_type": "code",
            "source": [
                "IF OBJECT_ID('tempdb..#tmpXML') IS NOT NULL\n",
                "    DROP TABLE #tmpXML;\n",
                "GO\n",
                "\n",
                "CREATE TABLE #tmpXML\n",
                "(\n",
                "    EventTime DATETIME2(7) NOT NULL,\n",
                "    [Event] XML\n",
                ");\n",
                "GO\n",
                "\n",
                "DECLARE \n",
                "    @TargetData XML;\n",
                "\n",
                "SELECT  \n",
                "    @TargetData = CONVERT(XML,st.target_data) \n",
                "FROM  \n",
                "    sys.dm_xe_sessions s WITH (NOLOCK)  \n",
                "        JOIN sys.dm_xe_session_targets st WITH(NOLOCK) ON \n",
                "            s.address = st.event_session_address \n",
                "WHERE  \n",
                "    s.name = 'Spills' and st.target_name = 'ring_buffer';\n",
                "\n",
                "INSERT INTO #tmpXML(EventTime, [Event])\n",
                "    SELECT \n",
                "        t.e.value('@timestamp','datetime'), t.e.query('.') \n",
                "    FROM \n",
                "        @TargetData.nodes('/RingBufferTarget/event') AS t(e); \n",
                "\n",
                ";WITH EventInfo\n",
                "AS\n",
                "(\n",
                "    SELECT\n",
                "        t.EventTime\n",
                "        ,t.[Event].value('/event[1]/@name','sysname') AS [Event]\n",
                "        ,t.[Event].value('(/event[1]/action[@name=\"session_id\"]/value/text())[1]'\n",
                "            ,'smallint') AS [Session]\n",
                "        ,t.[Event].value('(/event[1]/action[@name=\"database_id\"]/value/text())[1]'\n",
                "            ,'smallint') AS [DB]\n",
                "        ,t.[Event].value('(/event[1]/action[@name=\"sql_text\"]/value/text())[1]'\n",
                "            ,'nvarchar(max)') AS [SQL]\n",
                "        ,t.[Event]\n",
                "            .value('(/event[1]/data[@name=\"granted_memory_kb\"]/value/text())[1]'\n",
                "                ,'bigint') AS [Granted Memory (KB)]\n",
                "        ,t.[Event]\n",
                "            .value('(/event[1]/data[@name=\"used_memory_kb\"]/value/text())[1]'\n",
                "                ,'bigint') AS [Used Memory (KB)]\n",
                "        ,t.[Event]\n",
                "  .value('xs:hexBinary((/event[1]/action[@name=\"plan_handle\"]/value/text())[1])'\n",
                "                ,'varbinary(64)') AS [PlanHandle]\n",
                "        ,t.[Event].value('(/event[1]/action[@name=\"query_hash\"]/value/text())[1]'\n",
                "            ,'nvarchar(64)') AS [QueryHash]\n",
                "        ,t.[Event]\n",
                "            .value('(/event[1]/action[@name=\"query_plan_hash\"]/value/text())[1]'\n",
                "                ,'nvarchar(64)') AS [QueryPlanHash]\n",
                "FROM\n",
                "    #tmpXML t\n",
                ")\n",
                "SELECT\n",
                "    ei.*, qp.query_plan\n",
                "FROM\n",
                "    EventInfo ei \n",
                "        OUTER APPLY sys.dm_exec_query_plan(ei.PlanHandle) qp\n",
                "OPTION (RECOMPILE, MAXDOP 1); "
            ],
            "metadata": {
                "azdata_cell_guid": "3a0183e4-b560-4170-8ff1-6f71981c981c",
                "language": "sql"
            },
            "outputs": [],
            "execution_count": null
        },
        {
            "cell_type": "markdown",
            "source": [
                "Stop xEvent session"
            ],
            "metadata": {
                "azdata_cell_guid": "12809c43-ffa6-46f5-ab8f-61fff1ab8979"
            },
            "attachments": {}
        },
        {
            "cell_type": "code",
            "source": [
                "ALTER EVENT SESSION [Spills] \n",
                "ON SERVER \n",
                "STATE = STOP;"
            ],
            "metadata": {
                "azdata_cell_guid": "7eb3d698-306f-47d4-9a01-48810e14c1e6",
                "language": "sql"
            },
            "outputs": [],
            "execution_count": null
        },
        {
            "cell_type": "markdown",
            "source": [
                "**Counting tempdb spills**\n",
                "\n",
                "Create xEvent Session"
            ],
            "metadata": {
                "azdata_cell_guid": "ea8d45b2-ca71-41be-9938-6fafd1dddf47"
            },
            "attachments": {}
        },
        {
            "cell_type": "code",
            "source": [
                "IF EXISTS (SELECT * FROM sys.server_event_sessions WHERE name = 'Spill_Count')\n",
                "\tDROP EVENT SESSION Spill_Count ON SERVER;\n",
                "GO\n",
                "\n",
                "CREATE EVENT SESSION [Spill_Count] \n",
                "ON SERVER \n",
                "ADD EVENT sqlserver.exchange_spill,\n",
                "ADD EVENT sqlserver.hash_warning,\n",
                "ADD EVENT sqlserver.sort_warning\n",
                "ADD TARGET package0.event_counter;"
            ],
            "metadata": {
                "azdata_cell_guid": "8e638dec-f387-4b4b-83f8-4878d1f57035",
                "language": "sql"
            },
            "outputs": [],
            "execution_count": null
        },
        {
            "cell_type": "markdown",
            "source": [
                "Start xEvent Session"
            ],
            "metadata": {
                "azdata_cell_guid": "c16787f5-eb18-45d2-9023-3c838744ff62"
            },
            "attachments": {}
        },
        {
            "cell_type": "code",
            "source": [
                "ALTER EVENT SESSION [Spill_Count] \n",
                "ON SERVER \n",
                "STATE = START;"
            ],
            "metadata": {
                "azdata_cell_guid": "1815c291-ab25-4d04-8373-6bc51b9be8f4",
                "language": "sql"
            },
            "outputs": [],
            "execution_count": null
        },
        {
            "cell_type": "markdown",
            "source": [
                "Analyze the results"
            ],
            "metadata": {
                "azdata_cell_guid": "998b3d7e-345b-4fc9-b076-a84e1d244145"
            },
            "attachments": {}
        },
        {
            "cell_type": "code",
            "source": [
                "DECLARE \n",
                "    @TargetData XML\n",
                "\n",
                "SELECT \n",
                "    @TargetData = CONVERT(XML,st.target_data) \n",
                "FROM \n",
                "    sys.dm_xe_sessions s WITH (NOLOCK) \n",
                "        JOIN sys.dm_xe_session_targets st WITH(NOLOCK) ON\n",
                "            s.address = st.event_session_address\n",
                "WHERE \n",
                "    s.name = 'Spill_Count' and st.target_name = 'event_counter';\n",
                "\n",
                ";WITH EventInfo\n",
                "AS\n",
                "(\n",
                "    SELECT\n",
                "        t.e.value('@name','sysname') AS [Event] \n",
                "        ,t.e.value('@count','bigint') AS [Count] \n",
                "    FROM\n",
                "        @TargetData.nodes\n",
                "             ('/CounterTarget/Packages/Package[@name=\"sqlserver\"]/Event') \n",
                "                AS t(e)\n",
                ") \n",
                "SELECT [Event], [Count] \n",
                "FROM EventInfo\n",
                "OPTION (RECOMPILE, MAXDOP 1); \n",
                ""
            ],
            "metadata": {
                "azdata_cell_guid": "e0333d12-6724-4174-9b71-9d3546719957",
                "language": "sql"
            },
            "outputs": [],
            "execution_count": null
        },
        {
            "cell_type": "markdown",
            "source": [
                "Stop xEvent session"
            ],
            "metadata": {
                "azdata_cell_guid": "5edac2af-d8c2-4831-9122-1547f39d079a"
            },
            "attachments": {}
        },
        {
            "cell_type": "code",
            "source": [
                "ALTER EVENT SESSION [Spill_Count] \n",
                "ON SERVER \n",
                "STATE = STOP;"
            ],
            "metadata": {
                "azdata_cell_guid": "d3a62bfd-3683-4280-9439-ca4cb63cf616",
                "language": "sql"
            },
            "outputs": [],
            "execution_count": null
        }
    ]
}