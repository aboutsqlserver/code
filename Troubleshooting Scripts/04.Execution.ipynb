{
    "metadata": {
        "kernelspec": {
            "name": "SQL",
            "display_name": "SQL",
            "language": "sql"
        },
        "language_info": {
            "name": "sql",
            "version": ""
        }
    },
    "nbformat_minor": 2,
    "nbformat": 4,
    "cells": [
        {
            "cell_type": "markdown",
            "source": [
                "**Troubleshooting Scripts - Execution-Related DMVs (sys.dm\\_exec\\_requests, sys.dm\\_os\\_waiting\\_tasks, etc)**\n",
                "\n",
                "Dmitri V. Korotkevitch (MCM, MVP)\n",
                "\n",
                "email: [dk@aboutsqlserver.com](mailto:dk@aboutsqlserver.com)      blog: [https://aboutsqlserver.com](https://aboutsqlserver.com/) code: [https://github.com/aboutsqlserver/code](https://github.com/aboutsqlserver/code)\n",
                "\n",
                "SQL Server Advanced Troubleshooting and Performance Tuning (O'Reilly, 2022)      ISBN: 978-1098101923"
            ],
            "metadata": {
                "azdata_cell_guid": "f723e458-b6fd-4359-9dca-fe96f3d92e07"
            },
            "attachments": {}
        },
        {
            "cell_type": "markdown",
            "source": [
                "**Get the list of active requests in the system**\n",
                "\n",
                "The script filters out SPID \\<= 50 to get user sessions only. This may miss Service Broker activation procedures. Also, it is possible to have system sessions with session\\_id \\> 50 nowadays. You can also change the script and use sys.dm\\_exec\\_sessions.is\\_user\\_process instead. \n",
                "\n",
                "Sort based on your troubleshooting strategy. For example, by cpu\\_time, if you look for the most CPU-intensive queries, (logical\\_reads + writes) for I/O intensive queries, etc"
            ],
            "metadata": {
                "azdata_cell_guid": "3624fab1-6a46-44da-95f0-f97ecdbc67cd"
            },
            "attachments": {}
        },
        {
            "cell_type": "code",
            "source": [
                "SELECT\t\n",
                "    er.session_id\n",
                "    ,er.request_id\n",
                "    ,DB_NAME(er.database_id) as [database]\n",
                "    ,er.start_time\n",
                "    ,CONVERT(DECIMAL(21,3),er.total_elapsed_time / 1000.) AS [duration]\n",
                "    ,er.cpu_time\n",
                "    ,SUBSTRING(\n",
                "        qt.text, \n",
                "        (er.statement_start_offset / 2) + 1,\n",
                "            ((CASE er.statement_end_offset\n",
                "                WHEN -1 THEN DATALENGTH(qt.text)\n",
                "                ELSE er.statement_end_offset\n",
                "            END - er.statement_start_offset) / 2) + 1\n",
                "    ) AS [statement]\n",
                "    ,er.status\n",
                "    ,er.wait_type\n",
                "    ,er.wait_time\n",
                "    ,er.wait_resource\n",
                "    ,er.blocking_session_id\n",
                "    ,er.last_wait_type\n",
                "    ,er.reads\n",
                "    ,er.logical_reads\n",
                "    ,er.writes\n",
                "    ,er.granted_query_memory\n",
                "    ,er.dop -- SQL Server 2016+\n",
                "    ,er.row_count\n",
                "    ,er.percent_complete\n",
                "    ,es.login_time\n",
                "    ,es.original_login_name\n",
                "    ,es.host_name\n",
                "    ,es.program_name\n",
                "    ,c.client_net_address\n",
                "    ,ib.event_info AS [buffer]\n",
                "    ,qt.text AS [sql]\n",
                "    ,TRY_CONVERT(XML,p.query_plan) as [query_plan]\n",
                "FROM\t\n",
                "    sys.dm_exec_requests er WITH (NOLOCK)\n",
                "        OUTER APPLY sys.dm_exec_input_buffer(er.session_id, er.request_id) ib\n",
                "        OUTER APPLY sys.dm_exec_sql_text(er.sql_handle) qt\n",
                "        OUTER APPLY \n",
                "            sys.dm_exec_text_query_plan\n",
                "            (\n",
                "                er.plan_handle\n",
                "                ,er.statement_start_offset\n",
                "                ,er.statement_end_offset\n",
                "            ) p\n",
                "        LEFT JOIN sys.dm_exec_connections c WITH (NOLOCK) ON \n",
                "            er.session_id = c.session_id \n",
                "        LEFT JOIN sys.dm_exec_sessions es WITH (NOLOCK) ON \n",
                "            er.session_id = es.session_id\n",
                "WHERE\n",
                "    er.status <> 'background' \n",
                "    AND er.session_id > 50\n",
                "ORDER BY \n",
                "    er.cpu_time desc\n",
                "OPTION (RECOMPILE, MAXDOP 1);"
            ],
            "metadata": {
                "azdata_cell_guid": "bb970fc8-5b79-46d6-a359-14cd24400066",
                "language": "sql"
            },
            "outputs": [],
            "execution_count": null
        },
        {
            "cell_type": "markdown",
            "source": [
                "**Get the list of active requests in the system using lightweight profiling instead of regular query plan**\n",
                "\n",
                "Requires SQL Server 2016 SP1+. See [documentation](https://docs.microsoft.com/en-us/sql/relational-databases/system-dynamic-management-views/sys-dm-exec-query-statistics-xml-transact-sql) for more details."
            ],
            "metadata": {
                "azdata_cell_guid": "d595f0ea-fef8-43a4-b187-467b18968284"
            },
            "attachments": {}
        },
        {
            "cell_type": "code",
            "source": [
                "SELECT\t\n",
                "    er.session_id\n",
                "    ,er.request_id\n",
                "    ,DB_NAME(er.database_id) as [database]\n",
                "    ,er.start_time\n",
                "    ,CONVERT(DECIMAL(21,3),er.total_elapsed_time / 1000.) AS [duration]\n",
                "    ,er.cpu_time\n",
                "    ,SUBSTRING(\n",
                "        qt.text, \n",
                "        (er.statement_start_offset / 2) + 1,\n",
                "        ((CASE er.statement_end_offset\n",
                "            WHEN -1 THEN DATALENGTH(qt.text)\n",
                "            ELSE er.statement_end_offset\n",
                "        END - er.statement_start_offset) / 2) + 1\n",
                "    ) AS [statement]\n",
                "    ,er.status\n",
                "    ,er.wait_type\n",
                "    ,er.wait_time\n",
                "    ,er.wait_resource\n",
                "    ,er.blocking_session_id\n",
                "    ,er.last_wait_type\n",
                "    ,er.reads\n",
                "    ,er.logical_reads\n",
                "    ,er.writes\n",
                "    ,er.granted_query_memory\n",
                "    ,er.dop\n",
                "    ,er.row_count\n",
                "    ,er.percent_complete\n",
                "    ,es.login_time\n",
                "    ,es.original_login_name\n",
                "    ,es.host_name\n",
                "    ,es.program_name\n",
                "    ,c.client_net_address\n",
                "    ,ib.event_info AS [buffer]\n",
                "    ,qt.text AS [sql]\n",
                "    ,p.query_plan\n",
                "FROM\t\n",
                "    sys.dm_exec_requests er WITH (NOLOCK)\n",
                "        OUTER APPLY sys.dm_exec_input_buffer(er.session_id, er.request_id) ib\n",
                "        OUTER APPLY sys.dm_exec_sql_text(er.sql_handle) qt\n",
                "        OUTER APPLY sys.dm_exec_query_statistics_xml(er.session_id) p\n",
                "        LEFT JOIN sys.dm_exec_connections c WITH (NOLOCK) ON \n",
                "            er.session_id = c.session_id \n",
                "        LEFT JOIN sys.dm_exec_sessions es WITH (NOLOCK) ON \n",
                "            er.session_id = es.session_id\n",
                "WHERE\n",
                "    er.status <> 'background'\n",
                "    AND er.session_id > 50\n",
                "ORDER BY \n",
                "    er.cpu_time desc\n",
                "OPTION (RECOMPILE, MAXDOP 1);\n",
                ""
            ],
            "metadata": {
                "azdata_cell_guid": "912a4c8d-52f7-4870-9f0a-75c502b4ef61",
                "language": "sql"
            },
            "outputs": [],
            "execution_count": null
        },
        {
            "cell_type": "markdown",
            "source": [
                "**Schedulers information**\n",
                "\n",
                "Pay attention to the number of online schedulers per NUMA node. Uneven distribution will impact system performance"
            ],
            "metadata": {
                "azdata_cell_guid": "d150d22b-3fc8-40c7-95f7-e9807ba1205b"
            },
            "attachments": {}
        },
        {
            "cell_type": "code",
            "source": [
                "SELECT \n",
                "    parent_node_id AS [NUMA Node]\n",
                "    ,COUNT(*) AS [Schedulers]\n",
                "    ,SUM(IIF(status = N'VISIBLE ONLINE',1,0))\n",
                "        AS [Online Schedulers]\n",
                "    ,SUM(IIF(status = N'VISIBLE OFFLINE',1,0))\n",
                "        AS [Offline Schedulers]\n",
                "    ,SUM(current_tasks_count) \n",
                "        AS [Current Tasks] \n",
                "    ,SUM(runnable_tasks_count) \n",
                "        AS [Runnable Tasks] \n",
                "FROM \n",
                "    sys.dm_os_schedulers WITH (NOLOCK)\n",
                "WHERE \n",
                "    status IN (N'VISIBLE ONLINE',N'VISIBLE OFFLINE') \n",
                "GROUP BY \n",
                "    parent_node_id\n",
                "OPTION (RECOMPILE, MAXDOP 1);"
            ],
            "metadata": {
                "azdata_cell_guid": "0d6897df-f195-4a6a-ad5a-64fead141757",
                "language": "sql"
            },
            "outputs": [],
            "execution_count": null
        },
        {
            "cell_type": "markdown",
            "source": [
                "**The list of currently waiting tasks**\n",
                "\n",
                "In some cases, you may want to remove filter by session\\_id \\> 50 to get the information about system sessions"
            ],
            "metadata": {
                "azdata_cell_guid": "207cef73-fde4-4e5c-9c17-da38da47f348"
            },
            "attachments": {}
        },
        {
            "cell_type": "code",
            "source": [
                "SELECT\n",
                "\twt.session_id\n",
                "\t,wt.wait_type\n",
                "\t,wt.wait_duration_ms\n",
                "\t,wt.blocking_session_id\n",
                "\t,wt.resource_description\n",
                "FROM \n",
                "\tsys.dm_os_waiting_tasks wt WITH (NOLOCK)\n",
                "WHERE\n",
                "\twt.session_id > 50\n",
                "ORDER BY\n",
                "\twt.wait_duration_ms DESC\n",
                "OPTION (MAXDOP 1, RECOMPILE);"
            ],
            "metadata": {
                "azdata_cell_guid": "a67f1071-006c-4a70-9877-dae15a5ffc45",
                "language": "sql"
            },
            "outputs": [],
            "execution_count": null
        },
        {
            "cell_type": "markdown",
            "source": [
                "**Get connection information for the sessions**\n",
                "\n",
                "Set the session\\_id in WHERE clause if you want to troubleshoot the single session/connection"
            ],
            "metadata": {
                "azdata_cell_guid": "d2614bbf-2c4a-44fe-8a75-3a88df58fc0b"
            },
            "attachments": {}
        },
        {
            "cell_type": "code",
            "source": [
                "SELECT\n",
                "\tec.session_id\n",
                "\t,DB_NAME(s.database_id) AS [database] -- SQL Server 2012+\n",
                "\t,s.login_time \n",
                "\t,s.host_name\n",
                "\t,s.program_name\n",
                "\t,s.login_name\n",
                "\t,s.original_login_name\n",
                "\t,s.cpu_time\n",
                "\t,s.last_request_start_time\n",
                "\t,s.reads\n",
                "\t,s.writes\n",
                "\t,ec.connect_time\n",
                "\t,qt.text AS [SQL]\n",
                "FROM \n",
                "\tsys.dm_exec_connections ec WITH (NOLOCK)\n",
                "\t\tLEFT JOIN sys.dm_exec_sessions s WITH (NOLOCK) ON\n",
                "\t\t\tec.session_id = s.session_id\n",
                "\t\tOUTER APPLY\n",
                "\t\t\tsys.dm_exec_sql_text(ec.most_recent_sql_handle) qt\n",
                "--WHERE\n",
                "--\tec.session_id = 51 -- session id of the session\n",
                "ORDER BY\n",
                "    session_id\n",
                "OPTION (MAXDOP 1, RECOMPILE)"
            ],
            "metadata": {
                "azdata_cell_guid": "29b9a474-3508-4d7b-8f7d-72280f9335d1",
                "language": "sql",
                "tags": []
            },
            "outputs": [],
            "execution_count": null
        },
        {
            "cell_type": "markdown",
            "source": [
                "**Waiting tasks with connection information**"
            ],
            "metadata": {
                "azdata_cell_guid": "1c266a03-130f-4e2a-b3de-fe3190ae420f"
            },
            "attachments": {}
        },
        {
            "cell_type": "code",
            "source": [
                "SELECT\n",
                "\twt.session_id\n",
                "\t,DB_NAME(s1.database_id) AS [database] -- SQL Server 2012+\n",
                "\t,wt.wait_type\n",
                "\t,wt.wait_duration_ms\n",
                "\t,wt.blocking_session_id\n",
                "\t,wt.resource_description\n",
                "\t,s2.login_time AS [blocking_login_time]\n",
                "\t,s2.host_name AS [blocking_host_name]\n",
                "\t,s2.program_name AS [blocking_program_name]\n",
                "\t,s2.login_name AS [blocking_login_name]\n",
                "\t,s2.original_login_name AS [blocking_original_login]\n",
                "\t,s2.cpu_time AS [blocking_cpu_time]\n",
                "\t,s2.last_request_start_time AS [blocking_request_start_time]\n",
                "\t,s2.reads AS [blocking_reads]\n",
                "\t,s2.writes AS [blocking_writes]\n",
                "\t,ec2.connect_time AS [blocking_connect_time]\n",
                "\t,qt2.text AS [blocking_sql]  \n",
                "    ,s1.login_time AS [blocked_login_time]\n",
                "\t,s1.host_name AS [blocked_host_name]\n",
                "\t,s1.program_name AS [blocked_program_name]\n",
                "\t,s1.login_name AS [blocked_login_name]\n",
                "\t,s1.original_login_name AS [blocked_original_login]\n",
                "\t,s1.cpu_time AS [blocked_cpu_time]\n",
                "\t,s1.last_request_start_time AS [blocked_request_start_time]\n",
                "\t,s1.reads AS [blocked_reads]\n",
                "\t,s1.writes AS [blocked_writes]\n",
                "\t,ec1.connect_time AS [blocked_connect_time]\n",
                "\t,qt1.text AS [blocked_sql] \n",
                "FROM \n",
                "\tsys.dm_os_waiting_tasks wt WITH (NOLOCK)\n",
                "\t    JOIN sys.dm_exec_connections ec1 WITH (NOLOCK) ON\n",
                "            wt.session_id = ec1.session_id\n",
                "\t\tLEFT JOIN sys.dm_exec_sessions s1 WITH (NOLOCK) ON\n",
                "\t\t\tec1.session_id = s1.session_id\n",
                "\t\tOUTER APPLY\n",
                "\t\t\tsys.dm_exec_sql_text(ec1.most_recent_sql_handle) qt1    \n",
                "\t    LEFT JOIN sys.dm_exec_connections ec2 WITH (NOLOCK) ON\n",
                "            wt.blocking_session_id = ec2.session_id\n",
                "\t\tLEFT JOIN sys.dm_exec_sessions s2 WITH (NOLOCK) ON\n",
                "\t\t\tec2.session_id = s2.session_id\n",
                "\t\tOUTER APPLY\n",
                "\t\t\tsys.dm_exec_sql_text(ec2.most_recent_sql_handle) qt2               \n",
                "WHERE\n",
                "\twt.session_id > 50\n",
                "ORDER BY\n",
                "\twt.wait_duration_ms DESC\n",
                "OPTION (MAXDOP 1, RECOMPILE);"
            ],
            "metadata": {
                "azdata_cell_guid": "1c1c1e29-09b8-4105-9557-45fd5e2633b6",
                "language": "sql"
            },
            "outputs": [],
            "execution_count": null
        }
    ]
}