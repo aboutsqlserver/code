{
    "metadata": {
        "kernelspec": {
            "name": "SQL",
            "display_name": "SQL",
            "language": "sql"
        },
        "language_info": {
            "name": "sql",
            "version": ""
        }
    },
    "nbformat_minor": 2,
    "nbformat": 4,
    "cells": [
        {
            "cell_type": "markdown",
            "source": [
                "**Troubleshooting Scripts - Latches**\n",
                "\n",
                "Dmitri V. Korotkevitch (MCM, MVP)\n",
                "\n",
                "email: [dk@aboutsqlserver.com](mailto:dk@aboutsqlserver.com)      blog: [https://aboutsqlserver.com](https://aboutsqlserver.com/) code: [https://github.com/aboutsqlserver/code](https://github.com/aboutsqlserver/code)\n",
                "\n",
                "SQL Server Advanced Troubleshooting and Performance Tuning (O'Reilly, 2022)      ISBN: 978-1098101923"
            ],
            "metadata": {
                "azdata_cell_guid": "c4141c5b-b90c-4688-8dd8-ce14a2f2bfb6"
            },
            "attachments": {}
        },
        {
            "cell_type": "markdown",
            "source": [
                "**Analyzing latch statistics**\n",
                "\n",
                "  \n",
                "\n",
                "Clearing the statistics (do not run unless you want to get the clean snapshot during the troubleshooting)"
            ],
            "metadata": {
                "azdata_cell_guid": "e518bb25-bd29-4f07-bb02-5fd1269f6a05"
            },
            "attachments": {}
        },
        {
            "cell_type": "code",
            "source": [
                "DBCC SQLPERF('sys.dm_os_latch_stats', CLEAR);"
            ],
            "metadata": {
                "azdata_cell_guid": "c110bf1b-c322-412e-89d3-272494d05e13",
                "language": "sql"
            },
            "outputs": [],
            "execution_count": null
        },
        {
            "cell_type": "markdown",
            "source": [
                "Getting the statistics"
            ],
            "metadata": {
                "azdata_cell_guid": "2529fa6a-b5b3-4650-93a3-7ec571e6b794"
            },
            "attachments": {}
        },
        {
            "cell_type": "code",
            "source": [
                ";WITH Latches\n",
                "AS\n",
                "(\n",
                "    SELECT \n",
                "        latch_class, wait_time_ms, waiting_requests_count\n",
                "        ,100. * wait_time_ms / SUM(wait_time_ms) OVER() AS Pct\n",
                "        ,100. * SUM(wait_time_ms) OVER(ORDER BY wait_time_ms DESC) /\n",
                "            NULLIF(SUM(wait_time_ms) OVER(), 0) AS RunningPct\n",
                "        ,ROW_NUMBER() OVER(ORDER BY wait_time_ms DESC) AS RowNum\n",
                "    FROM \n",
                "        sys.dm_os_latch_stats WITH (NOLOCK)\n",
                "    WHERE \n",
                "        wait_time_ms > 0 AND\n",
                "        latch_class NOT IN (N'BUFFER',N'SLEEP_TASK')\n",
                ")\n",
                "SELECT\n",
                "    l1.latch_class AS [Latch Type]\n",
                "    ,l1.waiting_requests_count AS [Latch Count]\n",
                "    ,CONVERT(DECIMAL(12,3), l1.wait_time_ms / 1000.0) \n",
                "        AS [Wait Time]\n",
                "    ,CONVERT(DECIMAL(12,1), l1.wait_time_ms / l1.waiting_requests_count) \n",
                "        AS [Avg Wait Time]    \n",
                "    ,CONVERT(DECIMAL(6,3), l1.Pct) \n",
                "        AS [Percent]\n",
                "    ,CONVERT(DECIMAL(6,3), l1.RunningPct) \n",
                "        AS [Running Percent]\n",
                "FROM\n",
                "    Latches l1\n",
                "WHERE\n",
                "    l1.RunningPct <= 99 OR l1.RowNum = 1\n",
                "ORDER BY\n",
                "    l1.RunningPct  \n",
                "OPTION (RECOMPILE, MAXDOP 1);"
            ],
            "metadata": {
                "azdata_cell_guid": "7e8c549c-595c-4c4c-abfb-684286b58ef3",
                "language": "sql"
            },
            "outputs": [],
            "execution_count": null
        },
        {
            "cell_type": "markdown",
            "source": [
                "**Getting snapshot of latch statistics for period of time**\n",
                "\n",
                "Set WAITFOR DELAY statement as needed for troubleshooting"
            ],
            "metadata": {
                "azdata_cell_guid": "49a261f6-669d-417c-bac2-4f4f70e7f912"
            },
            "attachments": {}
        },
        {
            "cell_type": "code",
            "source": [
                "IF OBJECT_ID(N'tempdb..#LatchStats') IS NOT NULL \n",
                "\tDROP TABLE #LatchStats;\n",
                "GO\n",
                "\n",
                "CREATE TABLE #LatchStats\n",
                "(\n",
                "\tlatch_class NVARCHAR(60) NOT NULL,\n",
                "\tlatch_count BIGINT NOT NULL,\n",
                "\twait_time_ms BIGINT NOT NULL,\n",
                "\tPRIMARY KEY(latch_class)\n",
                ");\n",
                "\n",
                "INSERT INTO #LatchStats(latch_class,latch_count,wait_time_ms)\n",
                "    SELECT \n",
                "\t\tlatch_class, waiting_requests_count, wait_time_ms\n",
                "    FROM \n",
                "        sys.dm_os_latch_stats WITH (NOLOCK)\n",
                "    WHERE \n",
                "        wait_time_ms > 0 AND\n",
                "        latch_class NOT IN (N'BUFFER',N'SLEEP_TASK')\n",
                "\tOPTION (MAXDOP 1, RECOMPILE);\n",
                "\n",
                "WAITFOR DELAY '00:01:00.000'; \n",
                "\n",
                ";WITH LatchDelta\n",
                "AS\n",
                "(\n",
                "\tSELECT \n",
                "\t\tl2.latch_class\n",
                "\t\t,l2.waiting_requests_count - ISNULL(l1.latch_count,0) AS waiting_requests_count\n",
                "\t\t,l2.wait_time_ms - ISNULL(l1.wait_time_ms,0) AS wait_time_ms\n",
                "\tFROM \n",
                "\t\tsys.dm_os_latch_stats l2 WITH (NOLOCK) \n",
                "\t\t\tLEFT JOIN #LatchStats l1 ON\n",
                "\t\t\t\tl2.latch_class = l1.latch_class\n",
                "    WHERE \n",
                "        l2.wait_time_ms > 0 AND\n",
                "        l2.latch_class NOT IN (N'BUFFER',N'SLEEP_TASK')\n",
                ")\n",
                ",Latches\n",
                "AS\n",
                "(\n",
                "    SELECT \n",
                "        latch_class, wait_time_ms, waiting_requests_count\n",
                "        ,100. * wait_time_ms / SUM(wait_time_ms) OVER() AS Pct\n",
                "        ,100. * SUM(wait_time_ms) OVER(ORDER BY wait_time_ms DESC) /\n",
                "            NULLIF(SUM(wait_time_ms) OVER(), 0) AS RunningPct\n",
                "        ,ROW_NUMBER() OVER(ORDER BY wait_time_ms DESC) AS RowNum\n",
                "    FROM \n",
                "        LatchDelta\n",
                ")\n",
                "SELECT\n",
                "    l1.latch_class AS [Latch Type]\n",
                "    ,l1.waiting_requests_count AS [Latch Count]\n",
                "    ,CONVERT(DECIMAL(12,3), l1.wait_time_ms / 1000.0) \n",
                "        AS [Wait Time]\n",
                "    ,CONVERT(DECIMAL(12,1), l1.wait_time_ms / l1.waiting_requests_count) \n",
                "        AS [Avg Wait Time]    \n",
                "    ,CONVERT(DECIMAL(6,3), l1.Pct) \n",
                "        AS [Percent]\n",
                "    ,CONVERT(DECIMAL(6,3), l1.RunningPct) \n",
                "        AS [Running Percent]\n",
                "FROM\n",
                "    Latches l1\n",
                "WHERE\n",
                "    l1.RunningPct <= 99 OR l1.RowNum = 1\n",
                "ORDER BY\n",
                "    l1.RunningPct  \n",
                "OPTION (RECOMPILE, MAXDOP 1);"
            ],
            "metadata": {
                "azdata_cell_guid": "b40b2191-01a5-4a6a-9a10-1de1ed9120ce",
                "language": "sql"
            },
            "outputs": [],
            "execution_count": null
        },
        {
            "cell_type": "markdown",
            "source": [
                "**Analyzing page latches**\n",
                "\n",
                "SQL Server prior 2019. Look at wait\\_resource and if it is related to tempdb (db id: 2)"
            ],
            "metadata": {
                "azdata_cell_guid": "9554f148-9d73-4070-8bd3-5a65efae6770"
            },
            "attachments": {}
        },
        {
            "cell_type": "code",
            "source": [
                "SELECT\n",
                "    wt.session_id\n",
                "    ,wt.wait_type\n",
                "    ,er.wait_resource\n",
                "    ,er.wait_time\n",
                "FROM \n",
                "    sys.dm_os_waiting_tasks wt WITH (NOLOCK)\n",
                "        JOIN sys.dm_exec_requests er WITH (NOLOCK) ON\n",
                "            wt.session_id = er.session_id\n",
                "WHERE\n",
                "    wt.wait_type LIKE 'PAGELATCH%'\n",
                "OPTION (MAXDOP 1, RECOMPILE);"
            ],
            "metadata": {
                "azdata_cell_guid": "bb36a916-5f64-4cd5-b85e-cc1223386b55",
                "language": "sql"
            },
            "outputs": [],
            "execution_count": null
        },
        {
            "cell_type": "markdown",
            "source": [
                "SQL Server 2019 and above"
            ],
            "metadata": {
                "azdata_cell_guid": "4726c7d5-8b14-4be9-87e4-87f1d611882d"
            },
            "attachments": {}
        },
        {
            "cell_type": "code",
            "source": [
                "SELECT\n",
                "    wt.session_id\n",
                "    ,wt.wait_type\n",
                "    ,er.wait_resource\n",
                "    ,er.wait_time\n",
                "    ,pi.database_id\n",
                "    ,pi.file_id\n",
                "    ,pi.page_id\n",
                "    ,pi.object_id\n",
                "    ,OBJECT_NAME(pi.object_id,pi.database_id) as [object]\n",
                "    ,pi.index_id\n",
                "    ,pi.page_type_desc\n",
                "FROM \n",
                "    sys.dm_os_waiting_tasks wt WITH (NOLOCK)\n",
                "        JOIN sys.dm_exec_requests er WITH (NOLOCK) ON\n",
                "            wt.session_id = er.session_id\n",
                "        CROSS APPLY \n",
                "            sys.fn_PageResCracker(er.page_resource) pc\n",
                "        CROSS APPLY \n",
                "            sys.dm_db_page_info(pc.db_id,pc.file_id\n",
                "                ,pc.page_id,'DETAILED') pi\n",
                "WHERE\n",
                "    wt.wait_type LIKE 'PAGELATCH%'\n",
                "OPTION (MAXDOP 1, RECOMPILE);"
            ],
            "metadata": {
                "azdata_cell_guid": "7d4c53e4-2a2d-4399-92c6-733c7f6f0c77",
                "language": "sql"
            },
            "outputs": [],
            "execution_count": null
        },
        {
            "cell_type": "markdown",
            "source": [
                "**Caputing page latches with xEvents**\n",
                "\n",
                "**Do not run outside of troubleshooting. This session introduces the overhead!**\n",
                "\n",
                "  \n",
                "\n",
                "Creating the session - it is capturing 2,000 events max"
            ],
            "metadata": {
                "azdata_cell_guid": "9e84405d-23a2-432d-bb12-6fe7e7c5d696"
            },
            "attachments": {}
        },
        {
            "cell_type": "code",
            "source": [
                "IF EXISTS (SELECT * FROM sys.server_event_sessions WHERE name = 'Latch Waits')\n",
                "\tDROP EVENT SESSION [Latch Waits] ON SERVER;\n",
                "GO\n",
                "\n",
                "CREATE EVENT SESSION [Latch Waits] ON SERVER \n",
                "ADD EVENT sqlserver.latch_suspend_end\n",
                "ADD TARGET package0.ring_buffer\n",
                "(SET max_events_limit=2000);"
            ],
            "metadata": {
                "azdata_cell_guid": "65837d9e-4711-4092-b8b3-86333520e505",
                "language": "sql"
            },
            "outputs": [],
            "execution_count": null
        },
        {
            "cell_type": "markdown",
            "source": [
                "Start the session"
            ],
            "metadata": {
                "azdata_cell_guid": "6cd91504-1505-486b-b748-d100a02b98aa"
            },
            "attachments": {}
        },
        {
            "cell_type": "code",
            "source": [
                "ALTER EVENT SESSION [Latch Waits] \n",
                "ON SERVER\n",
                "STATE = START;"
            ],
            "metadata": {
                "azdata_cell_guid": "02b2eabc-21fd-4859-8208-bda35f50783b",
                "language": "sql"
            },
            "outputs": [],
            "execution_count": null
        },
        {
            "cell_type": "markdown",
            "source": [
                "Analyze the results"
            ],
            "metadata": {
                "azdata_cell_guid": "faa65557-f9a4-420f-812b-9c22c861ef2b"
            },
            "attachments": {}
        },
        {
            "cell_type": "code",
            "source": [
                "IF OBJECT_ID('tempdb..#tmpXML') IS NOT NULL\n",
                "    DROP TABLE #tmpXML;\n",
                "GO\n",
                "\n",
                "CREATE TABLE #tmpXML\n",
                "(\n",
                "    EventTime DATETIME2(7) NOT NULL,\n",
                "    [Event] XML\n",
                ");\n",
                "\n",
                "DECLARE \n",
                "    @TargetData XML;\n",
                "\n",
                "SELECT  \n",
                "    @TargetData = CONVERT(XML,st.target_data) \n",
                "FROM  \n",
                "    sys.dm_xe_sessions s WITH (NOLOCK)  \n",
                "        JOIN sys.dm_xe_session_targets st WITH(NOLOCK) ON \n",
                "            s.address = st.event_session_address \n",
                "WHERE  \n",
                "    s.name = 'Latch Waits' and st.target_name = 'ring_buffer';\n",
                "\n",
                "INSERT INTO #tmpXML(EventTime, [Event])\n",
                "    SELECT t.e.value('@timestamp','datetime'), t.e.query('.') \n",
                "    FROM @TargetData.nodes('/RingBufferTarget/event') AS t(e);\n",
                "\n",
                ";WITH EventInfo \n",
                "AS \n",
                "( \n",
                "    SELECT  \n",
                "        t.[EventTime] as [Time]\n",
                "        ,t.[Event].value('(/event[1]/data[@name=\"database_id\"]/value/text())[1]' \n",
                "            ,'smallint') AS [DB] \n",
                "        ,t.[Event].value('(/event[1]/data[@name=\"duration\"]/value/text())[1]' \n",
                "            ,'bigint') AS [Duration]\n",
                "    FROM \n",
                "        #tmpXML t\n",
                ") \n",
                "SELECT \n",
                "    MONTH([Time]) as [Month]\n",
                "    ,DAY([Time]) as [Day]\n",
                "    ,DATEPART(hour,[Time]) as [Hour]\n",
                "    ,DATEPART(minute,[Time]) as [Minute]\n",
                "    ,[DB]\n",
                "    ,COUNT(*) as [Latch Count]\n",
                "    ,CONVERT(DECIMAL(15,3),SUM(Duration / 1000.)) as [Duration (MS)] \n",
                "FROM \n",
                "    EventInfo ei  \n",
                "GROUP BY\n",
                "    MONTH([Time]),DAY([Time]),DATEPART(hour,[Time]),DATEPART(minute,[Time]),[DB]\n",
                "ORDER BY\n",
                "    [Month],[Day],[Hour],[Minute],[DB]\n",
                "OPTION (RECOMPILE, MAXDOP 1);  "
            ],
            "metadata": {
                "azdata_cell_guid": "3cd6ae2d-ec19-4535-958e-d32484787549",
                "language": "sql"
            },
            "outputs": [],
            "execution_count": null
        },
        {
            "cell_type": "markdown",
            "source": [
                "Stop the session"
            ],
            "metadata": {
                "azdata_cell_guid": "75993917-72db-4d62-bde8-b04cfd64b66c"
            },
            "attachments": {}
        },
        {
            "cell_type": "code",
            "source": [
                "ALTER EVENT SESSION [Latch Waits] \n",
                "ON SERVER\n",
                "STATE = STOP;"
            ],
            "metadata": {
                "azdata_cell_guid": "1e2d1cb8-8186-4648-be5c-a4a8b80e4aea",
                "language": "sql"
            },
            "outputs": [],
            "execution_count": null
        },
        {
            "cell_type": "markdown",
            "source": [
                "**Analyze page latch index statistics in users' databases**\n",
                "\n",
                "This is the simple version of the script. Look at sp\\_IndexAnalysis for more advanced version"
            ],
            "metadata": {
                "azdata_cell_guid": "5abdf521-1e92-4ec0-8203-106d31452377"
            },
            "attachments": {}
        },
        {
            "cell_type": "code",
            "source": [
                "SELECT \n",
                "    s.name + '.' + t.name AS [table]\n",
                "    ,i.index_id\n",
                "    ,i.name AS [index]\n",
                "    ,SUM(os.page_latch_wait_count) AS [latch count]\n",
                "    ,SUM(os.page_latch_wait_in_ms) AS [latch wait (ms)]\n",
                "FROM\n",
                "    sys.indexes i WITH (NOLOCK) JOIN sys.tables t WITH (NOLOCK) on \n",
                "        i.object_id = t.object_id\n",
                "    JOIN sys.schemas s WITH (NOLOCK) ON \n",
                "        t.schema_id = s.schema_id\n",
                "    CROSS APPLY\n",
                "        sys.dm_db_index_operational_stats\n",
                "        (\n",
                "            DB_ID()\n",
                "            ,t.object_id\n",
                "            ,i.index_id\n",
                "            ,0\n",
                "        ) os\n",
                "GROUP BY\n",
                "    s.name, t.name, i.name, i.index_id\n",
                "ORDER BY\n",
                "    SUM(os.page_latch_wait_in_ms) DESC\n",
                "OPTION (RECOMPILE, MAXDOP 1);"
            ],
            "metadata": {
                "azdata_cell_guid": "6a6e1b8e-83b9-4a5d-b0ba-8d86544460a4",
                "language": "sql"
            },
            "outputs": [],
            "execution_count": null
        }
    ]
}