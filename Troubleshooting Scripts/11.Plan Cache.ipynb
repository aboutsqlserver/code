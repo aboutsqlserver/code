{
    "metadata": {
        "kernelspec": {
            "name": "SQL",
            "display_name": "SQL",
            "language": "sql"
        },
        "language_info": {
            "name": "sql",
            "version": ""
        }
    },
    "nbformat_minor": 2,
    "nbformat": 4,
    "cells": [
        {
            "cell_type": "markdown",
            "source": [
                "**Troubleshooting Scripts - Plan Cache**\n",
                "\n",
                "Dmitri V. Korotkevitch (MCM, MVP)\n",
                "\n",
                "email: [dk@aboutsqlserver.com](mailto:dk@aboutsqlserver.com)      blog: [https://aboutsqlserver.com](https://aboutsqlserver.com/) code: [https://github.com/aboutsqlserver/code](https://github.com/aboutsqlserver/code)\n",
                "\n",
                "SQL Server Advanced Troubleshooting and Performance Tuning (O'Reilly, 2022)      ISBN: 978-1098101923"
            ],
            "metadata": {
                "azdata_cell_guid": "a37486c4-10f7-480c-9bdb-423ab8a1476d"
            },
            "attachments": {}
        },
        {
            "cell_type": "markdown",
            "source": [
                "**Check if _Optimize for Adhoc Workloads_ is enabled**"
            ],
            "metadata": {
                "azdata_cell_guid": "b3ea9629-1861-45d5-85dd-864fd4aee530"
            },
            "attachments": {}
        },
        {
            "cell_type": "code",
            "source": [
                "SELECT *\n",
                "FROM sys.configurations WITH (NOLOCK)\n",
                "WHERE name = 'optimize for ad hoc workloads'\n",
                "OPTION (MAXDOP 1, RECOMPILE);"
            ],
            "metadata": {
                "azdata_cell_guid": "c58462ea-6a8f-412a-a12f-d34ca6c9519a",
                "language": "sql"
            },
            "outputs": [],
            "execution_count": null
        },
        {
            "cell_type": "markdown",
            "source": [
                "**Enable _Optimize for Adhoc Workloads_**"
            ],
            "metadata": {
                "language": "sql",
                "azdata_cell_guid": "47a7fbbd-3e90-40e3-889e-c3b6ba06c707"
            },
            "attachments": {}
        },
        {
            "cell_type": "code",
            "source": [
                "EXEC sys.sp_configure N'show advanced options', N'1' RECONFIGURE WITH OVERRIDE\n",
                "GO\n",
                "EXEC sys.sp_configure N'optimize for ad hoc workloads', N'1' RECONFIGURE WITH OVERRIDE\n",
                "GO\n",
                "EXEC sys.sp_configure N'show advanced options', N'0'  RECONFIGURE WITH OVERRIDE\n",
                "GO"
            ],
            "metadata": {
                "language": "sql",
                "azdata_cell_guid": "b83eb226-6893-4264-aab6-710b35149e17"
            },
            "outputs": [],
            "execution_count": null
        },
        {
            "cell_type": "markdown",
            "source": [
                "**Ad-hoc Query Plans** \n",
                "\n",
                "First query returns total memory consumption of ad-hoc plans. Second query returns 25 largest ad-hoc plans cached"
            ],
            "metadata": {
                "azdata_cell_guid": "2f05e885-c743-4d10-9ec9-a6f7249118db"
            },
            "attachments": {}
        },
        {
            "cell_type": "code",
            "source": [
                "SELECT \n",
                "    CONVERT(DECIMAL(12,3),SUM(1. * p.size_in_bytes)/1024.) AS [Size (KB)]\n",
                "FROM \n",
                "    sys.dm_exec_cached_plans p WITH (NOLOCK)\n",
                "WHERE \n",
                "    p.objtype = 'Adhoc'\n",
                "OPTION (MAXDOP 1, RECOMPILE);\n",
                "\n",
                "SELECT TOP 25\n",
                "    DB_NAME(t.dbid) as [DB]\n",
                "    ,cp.usecounts\n",
                "    ,cp.plan_handle\n",
                "    ,t.[text] \n",
                "    ,cp.objtype\n",
                "    ,cp.size_in_bytes\n",
                "    ,CONVERT(DECIMAL(12,3),cp.size_in_bytes/1024.) as [Size (KB)]\n",
                "FROM\n",
                "    sys.dm_exec_cached_plans cp WITH (NOLOCK)\n",
                "        CROSS APPLY sys.dm_exec_sql_text(cp.plan_handle) t\n",
                "WHERE\t\n",
                "    cp.objtype = N'Adhoc'\n",
                "ORDER BY \n",
                "    cp.size_in_bytes DESC \n",
                "OPTION (MAXDOP 1, RECOMPILE);"
            ],
            "metadata": {
                "azdata_cell_guid": "443c6c76-6366-453d-8953-6fbb4cb6b62a",
                "language": "sql"
            },
            "outputs": [],
            "execution_count": null
        },
        {
            "cell_type": "markdown",
            "source": [
                "**Single-Used Plans**\n",
                "\n",
                "First query returns total memory consumption of single-used plans. Second query returns 25 single-used plans cached"
            ],
            "metadata": {
                "language": "sql",
                "azdata_cell_guid": "e9100f52-f667-4d2c-b390-2dfab5790a83"
            },
            "attachments": {}
        },
        {
            "cell_type": "code",
            "source": [
                "SELECT\n",
                "   COUNT(*) AS [Single-used plan count]\n",
                "   ,CONVERT(DECIMAL(10,3)\n",
                "      ,SUM(CONVERT(BIGINT,cp.size_in_bytes))/1024./1024.) \n",
                "          AS [Size (MB)]\n",
                "FROM\n",
                "   sys.dm_exec_cached_plans cp WITH (NOLOCK)\n",
                "WHERE\t\n",
                "   cp.objtype in (N'Adhoc', N'Prepared') AND \n",
                "   cp.usecounts = 1\n",
                "OPTION (MAXDOP 1, RECOMPILE);\n",
                "\n",
                "SELECT TOP 25\n",
                "    DB_NAME(t.dbid) as [DB]\n",
                "    ,cp.usecounts\n",
                "    ,cp.plan_handle\n",
                "    ,t.[text] \n",
                "    ,cp.objtype\n",
                "    ,cp.size_in_bytes\n",
                "    ,CONVERT(DECIMAL(12,3),cp.size_in_bytes/1024.) as [Size (KB)]\n",
                "FROM\n",
                "    sys.dm_exec_cached_plans cp WITH (NOLOCK)\n",
                "        CROSS APPLY sys.dm_exec_sql_text(cp.plan_handle) t\n",
                "WHERE\t\n",
                "    cp.cacheobjtype = N'Compiled Plan'\n",
                "    AND cp.objtype in (N'Adhoc', N'Prepared')\n",
                "    AND cp.usecounts = 1\n",
                "ORDER BY \n",
                "    cp.size_in_bytes DESC \n",
                "OPTION (MAXDOP 1, RECOMPILE);"
            ],
            "metadata": {
                "language": "sql",
                "azdata_cell_guid": "c96f5b1a-4b15-4ad9-9e0f-7df4b3d5a8f7",
                "tags": []
            },
            "outputs": [],
            "execution_count": null
        },
        {
            "cell_type": "markdown",
            "source": [
                "**Remove Plans From Plan Cache - Remove The Single Plan**\n",
                "\n",
                "Provide plan\\_handle as parameter"
            ],
            "metadata": {
                "language": "sql",
                "azdata_cell_guid": "3fb8b446-edb2-4e65-a4cf-099e8bab9175"
            },
            "attachments": {}
        },
        {
            "cell_type": "code",
            "source": [
                "DBCC FREEPROCCACHE(0x00) -- Replace with valid plan_handle"
            ],
            "metadata": {
                "language": "sql",
                "azdata_cell_guid": "baaba68c-4a00-4fc2-8c13-865c342413d8"
            },
            "outputs": [],
            "execution_count": null
        },
        {
            "cell_type": "markdown",
            "source": [
                "**Remove Plans From Plan Cache - Remove All Ad-Hoc Plans**"
            ],
            "metadata": {
                "language": "sql",
                "azdata_cell_guid": "c8a9cefc-517a-45ad-83cc-656409f694aa"
            },
            "attachments": {}
        },
        {
            "cell_type": "code",
            "source": [
                "DBCC FREESYSTEMCACHE('SQL Plans') WITH MARK_IN_USE_FOR_REMOVAL;"
            ],
            "metadata": {
                "azdata_cell_guid": "1eeba2df-7344-4565-84b9-9a777f56d946",
                "language": "sql"
            },
            "outputs": [],
            "execution_count": null
        },
        {
            "cell_type": "markdown",
            "source": [
                "**Get Number of Plan Cache Objects and Their Memory Usage**"
            ],
            "metadata": {
                "language": "sql",
                "azdata_cell_guid": "4588b2b2-8f02-41d1-a605-93ced0cf477a"
            },
            "attachments": {}
        },
        {
            "cell_type": "code",
            "source": [
                "-- Number of cached object and their memory usage grouped by type\n",
                "SELECT \n",
                "    cacheobjtype\n",
                "    ,objtype \n",
                "    ,COUNT(*) AS [Count]\n",
                "    ,CONVERT(DECIMAL(15,3),SUM(CONVERT(BIGINT,size_in_bytes))/1024./1024.) AS [Size (MB)] \n",
                "FROM \n",
                "    sys.dm_exec_cached_plans WITH (NOLOCK)\n",
                "GROUP BY \n",
                "    cacheobjtype, objtype\n",
                "ORDER BY\n",
                "    [Size (MB)] DESC\n",
                "OPTION (MAXDOP 1, RECOMPILE);"
            ],
            "metadata": {
                "language": "sql",
                "azdata_cell_guid": "c8c73625-7d92-42fb-bd4d-550f57cc1418"
            },
            "outputs": [],
            "execution_count": null
        }
    ]
}