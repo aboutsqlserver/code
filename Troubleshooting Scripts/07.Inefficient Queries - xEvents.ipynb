{
    "metadata": {
        "kernelspec": {
            "name": "SQL",
            "display_name": "SQL",
            "language": "sql"
        },
        "language_info": {
            "name": "sql",
            "version": ""
        }
    },
    "nbformat_minor": 2,
    "nbformat": 4,
    "cells": [
        {
            "cell_type": "markdown",
            "source": [
                "**Troubleshooting Scripts - Detecting Inefficient Queries with xEvents**\n",
                "\n",
                "Dmitri V. Korotkevitch (MCM, MVP)\n",
                "\n",
                "email: [dk@aboutsqlserver.com](mailto:dk@aboutsqlserver.com)      blog: [https://aboutsqlserver.com](https://aboutsqlserver.com/) code: [https://github.com/aboutsqlserver/code](https://github.com/aboutsqlserver/code)\n",
                "\n",
                "SQL Server Advanced Troubleshooting and Performance Tuning (O'Reilly, 2022)      ISBN: 978-1098101923"
            ],
            "metadata": {
                "azdata_cell_guid": "bb359ae5-22de-4407-9695-162f1f1ae6ac"
            },
            "attachments": {}
        },
        {
            "cell_type": "markdown",
            "source": [
                "**Capturing Expensive Queries In event\\_file Target**\n",
                "\n",
                "Capturing queries that consume more than 5,000ms of CPU time or issued more than 50,000 logical reads or writes. Change filters based on your workload\n",
                "\n",
                "Tune events and actions based on what you are trying to accomplish. Do not collect information you dont need.\n",
                "\n",
                "Change file location in event\\_file target"
            ],
            "metadata": {
                "azdata_cell_guid": "3e27f01f-fb8b-47df-85d1-984fcb987944"
            },
            "attachments": {}
        },
        {
            "cell_type": "code",
            "source": [
                "IF EXISTS (SELECT * FROM sys.server_event_sessions WHERE name = 'Expensive Queries')\n",
                "\tDROP EVENT SESSION [Expensive Queries] ON SERVER;\n",
                "GO\n",
                "\n",
                "CREATE EVENT SESSION [Expensive Queries] \n",
                "ON SERVER\n",
                "ADD EVENT sqlserver.sql_statement_completed\n",
                "(\n",
                "    ACTION\n",
                "    (\n",
                "        sqlserver.client_app_name\n",
                "        ,sqlserver.client_hostname\n",
                "        ,sqlserver.database_id\n",
                "        ,sqlserver.plan_handle\n",
                "        ,sqlserver.query_hash\n",
                "        ,sqlserver.query_plan_hash\n",
                "        ,sqlserver.sql_text\n",
                "        ,sqlserver.username\n",
                "    )    \n",
                "    WHERE\n",
                "    (\n",
                "        (\n",
                "            cpu_time >= 5000000 or -- Time in microseconds\n",
                "            logical_reads >= 50000 or\n",
                "            writes >= 50000\n",
                "        ) AND \n",
                "        sqlserver.is_system = 0 \n",
                "    ) \n",
                ")\n",
                ",ADD EVENT sqlserver.sp_statement_completed\n",
                "(\n",
                "    ACTION\n",
                "    (\n",
                "        sqlserver.client_app_name\n",
                "        ,sqlserver.client_hostname\n",
                "        ,sqlserver.database_id\n",
                "        ,sqlserver.plan_handle\n",
                "        ,sqlserver.query_hash\n",
                "        ,sqlserver.query_plan_hash\n",
                "        ,sqlserver.sql_text\n",
                "        ,sqlserver.username\n",
                "    )    \n",
                "    WHERE\n",
                "    (\n",
                "        (\n",
                "            cpu_time >= 5000000 or -- Time in microseconds\n",
                "            logical_reads >= 50000 or\n",
                "            writes >= 50000\n",
                "        ) AND \n",
                "        sqlserver.is_system = 0 \n",
                "    ) \n",
                ")\n",
                "ADD TARGET package0.event_file\n",
                "(\n",
                "    SET FILENAME = 'C:\\ExtEvents\\Expensive Queries.xel'\n",
                ")\n",
                "WITH\n",
                "(\n",
                "    event_retention_mode=allow_single_event_loss\n",
                "    ,max_dispatch_latency=30 seconds\n",
                ");"
            ],
            "metadata": {
                "azdata_cell_guid": "87af5a27-c930-49e0-8d8d-45c68d79d7e3",
                "language": "sql"
            },
            "outputs": [],
            "execution_count": null
        },
        {
            "cell_type": "markdown",
            "source": [
                "Start the session.\n",
                "\n",
                "It adds the overhead. Do not keep it running permanently"
            ],
            "metadata": {
                "azdata_cell_guid": "d4052414-9f17-49ee-8fd8-571769ca5400"
            },
            "attachments": {}
        },
        {
            "cell_type": "code",
            "source": [
                "ALTER EVENT SESSION [Expensive Queries] ON SERVER STATE = START;"
            ],
            "metadata": {
                "azdata_cell_guid": "94736930-32f8-4270-ad0e-14bdc9be5490",
                "language": "sql"
            },
            "outputs": [],
            "execution_count": null
        },
        {
            "cell_type": "markdown",
            "source": [
                "Stop the session"
            ],
            "metadata": {
                "azdata_cell_guid": "c34093d8-453e-48ba-a163-0f009de55d98"
            },
            "attachments": {}
        },
        {
            "cell_type": "code",
            "source": [
                "ALTER EVENT SESSION [Expensive Queries] ON SERVER STATE = STOP;"
            ],
            "metadata": {
                "azdata_cell_guid": "aaacc040-880a-4edb-93ee-3a38772338ca",
                "language": "sql"
            },
            "outputs": [],
            "execution_count": null
        },
        {
            "cell_type": "markdown",
            "source": [
                "**SQL Server 2017+.** Parse the results. This is resource intensive and can take some time with large amount of data.\n",
                "\n",
                "Do not parse unnecesary information"
            ],
            "metadata": {
                "azdata_cell_guid": "dd2fbb3a-5f78-4c6a-bf93-af9e1e8ff37c"
            },
            "attachments": {}
        },
        {
            "cell_type": "code",
            "source": [
                "IF OBJECT_ID(N'tempdb..#EventData') IS NOT NULL\n",
                "\tDROP TABLE #EventData;\n",
                "\n",
                "IF OBJECT_ID(N'tempdb..#Queries') IS NOT NULL\n",
                "\tDROP TABLE #Queries;\n",
                "GO\n",
                "\n",
                "CREATE TABLE #EventData\n",
                "(\n",
                "  event_data XML NOT NULL,\n",
                "  file_name NVARCHAR(260) NOT NULL,\n",
                "  file_offset BIGINT NOT NULL,\n",
                "  timestamp_utc datetime2(7) NOT NULL -- SQL Server 2017+\n",
                ");\n",
                "\n",
                "INSERT INTO #EventData(event_data, file_name, file_offset, timestamp_utc)\n",
                "  SELECT CONVERT(XML,event_data), file_name, file_offset, timestamp_utc \n",
                "  FROM sys.fn_xe_file_target_read_file\n",
                "    ('c:\\extevents\\Expensive Queries*.xel',NULL,NULL,NULL);\n",
                "\n",
                ";WITH EventInfo([Event],[Event Time],[DB],[Statement],[SQL],[User Name]\n",
                "  ,[Client],[App],[CPU Time],[Duration],[Logical Reads]\n",
                "  ,[Physical Reads],[Writes],[Rows],[Query Hash],[Plan Hash]\n",
                "  ,[PlanHandle],[Stmt Offset],[Stmt Offset End],File_Name,File_Offset)\n",
                "AS\n",
                "(\n",
                "  SELECT\n",
                "    event_data.value('/event[1]/@name','SYSNAME') AS [Event]\n",
                "    ,timestamp_utc AS [Event Time] -- SQL Server 2017+\n",
                "    /*,event_data.value('/event[1]/@timestamp','DATETIME') \n",
                "        AS [Event Time] -- Prior SQL Server 2017 */\n",
                "    ,event_data.value('((/event[1]/action[@name=\"database_id\"]/value/text())[1])'\n",
                "         ,'INT') AS [DB]\n",
                "    ,event_data.value('((/event[1]/data[@name=\"statement\"]/value/text())[1])'\n",
                "         ,'NVARCHAR(MAX)') AS [Statement]\n",
                "    ,event_data.value('((/event[1]/action[@name=\"sql_text\"]/value/text())[1])'\n",
                "         ,'NVARCHAR(MAX)') AS [SQL]\n",
                "    ,event_data.value('((/event[1]/action[@name=\"username\"]/value/text())[1])'\n",
                "         ,'NVARCHAR(255)') AS [User Name]\n",
                "    ,event_data.value('((/event[1]/action[@name=\"client_hostname\"]/value/text())[1])'\n",
                "         ,'NVARCHAR(255)') AS [Client]\n",
                "    ,event_data.value('((/event[1]/action[@name=\"client_app_name\"]/value/text())[1])'\n",
                "         ,'NVARCHAR(255)') AS [App]\n",
                "    ,event_data.value('((/event[1]/data[@name=\"cpu_time\"]/value/text())[1])'\n",
                "         ,'BIGINT') AS [CPU Time]\n",
                "    ,event_data.value('((/event[1]/data[@name=\"duration\"]/value/text())[1])'\n",
                "         ,'BIGINT') AS [Duration]\n",
                "    ,event_data.value('((/event[1]/data[@name=\"logical_reads\"]/value/text())[1])'\n",
                "         ,'INT') AS [Logical Reads]\n",
                "    ,event_data.value('((/event[1]/data[@name=\"physical_reads\"]/value/text())[1])'\n",
                "         ,'INT') AS [Physical Reads]\n",
                "    ,event_data.value('((/event[1]/data[@name=\"writes\"]/value/text())[1])'\n",
                "         ,'INT') AS [Writes]\n",
                "    ,event_data.value('((/event[1]/data[@name=\"row_count\"]/value/text())[1])'\n",
                "         ,'INT') AS [Rows]\n",
                "    ,event_data.value('xs:hexBinary(((/event[1]/action[@name=\"query_hash\"]/value/text())[1]))'\n",
                "         ,'BINARY(8)') AS [Query Hash]\n",
                "    ,event_data.value('xs:hexBinary(((/event[1]/action[@name=\"query_plan_hash\"]/value/text())[1]))'\n",
                "         ,'BINARY(8)') AS [Plan Hash]\n",
                "    ,event_data.value('xs:hexBinary(((/event[1]/action[@name=\"plan_handle\"]/value/text())[1]))'\n",
                "         ,'VARBINARY(64)') AS [PlanHandle]\n",
                "    ,event_data.value('((/event[1]/data[@name=\"offset\"]/value/text())[1])'\n",
                "         ,'INT') AS [Stmt Offset]    \n",
                "    ,event_data.value('((/event[1]/data[@name=\"offset_end\"]/value/text())[1])'\n",
                "         ,'INT') AS [Stmt Offset End]\n",
                "    ,file_name\n",
                "    ,file_offset\n",
                "  FROM \n",
                "    #EventData \n",
                ")\n",
                "SELECT \n",
                "  ei.*\n",
                "  ,TRY_CONVERT(XML,qp.Query_Plan) AS [Plan]\n",
                "INTO #Queries\n",
                "FROM \n",
                "  EventInfo ei \n",
                "    OUTER APPLY \n",
                "      sys.dm_exec_text_query_plan\n",
                "      (\n",
                "        ei.PlanHandle\n",
                "        ,ei.[Stmt Offset]\n",
                "        ,ei.[Stmt Offset End]\n",
                "      ) qp\n",
                "OPTION (MAXDOP 1, RECOMPILE);\n",
                "\n",
                "SELECT TOP 100 * FROM #Queries;\n",
                ""
            ],
            "metadata": {
                "azdata_cell_guid": "e6ec042f-c0ca-4083-9a62-0fabee223391",
                "language": "sql"
            },
            "outputs": [],
            "execution_count": null
        },
        {
            "cell_type": "markdown",
            "source": [
                "**SQL Server 2012 - 2016.** Parse the results. This is resource intensive and can take some time with large amount of data.\n",
                "\n",
                "Do not parse unnecesary information"
            ],
            "metadata": {
                "azdata_cell_guid": "a07b5e9d-2e0d-4519-ae29-f96dcae0cbcf"
            },
            "attachments": {}
        },
        {
            "cell_type": "code",
            "source": [
                "IF OBJECT_ID(N'tempdb..#EventData') IS NOT NULL\n",
                "\tDROP TABLE #EventData;\n",
                "\n",
                "IF OBJECT_ID(N'tempdb..#Queries') IS NOT NULL\n",
                "\tDROP TABLE #Queries;\n",
                "GO\n",
                "\n",
                "CREATE TABLE #EventData\n",
                "(\n",
                "  event_data XML NOT NULL,\n",
                "  file_name NVARCHAR(260) NOT NULL,\n",
                "  file_offset BIGINT NOT NULL\n",
                ");\n",
                "\n",
                "INSERT INTO #EventData(event_data, file_name, file_offset)\n",
                "  SELECT CONVERT(XML,event_data), file_name, file_offset \n",
                "  FROM sys.fn_xe_file_target_read_file\n",
                "    ('c:\\extevents\\Expensive Queries*.xel',NULL,NULL,NULL);\n",
                "\n",
                ";WITH EventInfo([Event],[Event Time],[DB],[Statement],[SQL],[User Name]\n",
                "  ,[Client],[App],[CPU Time],[Duration],[Logical Reads]\n",
                "  ,[Physical Reads],[Writes],[Rows],[Query Hash],[Plan Hash]\n",
                "  ,[PlanHandle],[Stmt Offset],[Stmt Offset End],File_Name,File_Offset)\n",
                "AS\n",
                "(\n",
                "  SELECT\n",
                "    event_data.value('/event[1]/@name','SYSNAME') AS [Event]\n",
                "    ,event_data.value('/event[1]/@timestamp','DATETIME') \n",
                "        AS [Event Time] \n",
                "    ,event_data.value('((/event[1]/action[@name=\"database_id\"]/value/text())[1])'\n",
                "         ,'INT') AS [DB]\n",
                "    ,event_data.value('((/event[1]/data[@name=\"statement\"]/value/text())[1])'\n",
                "         ,'NVARCHAR(MAX)') AS [Statement]\n",
                "    ,event_data.value('((/event[1]/action[@name=\"sql_text\"]/value/text())[1])'\n",
                "         ,'NVARCHAR(MAX)') AS [SQL]\n",
                "    ,event_data.value('((/event[1]/action[@name=\"username\"]/value/text())[1])'\n",
                "         ,'NVARCHAR(255)') AS [User Name]\n",
                "    ,event_data.value('((/event[1]/action[@name=\"client_hostname\"]/value/text())[1])'\n",
                "         ,'NVARCHAR(255)') AS [Client]\n",
                "    ,event_data.value('((/event[1]/action[@name=\"client_app_name\"]/value/text())[1])'\n",
                "         ,'NVARCHAR(255)') AS [App]\n",
                "    ,event_data.value('((/event[1]/data[@name=\"cpu_time\"]/value/text())[1])'\n",
                "         ,'BIGINT') AS [CPU Time]\n",
                "    ,event_data.value('((/event[1]/data[@name=\"duration\"]/value/text())[1])'\n",
                "         ,'BIGINT') AS [Duration]\n",
                "    ,event_data.value('((/event[1]/data[@name=\"logical_reads\"]/value/text())[1])'\n",
                "         ,'INT') AS [Logical Reads]\n",
                "    ,event_data.value('((/event[1]/data[@name=\"physical_reads\"]/value/text())[1])'\n",
                "         ,'INT') AS [Physical Reads]\n",
                "    ,event_data.value('((/event[1]/data[@name=\"writes\"]/value/text())[1])'\n",
                "         ,'INT') AS [Writes]\n",
                "    ,event_data.value('((/event[1]/data[@name=\"row_count\"]/value/text())[1])'\n",
                "         ,'INT') AS [Rows]\n",
                "    ,event_data.value('xs:hexBinary(((/event[1]/action[@name=\"query_hash\"]/value/text())[1]))'\n",
                "         ,'BINARY(8)') AS [Query Hash]\n",
                "    ,event_data.value('xs:hexBinary(((/event[1]/action[@name=\"query_plan_hash\"]/value/text())[1]))'\n",
                "         ,'BINARY(8)') AS [Plan Hash]\n",
                "    ,event_data.value('xs:hexBinary(((/event[1]/action[@name=\"plan_handle\"]/value/text())[1]))'\n",
                "         ,'VARBINARY(64)') AS [PlanHandle]\n",
                "    ,event_data.value('((/event[1]/data[@name=\"offset\"]/value/text())[1])'\n",
                "         ,'INT') AS [Stmt Offset]    \n",
                "    ,event_data.value('((/event[1]/data[@name=\"offset_end\"]/value/text())[1])'\n",
                "         ,'INT') AS [Stmt Offset End]\n",
                "    ,file_name\n",
                "    ,file_offset\n",
                "  FROM \n",
                "    #EventData \n",
                ")\n",
                "SELECT \n",
                "  ei.*\n",
                "  ,TRY_CONVERT(XML,qp.Query_Plan) AS [Plan]\n",
                "INTO #Queries\n",
                "FROM \n",
                "  EventInfo ei \n",
                "    OUTER APPLY \n",
                "      sys.dm_exec_text_query_plan\n",
                "      (\n",
                "        ei.PlanHandle\n",
                "        ,ei.[Stmt Offset]\n",
                "        ,ei.[Stmt Offset End]\n",
                "      ) qp\n",
                "OPTION (MAXDOP 1, RECOMPILE);\n",
                "\n",
                "SELECT TOP 100 * FROM #Queries;"
            ],
            "metadata": {
                "azdata_cell_guid": "321c4945-1ed5-42e8-aaa4-aaa940bee27d",
                "language": "sql"
            },
            "outputs": [],
            "execution_count": null
        },
        {
            "cell_type": "markdown",
            "source": [
                "**Capturing Expensive Queries In ring\\_buffer Target**  \n",
                "\n",
                "Capturing queries that consume more than 1,000ms of CPU time or issued more than 10,000 logical reads or writes. Change filters based on your workload\n",
                "\n",
                "Tune events and actions based on what you are trying to accomplish. Do not collect information you dont need.\n",
                "\n",
                "This session is using ring\\_buffer target and can be used for quick profiling (should not run more than a couple minutes)"
            ],
            "metadata": {
                "azdata_cell_guid": "4fffeb49-cf4f-4f3e-9dfa-321bb689da96"
            },
            "attachments": {}
        },
        {
            "cell_type": "code",
            "source": [
                "IF EXISTS (SELECT * FROM sys.server_event_sessions WHERE name = 'Query Profiling')\n",
                "\tDROP EVENT SESSION [Query Profiling] ON SERVER;\n",
                "GO\n",
                "\n",
                "CREATE EVENT SESSION [Query Profiling] \n",
                "ON SERVER\n",
                "ADD EVENT\n",
                "    sqlserver.sql_statement_completed\n",
                "    (\n",
                "        ACTION\n",
                "        (\n",
                "            sqlserver.client_app_name\n",
                "            ,sqlserver.client_hostname\n",
                "            ,sqlserver.database_id\n",
                "            ,sqlserver.plan_handle\n",
                "\t\t\t,sqlserver.query_hash\n",
                "\t\t\t,sqlserver.query_plan_hash\n",
                "            ,sqlserver.sql_text\n",
                "            ,sqlserver.username\n",
                "        )    \n",
                "        WHERE\n",
                "        (\n",
                "            (\n",
                "                cpu_time >= 1000000 or -- Time in microseconds\n",
                "                logical_reads >= 10000 or\n",
                "                writes >= 10000\n",
                "            ) AND \n",
                "            sqlserver.is_system = 0 \n",
                "        ) \n",
                "    )\n",
                ",ADD EVENT\n",
                "\tsqlserver.sp_statement_completed\n",
                "    (\n",
                "        ACTION\n",
                "        (\n",
                "            sqlserver.client_app_name\n",
                "            ,sqlserver.client_hostname\n",
                "            ,sqlserver.database_id\n",
                "            ,sqlserver.plan_handle\n",
                "\t\t\t,sqlserver.query_hash\n",
                "\t\t\t,sqlserver.query_plan_hash\n",
                "            ,sqlserver.sql_text\n",
                "            ,sqlserver.username\n",
                "        )    \n",
                "        WHERE\n",
                "        (\n",
                "            (\n",
                "                cpu_time >= 1000000 or -- Time in microseconds\n",
                "                logical_reads >= 10000 or\n",
                "                writes >= 10000\n",
                "            ) AND \n",
                "            sqlserver.is_system = 0 \n",
                "        ) \n",
                "    )\n",
                "ADD TARGET package0.ring_buffer\n",
                "(SET max_events_limit=0, max_memory=4096)\n",
                "WITH\n",
                "    (\n",
                "        event_retention_mode=allow_single_event_loss\n",
                "        ,max_dispatch_latency=30 seconds\n",
                "    );"
            ],
            "metadata": {
                "azdata_cell_guid": "978cf225-c80b-41e5-ae17-4ad78e47a886",
                "language": "sql"
            },
            "outputs": [],
            "execution_count": null
        },
        {
            "cell_type": "markdown",
            "source": [
                "Start the session.\n",
                "\n",
                "It adds the overhead. Do not keep it running permanently.\n",
                "\n",
                "You need to keep the session active while parsing the results"
            ],
            "metadata": {
                "azdata_cell_guid": "7b0cb44e-0f58-41e1-8e85-611497277186"
            },
            "attachments": {}
        },
        {
            "cell_type": "code",
            "source": [
                "ALTER EVENT SESSION [Query Profiling] ON SERVER STATE = START;"
            ],
            "metadata": {
                "azdata_cell_guid": "bf62b292-78cf-4b5a-a99e-ec553bc71720",
                "language": "sql"
            },
            "outputs": [],
            "execution_count": null
        },
        {
            "cell_type": "markdown",
            "source": [
                "Check how many events were captured and lost due to sys.xe\\_session\\_target function limitations"
            ],
            "metadata": {
                "azdata_cell_guid": "d7056c3f-f134-41bb-81f5-3c3ffb0c5711"
            },
            "attachments": {}
        },
        {
            "cell_type": "code",
            "source": [
                "DECLARE \n",
                "    @TargetData XML;\n",
                "\n",
                "SELECT  \n",
                "    @TargetData = CONVERT(XML,st.target_data) \n",
                "FROM  \n",
                "    sys.dm_xe_sessions s WITH (NOLOCK)  \n",
                "        JOIN sys.dm_xe_session_targets st WITH(NOLOCK) ON \n",
                "            s.address = st.event_session_address \n",
                "WHERE  \n",
                "    s.name = 'Query Profiling' and st.target_name = 'ring_buffer';\n",
                "\n",
                ";WITH Cnt(target_count, node_count)\n",
                "AS\n",
                "(\n",
                "\tSELECT \n",
                "\t\t@TargetData.value('(RingBufferTarget/@eventCount)[1]','INT') \n",
                "        ,@TargetData.value('count(RingBufferTarget/event)', 'INT')\n",
                ")\n",
                "SELECT\n",
                "    target_count\n",
                "\t,node_count\n",
                "\t,target_count - node_count AS [lost]\n",
                "FROM\n",
                "\tCnt;"
            ],
            "metadata": {
                "azdata_cell_guid": "2212d948-7396-4288-9f46-0aec9afe10de",
                "language": "sql"
            },
            "outputs": [],
            "execution_count": null
        },
        {
            "cell_type": "markdown",
            "source": [
                "Parsing the results"
            ],
            "metadata": {
                "azdata_cell_guid": "5bb25cd8-0ddc-4ea3-900f-ef15b6d7ad71"
            },
            "attachments": {}
        },
        {
            "cell_type": "code",
            "source": [
                "IF OBJECT_ID(N'tempdb..#Events') IS NOT NULL\n",
                "\tDROP TABLE #Events;\n",
                "\n",
                "IF OBJECT_ID(N'tempdb..#Queries') IS NOT NULL\n",
                "\tDROP TABLE #Queries;\n",
                "GO\n",
                "\n",
                "CREATE TABLE #Events\n",
                "(\n",
                "    [Event Time] DATETIME2(7) NOT NULL,\n",
                "    event_data XML NOT NULL\n",
                ");\n",
                "\n",
                "DECLARE \n",
                "    @TargetData XML;\n",
                "\n",
                "SELECT  \n",
                "    @TargetData = CONVERT(XML,st.target_data) \n",
                "FROM  \n",
                "    sys.dm_xe_sessions s WITH (NOLOCK)  \n",
                "        JOIN sys.dm_xe_session_targets st WITH(NOLOCK) ON \n",
                "            s.address = st.event_session_address \n",
                "WHERE  \n",
                "    s.name = 'Query Profiling' AND st.target_name = 'ring_buffer';\n",
                "\n",
                "INSERT INTO #Events([Event Time], event_data)\n",
                "    SELECT \n",
                "        t.e.value('@timestamp','DATETIME2(7)'), t.e.query('.') \n",
                "    FROM \n",
                "        @TargetData.nodes('/RingBufferTarget/event') AS t(e); \n",
                "\n",
                ";WITH EventInfo([Event],[Event Time],[DB],[Statement],[SQL],[User Name]\n",
                "    ,[Client],[App],[CPU Time],[Duration],[Logical Reads]\n",
                "    ,[Physical Reads],[Writes],[Rows],[Query Hash],[Plan Hash]\n",
                "\t,[PlanHandle],[Stmt Offset],[Stmt Offset End])\n",
                "AS\n",
                "(\n",
                "  SELECT\n",
                "\tevent_data.value('/event[1]/@name','SYSNAME') AS [Event]\n",
                "\t,[Event Time] \n",
                "    ,event_data.value('((/event[1]/action[@name=\"database_id\"]/value/text())[1])'\n",
                "\t    ,'INT') AS [DB]\n",
                "    ,event_data.value('((/event[1]/data[@name=\"statement\"]/value/text())[1])'\n",
                "        ,'NVARCHAR(MAX)') AS [Statement]\n",
                "    ,event_data.value('((/event[1]/action[@name=\"sql_text\"]/value/text())[1])'\n",
                "        ,'NVARCHAR(MAX)') AS [SQL]\n",
                "    ,event_data.value('((/event[1]/action[@name=\"username\"]/value/text())[1])'\n",
                "        ,'NVARCHAR(255)') AS [User Name]\n",
                "    ,event_data.value('((/event[1]/action[@name=\"client_hostname\"]/value/text())[1])'\n",
                "        ,'NVARCHAR(255)') AS [Client]\n",
                "    ,event_data.value('((/event[1]/action[@name=\"client_app_name\"]/value/text())[1])'\n",
                "        ,'NVARCHAR(255)') AS [App]\n",
                "    ,event_data.value('((/event[1]/data[@name=\"cpu_time\"]/value/text())[1])'\n",
                "        ,'BIGINT') AS [CPU Time]\n",
                "    ,event_data.value('((/event[1]/data[@name=\"duration\"]/value/text())[1])'\n",
                "        ,'BIGINT') AS [Duration]\n",
                "    ,event_data.value('((/event[1]/data[@name=\"logical_reads\"]/value/text())[1])'\n",
                "        ,'INT') AS [Logical Reads]\n",
                "    ,event_data.value('((/event[1]/data[@name=\"physical_reads\"]/value/text())[1])'\n",
                "        ,'INT') AS [Physical Reads]\n",
                "    ,event_data.value('((/event[1]/data[@name=\"writes\"]/value/text())[1])'\n",
                "        ,'INT') AS [Writes]\n",
                "    ,event_data.value('((/event[1]/data[@name=\"row_count\"]/value/text())[1])'\n",
                "        ,'INT') AS [Rows]\n",
                "    ,event_data.value(\n",
                "        'xs:hexBinary(((/event[1]/action[@name=\"query_hash\"]/value/text())[1]))'\n",
                "            ,'BINARY(8)') AS [Query Hash]\n",
                "    ,event_data.value(\n",
                "        'xs:hexBinary(((/event[1]/action[@name=\"query_plan_hash\"]/value/text())[1]))'\n",
                "            ,'BINARY(8)') AS [Plan Hash]\n",
                "    ,event_data.value(\n",
                "        'xs:hexBinary(((/event[1]/action[@name=\"plan_handle\"]/value/text())[1]))'\n",
                "            ,'VARBINARY(64)') AS [PlanHandle]\n",
                "    ,event_data.value('((/event[1]/data[@name=\"offset\"]/value/text())[1])'\n",
                "\t    ,'INT') AS [Stmt Offset]    \n",
                "\t,event_data.value('((/event[1]/data[@name=\"offset_end\"]/value/text())[1])'\n",
                "\t    ,'INT') AS [Stmt Offset End]\n",
                "  FROM \n",
                "    #Events\n",
                ")\n",
                "SELECT \n",
                "  ei.*\n",
                "  ,TRY_CONVERT(XML,qp.Query_Plan) AS [Plan]\n",
                "INTO \n",
                "\t#Queries\n",
                "FROM \n",
                "    EventInfo ei \n",
                "\t\tOUTER APPLY \n",
                "\t\t    sys.dm_exec_text_query_plan\n",
                "            (\n",
                "                ei.PlanHandle\n",
                "                ,ei.[Stmt Offset]\n",
                "                ,ei.[Stmt Offset End]\n",
                "            ) qp\n",
                "OPTION (MAXDOP 1, RECOMPILE);\n",
                "\n",
                "SELECT TOP 100 * FROM #Queries;\n",
                ""
            ],
            "metadata": {
                "azdata_cell_guid": "62aaa096-36d1-454b-8ee0-a5c60addcceb",
                "language": "sql"
            },
            "outputs": [],
            "execution_count": null
        },
        {
            "cell_type": "markdown",
            "source": [
                "Stop the session"
            ],
            "metadata": {
                "azdata_cell_guid": "4315af69-e8bb-4b59-b9e9-b57fa8e2a460"
            },
            "attachments": {}
        },
        {
            "cell_type": "code",
            "source": [
                "ALTER EVENT SESSION [Query Profiling] ON SERVER STATE = STOP;"
            ],
            "metadata": {
                "azdata_cell_guid": "7c0d975e-e5a5-497f-b45b-5bb8d7e2e5da",
                "language": "sql"
            },
            "outputs": [],
            "execution_count": null
        }
    ]
}