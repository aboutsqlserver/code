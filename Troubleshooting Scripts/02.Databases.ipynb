{
    "metadata": {
        "kernelspec": {
            "name": "SQL",
            "display_name": "SQL",
            "language": "sql"
        },
        "language_info": {
            "name": "sql",
            "version": ""
        }
    },
    "nbformat_minor": 2,
    "nbformat": 4,
    "cells": [
        {
            "cell_type": "markdown",
            "source": [
                "**Troubleshooting Scripts - Database Information and Configuration**\n",
                "\n",
                "Dmitri V. Korotkevitch (MCM, MVP)\n",
                "\n",
                "email: [dk@aboutsqlserver.com](mailto:dk@aboutsqlserver.com)      blog: [https://aboutsqlserver.com](https://aboutsqlserver.com/) code: [https://github.com/aboutsqlserver/code](https://github.com/aboutsqlserver/code)\n",
                "\n",
                "SQL Server Advanced Troubleshooting and Performance Tuning (O'Reilly, 2022)      ISBN: 978-1098101923"
            ],
            "metadata": {
                "azdata_cell_guid": "84c8acc2-0f33-40e0-88d9-af2220a2da2f"
            },
            "attachments": {}
        },
        {
            "cell_type": "markdown",
            "source": [
                "**Database Configuration and Space Usage** (SQL Server 2016 SP2+)\n",
                "\n",
                "Pay attention to VLF configuration"
            ],
            "metadata": {
                "azdata_cell_guid": "f1c25158-e929-48c1-900c-676548e9700f"
            },
            "attachments": {}
        },
        {
            "cell_type": "code",
            "source": [
                "SELECT \n",
                "\tdb.name\n",
                "\t,SUSER_SNAME(db.owner_sid) AS [db_owner]\n",
                "\t,CONVERT(DECIMAL(16,3), ds.cntr_value / 1024.) AS total_database_size_mb\n",
                "\t,CONVERT(DECIMAL(16,3), ls.cntr_value / 1024.) AS log_size_mb\n",
                "\t,CONVERT(DECIMAL(16,3), lu.cntr_value / 1024) AS log_used_mb\n",
                "\t,CONVERT(DECIMAL(5,2), 1. * lu.cntr_value / ls.cntr_value * 100.) AS log_used_percent\n",
                "\t,li.*\n",
                "\t,DATABASEPROPERTYEX (db.name, 'LastGoodCheckDbTime') AS last_checkdb_date\n",
                "\t,fb.backup_finish_date as last_full_backup_date\n",
                "\t,ib.backup_finish_date as last_incremental_backup_date\n",
                "\t,lb.backup_finish_date as last_log_backup_date\n",
                "\t,db.*\n",
                "FROM \n",
                "\tsys.databases db WITH (NOLOCK)\n",
                "\t\tJOIN sys.dm_os_performance_counters AS ds WITH (NOLOCK) ON \n",
                "\t\t\tdb.name = ds.instance_name AND \n",
                "\t\t\tds.counter_name LIKE N'Data File(s) Size (KB)%'\n",
                "\t\tLEFT OUTER JOIN sys.dm_os_performance_counters ls WITH (NOLOCK) ON \n",
                "\t\t\tdb.name = ls.instance_name AND\n",
                "\t\t\tls.counter_name LIKE N'Log File(s) Size (KB)%' AND\n",
                "\t\t\tls.cntr_value > 0 \n",
                "\t\tLEFT OUTER JOIN sys.dm_os_performance_counters lu WITH (NOLOCK)ON \n",
                "\t\t\tdb.name = lu.instance_name AND\n",
                "\t\t\tlu.counter_name LIKE N'Log File(s) Used Size (KB)%'\n",
                "\t\tCROSS APPLY\n",
                "\t\t(\n",
                "\t\t\tSELECT \n",
                "\t\t\t\tCOUNT(*) AS vlf_count\n",
                "\t\t\t\t,MAX(vlf_size_mb) AS max_vlf_size_mb\n",
                "\t\t\t\t,MIN(vlf_size_mb) AS min_vlf_size_mb\n",
                "\t\t\t\t,AVG(vlf_size_mb) AS avg_vlf_size_mb\n",
                "\t\t\tFROM sys.dm_db_log_info(db.database_id) li\n",
                "\t\t) li\n",
                "\t\tOUTER APPLY\n",
                "\t\t(\n",
                "\t\t\tSELECT bs.backup_finish_date\n",
                "\t\t\tFROM msdb.dbo.backupset bs WITH (NOLOCK)\n",
                "\t\t\tWHERE bs.[database_name] = db.name AND bs.[type] = 'D'\n",
                "\t\t) fb\n",
                "\t\tOUTER APPLY\n",
                "\t\t(\n",
                "\t\t\tSELECT bs.backup_finish_date\n",
                "\t\t\tFROM msdb.dbo.backupset bs WITH (NOLOCK)\n",
                "\t\t\tWHERE bs.[database_name] = db.name AND bs.[type] = 'I'\n",
                "\t\t) ib\n",
                "\t\tOUTER APPLY\n",
                "\t\t(\n",
                "\t\t\tSELECT bs.backup_finish_date\n",
                "\t\t\tFROM msdb.dbo.backupset bs WITH (NOLOCK)\n",
                "\t\t\tWHERE bs.[database_name] = db.name AND bs.[type] = 'L'\n",
                "\t\t) lb\n",
                "ORDER BY \n",
                "\tdb.[database_id] \n",
                "OPTION (MAXDOP 1, RECOMPILE);"
            ],
            "metadata": {
                "language": "sql",
                "azdata_cell_guid": "cf8b8361-ce81-457f-a7cf-b481a581c8b0",
                "tags": []
            },
            "outputs": [],
            "execution_count": null
        },
        {
            "cell_type": "markdown",
            "source": [
                "**Database Configuration and Space Usage** (prior SQL Server 2016 SP2+)"
            ],
            "metadata": {
                "language": "sql",
                "azdata_cell_guid": "76e937c9-9d87-4197-94ad-b51929b73b54"
            },
            "attachments": {}
        },
        {
            "cell_type": "code",
            "source": [
                "SELECT \n",
                "\tSUSER_SNAME(db.owner_sid) AS [db_owner]\n",
                "\t,CONVERT(DECIMAL(16,3), ds.cntr_value / 1024.) AS total_database_size_mb\n",
                "\t,CONVERT(DECIMAL(16,3), ls.cntr_value / 1024.) AS log_size_mb\n",
                "\t,CONVERT(DECIMAL(16,3), lu.cntr_value / 1024) AS log_used_mb\n",
                "\t,CONVERT(DECIMAL(5,2), 1. * lu.cntr_value / ls.cntr_value * 100.) AS log_used_percent\n",
                "\t,db.*\n",
                "FROM \n",
                "\tsys.databases db WITH (NOLOCK)\n",
                "\t\tJOIN sys.dm_os_performance_counters AS ds WITH (NOLOCK) ON \n",
                "\t\t\tdb.name = ds.instance_name AND \n",
                "\t\t\tds.counter_name LIKE N'Data File(s) Size (KB)%'\n",
                "\t\tLEFT OUTER JOIN sys.dm_os_performance_counters ls WITH (NOLOCK) ON \n",
                "\t\t\tdb.name = ls.instance_name AND\n",
                "\t\t\tls.counter_name LIKE N'Log File(s) Size (KB)%' AND\n",
                "\t\t\tls.cntr_value > 0 \n",
                "\t\tLEFT OUTER JOIN sys.dm_os_performance_counters lu WITH (NOLOCK)ON \n",
                "\t\t\tdb.name = lu.instance_name AND\n",
                "\t\t\tlu.counter_name LIKE N'Log File(s) Used Size (KB)%'\n",
                "ORDER BY \n",
                "\tdb.[database_id] \n",
                "OPTION (MAXDOP 1, RECOMPILE);"
            ],
            "metadata": {
                "azdata_cell_guid": "e749587a-e150-4aac-990e-081808777b72",
                "language": "sql"
            },
            "outputs": [],
            "execution_count": null
        },
        {
            "cell_type": "markdown",
            "source": [
                "**Database Files**\n",
                "\n",
                "Pay attention to:\n",
                "\n",
                "1\\. Uneven file sizes in the same filegroup\n",
                "\n",
                "2\\. Auto-growth in percent, especially in LOG files\n",
                "\n",
                "3\\. Non-balanced auto-growth parameters across the  files in the same filegroup"
            ],
            "metadata": {
                "language": "sql",
                "azdata_cell_guid": "10b4004b-0875-4919-9739-ee8eaebf4d4e"
            },
            "attachments": {}
        },
        {
            "cell_type": "code",
            "source": [
                "IF OBJECT_ID('tempdb..#Info') IS NOT NULL\n",
                "    DROP TABLE #Info;\n",
                "GO\n",
                "\n",
                "CREATE TABLE #Info\n",
                "(\n",
                "\tdatabase_id SMALLINT NULL,\n",
                "\t[database] NVARCHAR(128) NULL,\n",
                "\tfile_id INT NOT NULL,\n",
                "\tfile_name SYSNAME NOT NULL,\n",
                "\t[filegroup] SYSNAME NULL,\n",
                "\ttype_desc NVARCHAR(60) NULL,\n",
                "\tstate_desc NVARCHAR(60) NULL,\n",
                "\tsize_mb INT NULL,\n",
                "\tspace_used_mb INT NULL,\n",
                "\tspace_used_percent DECIMAL(5, 3) NULL,\n",
                "\tmax_size_mb INT NULL,\n",
                "\tis_percent_growth BIT NOT NULL,\n",
                "\tgrowth_percent INT NULL,\n",
                "\tgrowth_mb INT NULL,\n",
                "\tphysical_name NVARCHAR(260) NULL\n",
                ");\n",
                "\n",
                "EXEC master..sp_MSforeachdb \n",
                "N'USE[?];\n",
                "INSERT INTO #Info(database_id,[database],file_id,file_name,[filegroup],type_desc,state_desc\n",
                "\t,size_mb,space_used_mb,space_used_percent,max_size_mb,is_percent_growth,growth_percent,growth_mb,physical_name)\n",
                "SELECT \n",
                "\tDB_ID(''?'') AS [database_id]\n",
                "\t,DB_NAME() AS [database]\n",
                "    ,df.file_id\n",
                "\t,df.[name] as file_name\n",
                "\t,fg.name as filegroup\n",
                "\t,df.type_desc\n",
                "\t,df.state_desc\n",
                "\t,CONVERT(INT, df.size / 128.0) AS size_mb\n",
                "\t,CONVERT(INT,FILEPROPERTY(df.name, ''SpaceUsed'') / 128.) as space_used_mb\n",
                "\t,CONVERT(DECIMAL(5,3),100. * CONVERT(INT,FILEPROPERTY(df.name, ''SpaceUsed'')) / df.size) as space_used_percent\n",
                "\t,IIF(max_size = -1,NULL,CONVERT(INT,df.max_size / 128.)) AS max_size_mb\n",
                "\t,df.is_percent_growth\n",
                "\t,IIF(df.is_percent_growth = 1,df.growth,NULL) AS growth_percent\n",
                "\t,IIF(df.is_percent_growth = 1,NULL,CONVERT(INT,df.growth / 128.)) AS growth_mb\n",
                "\t,df.physical_name\t\n",
                "FROM \n",
                "\tsys.database_files df WITH (NOLOCK)\n",
                "\t\tLEFT JOIN sys.filegroups fg WITH (NOLOCK) ON\n",
                "\t\t\tdf.data_space_id = fg.data_space_id';\n",
                "\n",
                "SELECT * \n",
                "FROM #Info\n",
                "ORDER BY [database_id], type_desc, [filegroup], file_id\n",
                "OPTION (MAXDOP 1,RECOMPILE);"
            ],
            "metadata": {
                "language": "sql",
                "azdata_cell_guid": "b9d1703a-0c2e-428a-9d28-f655083c726e"
            },
            "outputs": [],
            "execution_count": null
        },
        {
            "cell_type": "markdown",
            "source": [
                "**Database Scoped Configuration**"
            ],
            "metadata": {
                "language": "sql",
                "azdata_cell_guid": "70b244c8-c94f-4849-8771-7476ba2b6814"
            },
            "attachments": {}
        },
        {
            "cell_type": "code",
            "source": [
                "IF OBJECT_ID('tempdb..#DSC') IS NOT NULL\n",
                "    DROP TABLE #DSC;\n",
                "GO\n",
                "\n",
                "CREATE TABLE #DSC\n",
                "(\n",
                "\tdatabase_id SMALLINT NULL\n",
                "\t,[database] NVARCHAR(128) NULL\n",
                "\t,configuration_id INT NULL\n",
                "\t,name NVARCHAR(60) NULL\n",
                "\t,value SQL_VARIANT NULL\n",
                "\t,value_for_secondary SQL_VARIANT NULL\n",
                "\t,is_value_default BIT NULL\n",
                ");\n",
                "\n",
                "DECLARE\n",
                "\t@SQL NVARCHAR(MAX) = \n",
                "N'USE[?];\n",
                "INSERT INTO #DSC(database_id,[database],configuration_id,name,value,value_for_secondary,is_value_default)\n",
                "SELECT \n",
                "\tDB_ID(''?'') AS [database_id]\n",
                "\t,DB_NAME() AS [database]\n",
                "    ,configuration_id\n",
                "\t,name\n",
                "\t,value\n",
                "\t,value_for_secondary\n",
                "\t,' + IIF(LEFT(CONVERT(VARCHAR(32),SERVERPROPERTY('ProductVersion')),2) = '13','NULL','is_value_default') + N'\n",
                "FROM \n",
                "\tsys.database_scoped_configurations;'\n",
                "\n",
                "EXEC master..sp_MSforeachdb @SQL;\n",
                "\n",
                "SELECT * \n",
                "FROM #DSC\n",
                "WHERE database_id >= 5 and database_id <> 32767\n",
                "ORDER BY configuration_id, [database]\n",
                "OPTION (MAXDOP 1,RECOMPILE);"
            ],
            "metadata": {
                "language": "sql",
                "azdata_cell_guid": "3beed97d-40b5-4fef-b6e2-c8abc37b9d61"
            },
            "outputs": [],
            "execution_count": null
        }
    ]
}